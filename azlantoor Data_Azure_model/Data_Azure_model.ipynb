{
 "cells": [
  {
   "cell_type": "code",
   "execution_count": 1,
   "metadata": {
    "id": "36FxXsceHgsC"
   },
   "outputs": [],
   "source": [
    "# imprtant library\n",
    "import numpy as np\n",
    "import pandas as pd\n",
    "import matplotlib.pyplot as plt\n",
    "import seaborn as sns\n",
    "import warnings\n",
    "%matplotlib inline\n",
    "warnings.filterwarnings('ignore')"
   ]
  },
  {
   "cell_type": "code",
   "execution_count": 2,
   "metadata": {
    "id": "Z1Rw5LxWHuyU"
   },
   "outputs": [],
   "source": [
    "def explore_dataset(data, data_filename='Data csv'):\n",
    "    \"\"\"\n",
    "    In explore_dataset function we are doing all the things that given below:\n",
    "    - checking shape of dataset\n",
    "    - checking column names that exist in dataset\n",
    "    - checking null values \n",
    "    - checking overall information about dataset using info() method\n",
    "    - checking dtypes of columns\n",
    "    \"\"\"\n",
    "    print(\"=\"*100)\n",
    "    print(\"\\t\\t\\tEDA Dataset: {}\".format(data_filename))\n",
    "    print(\"=\"*100)\n",
    "    \n",
    "    print(\"Total Rows: {}\".format(data.shape[0]))\n",
    "    print(\"\\nTotal Columns: {}\".format(data.shape[1]))\n",
    "    print(\"\\nColumns: {}\".format(data.columns.tolist()))\n",
    "    print(\"\\nTotal Null Values: {}\".format(data.isnull().sum().sum()))\n",
    "    print(data.isnull().sum())\n",
    "    print(\" \")\n",
    "    print(\"\\t\\tOverall Information about Dataset\\n\")\n",
    "    print(data.info())\n",
    "    print(\" \")\n",
    "    print(\"\\t\\tDtype of all Columns\\n\")\n",
    "    print(data.dtypes)"
   ]
  },
  {
   "cell_type": "code",
   "execution_count": 3,
   "metadata": {
    "colab": {
     "base_uri": "https://localhost:8080/"
    },
    "id": "bL_HjcF-IKZz",
    "outputId": "7c59372e-0ffa-4459-c130-bcd2c4e48e53"
   },
   "outputs": [
    {
     "name": "stdout",
     "output_type": "stream",
     "text": [
      "====================================================================================================\n",
      "\t\t\tEDA Dataset: Data csv\n",
      "====================================================================================================\n",
      "Total Rows: 8371\n",
      "\n",
      "Total Columns: 17\n",
      "\n",
      "Columns: ['age', 'job', 'marital', 'education', 'default', 'balance', 'housing', 'loan', 'contact', 'day', 'month', 'duration', 'campaign', 'pdays', 'previous', 'poutcome', 'deposit']\n",
      "\n",
      "Total Null Values: 0\n",
      "age          0\n",
      "job          0\n",
      "marital      0\n",
      "education    0\n",
      "default      0\n",
      "balance      0\n",
      "housing      0\n",
      "loan         0\n",
      "contact      0\n",
      "day          0\n",
      "month        0\n",
      "duration     0\n",
      "campaign     0\n",
      "pdays        0\n",
      "previous     0\n",
      "poutcome     0\n",
      "deposit      0\n",
      "dtype: int64\n",
      " \n",
      "\t\tOverall Information about Dataset\n",
      "\n",
      "<class 'pandas.core.frame.DataFrame'>\n",
      "RangeIndex: 8371 entries, 0 to 8370\n",
      "Data columns (total 17 columns):\n",
      " #   Column     Non-Null Count  Dtype \n",
      "---  ------     --------------  ----- \n",
      " 0   age        8371 non-null   int64 \n",
      " 1   job        8371 non-null   object\n",
      " 2   marital    8371 non-null   object\n",
      " 3   education  8371 non-null   object\n",
      " 4   default    8371 non-null   object\n",
      " 5   balance    8371 non-null   int64 \n",
      " 6   housing    8371 non-null   object\n",
      " 7   loan       8371 non-null   object\n",
      " 8   contact    8371 non-null   object\n",
      " 9   day        8371 non-null   int64 \n",
      " 10  month      8371 non-null   object\n",
      " 11  duration   8371 non-null   int64 \n",
      " 12  campaign   8371 non-null   int64 \n",
      " 13  pdays      8371 non-null   int64 \n",
      " 14  previous   8371 non-null   int64 \n",
      " 15  poutcome   8371 non-null   object\n",
      " 16  deposit    8371 non-null   object\n",
      "dtypes: int64(7), object(10)\n",
      "memory usage: 1.1+ MB\n",
      "None\n",
      " \n",
      "\t\tDtype of all Columns\n",
      "\n",
      "age           int64\n",
      "job          object\n",
      "marital      object\n",
      "education    object\n",
      "default      object\n",
      "balance       int64\n",
      "housing      object\n",
      "loan         object\n",
      "contact      object\n",
      "day           int64\n",
      "month        object\n",
      "duration      int64\n",
      "campaign      int64\n",
      "pdays         int64\n",
      "previous      int64\n",
      "poutcome     object\n",
      "deposit      object\n",
      "dtype: object\n"
     ]
    }
   ],
   "source": [
    "df = pd.read_csv('data (3).csv')\n",
    "explore_dataset(df)"
   ]
  },
  {
   "cell_type": "code",
   "execution_count": 4,
   "metadata": {
    "colab": {
     "base_uri": "https://localhost:8080/",
     "height": 206
    },
    "id": "NBUWhjHhIl_U",
    "outputId": "4607df2b-0a79-4d38-f823-3bd1088ba4fa"
   },
   "outputs": [
    {
     "data": {
      "text/html": [
       "\n",
       "  <div id=\"df-4ad031b4-eacd-4632-97bc-b0659eb4f61f\">\n",
       "    <div class=\"colab-df-container\">\n",
       "      <div>\n",
       "<style scoped>\n",
       "    .dataframe tbody tr th:only-of-type {\n",
       "        vertical-align: middle;\n",
       "    }\n",
       "\n",
       "    .dataframe tbody tr th {\n",
       "        vertical-align: top;\n",
       "    }\n",
       "\n",
       "    .dataframe thead th {\n",
       "        text-align: right;\n",
       "    }\n",
       "</style>\n",
       "<table border=\"1\" class=\"dataframe\">\n",
       "  <thead>\n",
       "    <tr style=\"text-align: right;\">\n",
       "      <th></th>\n",
       "      <th>age</th>\n",
       "      <th>job</th>\n",
       "      <th>marital</th>\n",
       "      <th>education</th>\n",
       "      <th>default</th>\n",
       "      <th>balance</th>\n",
       "      <th>housing</th>\n",
       "      <th>loan</th>\n",
       "      <th>contact</th>\n",
       "      <th>day</th>\n",
       "      <th>month</th>\n",
       "      <th>duration</th>\n",
       "      <th>campaign</th>\n",
       "      <th>pdays</th>\n",
       "      <th>previous</th>\n",
       "      <th>poutcome</th>\n",
       "      <th>deposit</th>\n",
       "    </tr>\n",
       "  </thead>\n",
       "  <tbody>\n",
       "    <tr>\n",
       "      <th>0</th>\n",
       "      <td>38</td>\n",
       "      <td>technician</td>\n",
       "      <td>married</td>\n",
       "      <td>tertiary</td>\n",
       "      <td>no</td>\n",
       "      <td>127</td>\n",
       "      <td>yes</td>\n",
       "      <td>no</td>\n",
       "      <td>cellular</td>\n",
       "      <td>14</td>\n",
       "      <td>oct</td>\n",
       "      <td>113</td>\n",
       "      <td>1</td>\n",
       "      <td>50</td>\n",
       "      <td>2</td>\n",
       "      <td>success</td>\n",
       "      <td>no</td>\n",
       "    </tr>\n",
       "    <tr>\n",
       "      <th>1</th>\n",
       "      <td>41</td>\n",
       "      <td>housemaid</td>\n",
       "      <td>married</td>\n",
       "      <td>primary</td>\n",
       "      <td>no</td>\n",
       "      <td>365</td>\n",
       "      <td>no</td>\n",
       "      <td>no</td>\n",
       "      <td>cellular</td>\n",
       "      <td>8</td>\n",
       "      <td>aug</td>\n",
       "      <td>203</td>\n",
       "      <td>5</td>\n",
       "      <td>-1</td>\n",
       "      <td>0</td>\n",
       "      <td>unknown</td>\n",
       "      <td>no</td>\n",
       "    </tr>\n",
       "    <tr>\n",
       "      <th>2</th>\n",
       "      <td>39</td>\n",
       "      <td>management</td>\n",
       "      <td>single</td>\n",
       "      <td>tertiary</td>\n",
       "      <td>no</td>\n",
       "      <td>2454</td>\n",
       "      <td>yes</td>\n",
       "      <td>no</td>\n",
       "      <td>cellular</td>\n",
       "      <td>4</td>\n",
       "      <td>may</td>\n",
       "      <td>716</td>\n",
       "      <td>3</td>\n",
       "      <td>263</td>\n",
       "      <td>2</td>\n",
       "      <td>failure</td>\n",
       "      <td>yes</td>\n",
       "    </tr>\n",
       "    <tr>\n",
       "      <th>3</th>\n",
       "      <td>49</td>\n",
       "      <td>blue-collar</td>\n",
       "      <td>married</td>\n",
       "      <td>primary</td>\n",
       "      <td>no</td>\n",
       "      <td>6215</td>\n",
       "      <td>yes</td>\n",
       "      <td>no</td>\n",
       "      <td>cellular</td>\n",
       "      <td>11</td>\n",
       "      <td>may</td>\n",
       "      <td>549</td>\n",
       "      <td>1</td>\n",
       "      <td>-1</td>\n",
       "      <td>0</td>\n",
       "      <td>unknown</td>\n",
       "      <td>no</td>\n",
       "    </tr>\n",
       "    <tr>\n",
       "      <th>4</th>\n",
       "      <td>37</td>\n",
       "      <td>services</td>\n",
       "      <td>married</td>\n",
       "      <td>secondary</td>\n",
       "      <td>no</td>\n",
       "      <td>1694</td>\n",
       "      <td>yes</td>\n",
       "      <td>yes</td>\n",
       "      <td>cellular</td>\n",
       "      <td>29</td>\n",
       "      <td>jan</td>\n",
       "      <td>404</td>\n",
       "      <td>2</td>\n",
       "      <td>251</td>\n",
       "      <td>6</td>\n",
       "      <td>failure</td>\n",
       "      <td>no</td>\n",
       "    </tr>\n",
       "  </tbody>\n",
       "</table>\n",
       "</div>\n",
       "      <button class=\"colab-df-convert\" onclick=\"convertToInteractive('df-4ad031b4-eacd-4632-97bc-b0659eb4f61f')\"\n",
       "              title=\"Convert this dataframe to an interactive table.\"\n",
       "              style=\"display:none;\">\n",
       "        \n",
       "  <svg xmlns=\"http://www.w3.org/2000/svg\" height=\"24px\"viewBox=\"0 0 24 24\"\n",
       "       width=\"24px\">\n",
       "    <path d=\"M0 0h24v24H0V0z\" fill=\"none\"/>\n",
       "    <path d=\"M18.56 5.44l.94 2.06.94-2.06 2.06-.94-2.06-.94-.94-2.06-.94 2.06-2.06.94zm-11 1L8.5 8.5l.94-2.06 2.06-.94-2.06-.94L8.5 2.5l-.94 2.06-2.06.94zm10 10l.94 2.06.94-2.06 2.06-.94-2.06-.94-.94-2.06-.94 2.06-2.06.94z\"/><path d=\"M17.41 7.96l-1.37-1.37c-.4-.4-.92-.59-1.43-.59-.52 0-1.04.2-1.43.59L10.3 9.45l-7.72 7.72c-.78.78-.78 2.05 0 2.83L4 21.41c.39.39.9.59 1.41.59.51 0 1.02-.2 1.41-.59l7.78-7.78 2.81-2.81c.8-.78.8-2.07 0-2.86zM5.41 20L4 18.59l7.72-7.72 1.47 1.35L5.41 20z\"/>\n",
       "  </svg>\n",
       "      </button>\n",
       "      \n",
       "  <style>\n",
       "    .colab-df-container {\n",
       "      display:flex;\n",
       "      flex-wrap:wrap;\n",
       "      gap: 12px;\n",
       "    }\n",
       "\n",
       "    .colab-df-convert {\n",
       "      background-color: #E8F0FE;\n",
       "      border: none;\n",
       "      border-radius: 50%;\n",
       "      cursor: pointer;\n",
       "      display: none;\n",
       "      fill: #1967D2;\n",
       "      height: 32px;\n",
       "      padding: 0 0 0 0;\n",
       "      width: 32px;\n",
       "    }\n",
       "\n",
       "    .colab-df-convert:hover {\n",
       "      background-color: #E2EBFA;\n",
       "      box-shadow: 0px 1px 2px rgba(60, 64, 67, 0.3), 0px 1px 3px 1px rgba(60, 64, 67, 0.15);\n",
       "      fill: #174EA6;\n",
       "    }\n",
       "\n",
       "    [theme=dark] .colab-df-convert {\n",
       "      background-color: #3B4455;\n",
       "      fill: #D2E3FC;\n",
       "    }\n",
       "\n",
       "    [theme=dark] .colab-df-convert:hover {\n",
       "      background-color: #434B5C;\n",
       "      box-shadow: 0px 1px 3px 1px rgba(0, 0, 0, 0.15);\n",
       "      filter: drop-shadow(0px 1px 2px rgba(0, 0, 0, 0.3));\n",
       "      fill: #FFFFFF;\n",
       "    }\n",
       "  </style>\n",
       "\n",
       "      <script>\n",
       "        const buttonEl =\n",
       "          document.querySelector('#df-4ad031b4-eacd-4632-97bc-b0659eb4f61f button.colab-df-convert');\n",
       "        buttonEl.style.display =\n",
       "          google.colab.kernel.accessAllowed ? 'block' : 'none';\n",
       "\n",
       "        async function convertToInteractive(key) {\n",
       "          const element = document.querySelector('#df-4ad031b4-eacd-4632-97bc-b0659eb4f61f');\n",
       "          const dataTable =\n",
       "            await google.colab.kernel.invokeFunction('convertToInteractive',\n",
       "                                                     [key], {});\n",
       "          if (!dataTable) return;\n",
       "\n",
       "          const docLinkHtml = 'Like what you see? Visit the ' +\n",
       "            '<a target=\"_blank\" href=https://colab.research.google.com/notebooks/data_table.ipynb>data table notebook</a>'\n",
       "            + ' to learn more about interactive tables.';\n",
       "          element.innerHTML = '';\n",
       "          dataTable['output_type'] = 'display_data';\n",
       "          await google.colab.output.renderOutput(dataTable, element);\n",
       "          const docLink = document.createElement('div');\n",
       "          docLink.innerHTML = docLinkHtml;\n",
       "          element.appendChild(docLink);\n",
       "        }\n",
       "      </script>\n",
       "    </div>\n",
       "  </div>\n",
       "  "
      ],
      "text/plain": [
       "   age          job  marital  education default  balance housing loan  \\\n",
       "0   38   technician  married   tertiary      no      127     yes   no   \n",
       "1   41    housemaid  married    primary      no      365      no   no   \n",
       "2   39   management   single   tertiary      no     2454     yes   no   \n",
       "3   49  blue-collar  married    primary      no     6215     yes   no   \n",
       "4   37     services  married  secondary      no     1694     yes  yes   \n",
       "\n",
       "    contact  day month  duration  campaign  pdays  previous poutcome deposit  \n",
       "0  cellular   14   oct       113         1     50         2  success      no  \n",
       "1  cellular    8   aug       203         5     -1         0  unknown      no  \n",
       "2  cellular    4   may       716         3    263         2  failure     yes  \n",
       "3  cellular   11   may       549         1     -1         0  unknown      no  \n",
       "4  cellular   29   jan       404         2    251         6  failure      no  "
      ]
     },
     "execution_count": 4,
     "metadata": {},
     "output_type": "execute_result"
    }
   ],
   "source": [
    "df.head()"
   ]
  },
  {
   "cell_type": "code",
   "execution_count": 5,
   "metadata": {
    "colab": {
     "base_uri": "https://localhost:8080/",
     "height": 300
    },
    "id": "xVtdtYb8NGun",
    "outputId": "85cba611-4fad-4c07-f466-f376b8d90a16"
   },
   "outputs": [
    {
     "data": {
      "text/html": [
       "\n",
       "  <div id=\"df-0eaebae2-eb34-49aa-8c49-f71142d9c3ab\">\n",
       "    <div class=\"colab-df-container\">\n",
       "      <div>\n",
       "<style scoped>\n",
       "    .dataframe tbody tr th:only-of-type {\n",
       "        vertical-align: middle;\n",
       "    }\n",
       "\n",
       "    .dataframe tbody tr th {\n",
       "        vertical-align: top;\n",
       "    }\n",
       "\n",
       "    .dataframe thead th {\n",
       "        text-align: right;\n",
       "    }\n",
       "</style>\n",
       "<table border=\"1\" class=\"dataframe\">\n",
       "  <thead>\n",
       "    <tr style=\"text-align: right;\">\n",
       "      <th></th>\n",
       "      <th>age</th>\n",
       "      <th>balance</th>\n",
       "      <th>day</th>\n",
       "      <th>duration</th>\n",
       "      <th>campaign</th>\n",
       "      <th>pdays</th>\n",
       "      <th>previous</th>\n",
       "    </tr>\n",
       "  </thead>\n",
       "  <tbody>\n",
       "    <tr>\n",
       "      <th>count</th>\n",
       "      <td>8371.000000</td>\n",
       "      <td>8371.000000</td>\n",
       "      <td>8371.000000</td>\n",
       "      <td>8371.000000</td>\n",
       "      <td>8371.000000</td>\n",
       "      <td>8371.000000</td>\n",
       "      <td>8371.000000</td>\n",
       "    </tr>\n",
       "    <tr>\n",
       "      <th>mean</th>\n",
       "      <td>41.197467</td>\n",
       "      <td>1517.811134</td>\n",
       "      <td>15.588460</td>\n",
       "      <td>372.898698</td>\n",
       "      <td>2.512603</td>\n",
       "      <td>49.911958</td>\n",
       "      <td>0.823677</td>\n",
       "    </tr>\n",
       "    <tr>\n",
       "      <th>std</th>\n",
       "      <td>11.809300</td>\n",
       "      <td>3225.312218</td>\n",
       "      <td>8.406768</td>\n",
       "      <td>346.706743</td>\n",
       "      <td>2.734037</td>\n",
       "      <td>107.308417</td>\n",
       "      <td>2.315285</td>\n",
       "    </tr>\n",
       "    <tr>\n",
       "      <th>min</th>\n",
       "      <td>18.000000</td>\n",
       "      <td>-3058.000000</td>\n",
       "      <td>1.000000</td>\n",
       "      <td>2.000000</td>\n",
       "      <td>1.000000</td>\n",
       "      <td>-1.000000</td>\n",
       "      <td>0.000000</td>\n",
       "    </tr>\n",
       "    <tr>\n",
       "      <th>25%</th>\n",
       "      <td>32.000000</td>\n",
       "      <td>116.000000</td>\n",
       "      <td>8.000000</td>\n",
       "      <td>137.000000</td>\n",
       "      <td>1.000000</td>\n",
       "      <td>-1.000000</td>\n",
       "      <td>0.000000</td>\n",
       "    </tr>\n",
       "    <tr>\n",
       "      <th>50%</th>\n",
       "      <td>39.000000</td>\n",
       "      <td>532.000000</td>\n",
       "      <td>15.000000</td>\n",
       "      <td>255.000000</td>\n",
       "      <td>2.000000</td>\n",
       "      <td>-1.000000</td>\n",
       "      <td>0.000000</td>\n",
       "    </tr>\n",
       "    <tr>\n",
       "      <th>75%</th>\n",
       "      <td>49.000000</td>\n",
       "      <td>1694.000000</td>\n",
       "      <td>21.000000</td>\n",
       "      <td>504.000000</td>\n",
       "      <td>3.000000</td>\n",
       "      <td>2.000000</td>\n",
       "      <td>1.000000</td>\n",
       "    </tr>\n",
       "    <tr>\n",
       "      <th>max</th>\n",
       "      <td>95.000000</td>\n",
       "      <td>81204.000000</td>\n",
       "      <td>31.000000</td>\n",
       "      <td>3284.000000</td>\n",
       "      <td>63.000000</td>\n",
       "      <td>854.000000</td>\n",
       "      <td>58.000000</td>\n",
       "    </tr>\n",
       "  </tbody>\n",
       "</table>\n",
       "</div>\n",
       "      <button class=\"colab-df-convert\" onclick=\"convertToInteractive('df-0eaebae2-eb34-49aa-8c49-f71142d9c3ab')\"\n",
       "              title=\"Convert this dataframe to an interactive table.\"\n",
       "              style=\"display:none;\">\n",
       "        \n",
       "  <svg xmlns=\"http://www.w3.org/2000/svg\" height=\"24px\"viewBox=\"0 0 24 24\"\n",
       "       width=\"24px\">\n",
       "    <path d=\"M0 0h24v24H0V0z\" fill=\"none\"/>\n",
       "    <path d=\"M18.56 5.44l.94 2.06.94-2.06 2.06-.94-2.06-.94-.94-2.06-.94 2.06-2.06.94zm-11 1L8.5 8.5l.94-2.06 2.06-.94-2.06-.94L8.5 2.5l-.94 2.06-2.06.94zm10 10l.94 2.06.94-2.06 2.06-.94-2.06-.94-.94-2.06-.94 2.06-2.06.94z\"/><path d=\"M17.41 7.96l-1.37-1.37c-.4-.4-.92-.59-1.43-.59-.52 0-1.04.2-1.43.59L10.3 9.45l-7.72 7.72c-.78.78-.78 2.05 0 2.83L4 21.41c.39.39.9.59 1.41.59.51 0 1.02-.2 1.41-.59l7.78-7.78 2.81-2.81c.8-.78.8-2.07 0-2.86zM5.41 20L4 18.59l7.72-7.72 1.47 1.35L5.41 20z\"/>\n",
       "  </svg>\n",
       "      </button>\n",
       "      \n",
       "  <style>\n",
       "    .colab-df-container {\n",
       "      display:flex;\n",
       "      flex-wrap:wrap;\n",
       "      gap: 12px;\n",
       "    }\n",
       "\n",
       "    .colab-df-convert {\n",
       "      background-color: #E8F0FE;\n",
       "      border: none;\n",
       "      border-radius: 50%;\n",
       "      cursor: pointer;\n",
       "      display: none;\n",
       "      fill: #1967D2;\n",
       "      height: 32px;\n",
       "      padding: 0 0 0 0;\n",
       "      width: 32px;\n",
       "    }\n",
       "\n",
       "    .colab-df-convert:hover {\n",
       "      background-color: #E2EBFA;\n",
       "      box-shadow: 0px 1px 2px rgba(60, 64, 67, 0.3), 0px 1px 3px 1px rgba(60, 64, 67, 0.15);\n",
       "      fill: #174EA6;\n",
       "    }\n",
       "\n",
       "    [theme=dark] .colab-df-convert {\n",
       "      background-color: #3B4455;\n",
       "      fill: #D2E3FC;\n",
       "    }\n",
       "\n",
       "    [theme=dark] .colab-df-convert:hover {\n",
       "      background-color: #434B5C;\n",
       "      box-shadow: 0px 1px 3px 1px rgba(0, 0, 0, 0.15);\n",
       "      filter: drop-shadow(0px 1px 2px rgba(0, 0, 0, 0.3));\n",
       "      fill: #FFFFFF;\n",
       "    }\n",
       "  </style>\n",
       "\n",
       "      <script>\n",
       "        const buttonEl =\n",
       "          document.querySelector('#df-0eaebae2-eb34-49aa-8c49-f71142d9c3ab button.colab-df-convert');\n",
       "        buttonEl.style.display =\n",
       "          google.colab.kernel.accessAllowed ? 'block' : 'none';\n",
       "\n",
       "        async function convertToInteractive(key) {\n",
       "          const element = document.querySelector('#df-0eaebae2-eb34-49aa-8c49-f71142d9c3ab');\n",
       "          const dataTable =\n",
       "            await google.colab.kernel.invokeFunction('convertToInteractive',\n",
       "                                                     [key], {});\n",
       "          if (!dataTable) return;\n",
       "\n",
       "          const docLinkHtml = 'Like what you see? Visit the ' +\n",
       "            '<a target=\"_blank\" href=https://colab.research.google.com/notebooks/data_table.ipynb>data table notebook</a>'\n",
       "            + ' to learn more about interactive tables.';\n",
       "          element.innerHTML = '';\n",
       "          dataTable['output_type'] = 'display_data';\n",
       "          await google.colab.output.renderOutput(dataTable, element);\n",
       "          const docLink = document.createElement('div');\n",
       "          docLink.innerHTML = docLinkHtml;\n",
       "          element.appendChild(docLink);\n",
       "        }\n",
       "      </script>\n",
       "    </div>\n",
       "  </div>\n",
       "  "
      ],
      "text/plain": [
       "               age       balance          day     duration     campaign  \\\n",
       "count  8371.000000   8371.000000  8371.000000  8371.000000  8371.000000   \n",
       "mean     41.197467   1517.811134    15.588460   372.898698     2.512603   \n",
       "std      11.809300   3225.312218     8.406768   346.706743     2.734037   \n",
       "min      18.000000  -3058.000000     1.000000     2.000000     1.000000   \n",
       "25%      32.000000    116.000000     8.000000   137.000000     1.000000   \n",
       "50%      39.000000    532.000000    15.000000   255.000000     2.000000   \n",
       "75%      49.000000   1694.000000    21.000000   504.000000     3.000000   \n",
       "max      95.000000  81204.000000    31.000000  3284.000000    63.000000   \n",
       "\n",
       "             pdays     previous  \n",
       "count  8371.000000  8371.000000  \n",
       "mean     49.911958     0.823677  \n",
       "std     107.308417     2.315285  \n",
       "min      -1.000000     0.000000  \n",
       "25%      -1.000000     0.000000  \n",
       "50%      -1.000000     0.000000  \n",
       "75%       2.000000     1.000000  \n",
       "max     854.000000    58.000000  "
      ]
     },
     "execution_count": 5,
     "metadata": {},
     "output_type": "execute_result"
    }
   ],
   "source": [
    "# Descriptive Anaylsis\n",
    "# The## Exploratory Data Anaylsis describe method shows basic statistical characteristics of each numerical feature (int64 and float64 types):\n",
    "# number of non-missing values, mean, standard deviation,range, median, 0.25 and 0.75 quartiles. \n",
    "df.describe()"
   ]
  },
  {
   "cell_type": "code",
   "execution_count": 6,
   "metadata": {
    "colab": {
     "base_uri": "https://localhost:8080/",
     "height": 175
    },
    "id": "sjd3Q-4sNGj_",
    "outputId": "9d43c206-ddeb-4fe7-d538-1bda852ec551"
   },
   "outputs": [
    {
     "data": {
      "text/html": [
       "\n",
       "  <div id=\"df-b738e9be-fcbd-4534-a3a0-ec572773133d\">\n",
       "    <div class=\"colab-df-container\">\n",
       "      <div>\n",
       "<style scoped>\n",
       "    .dataframe tbody tr th:only-of-type {\n",
       "        vertical-align: middle;\n",
       "    }\n",
       "\n",
       "    .dataframe tbody tr th {\n",
       "        vertical-align: top;\n",
       "    }\n",
       "\n",
       "    .dataframe thead th {\n",
       "        text-align: right;\n",
       "    }\n",
       "</style>\n",
       "<table border=\"1\" class=\"dataframe\">\n",
       "  <thead>\n",
       "    <tr style=\"text-align: right;\">\n",
       "      <th></th>\n",
       "      <th>job</th>\n",
       "      <th>marital</th>\n",
       "      <th>education</th>\n",
       "      <th>default</th>\n",
       "      <th>housing</th>\n",
       "      <th>loan</th>\n",
       "      <th>contact</th>\n",
       "      <th>month</th>\n",
       "      <th>poutcome</th>\n",
       "      <th>deposit</th>\n",
       "    </tr>\n",
       "  </thead>\n",
       "  <tbody>\n",
       "    <tr>\n",
       "      <th>count</th>\n",
       "      <td>8371</td>\n",
       "      <td>8371</td>\n",
       "      <td>8371</td>\n",
       "      <td>8371</td>\n",
       "      <td>8371</td>\n",
       "      <td>8371</td>\n",
       "      <td>8371</td>\n",
       "      <td>8371</td>\n",
       "      <td>8371</td>\n",
       "      <td>8371</td>\n",
       "    </tr>\n",
       "    <tr>\n",
       "      <th>unique</th>\n",
       "      <td>12</td>\n",
       "      <td>3</td>\n",
       "      <td>4</td>\n",
       "      <td>2</td>\n",
       "      <td>2</td>\n",
       "      <td>2</td>\n",
       "      <td>3</td>\n",
       "      <td>12</td>\n",
       "      <td>4</td>\n",
       "      <td>2</td>\n",
       "    </tr>\n",
       "    <tr>\n",
       "      <th>top</th>\n",
       "      <td>management</td>\n",
       "      <td>married</td>\n",
       "      <td>secondary</td>\n",
       "      <td>no</td>\n",
       "      <td>no</td>\n",
       "      <td>no</td>\n",
       "      <td>cellular</td>\n",
       "      <td>may</td>\n",
       "      <td>unknown</td>\n",
       "      <td>no</td>\n",
       "    </tr>\n",
       "    <tr>\n",
       "      <th>freq</th>\n",
       "      <td>1923</td>\n",
       "      <td>4744</td>\n",
       "      <td>4113</td>\n",
       "      <td>8244</td>\n",
       "      <td>4354</td>\n",
       "      <td>7250</td>\n",
       "      <td>6041</td>\n",
       "      <td>2135</td>\n",
       "      <td>6269</td>\n",
       "      <td>4428</td>\n",
       "    </tr>\n",
       "  </tbody>\n",
       "</table>\n",
       "</div>\n",
       "      <button class=\"colab-df-convert\" onclick=\"convertToInteractive('df-b738e9be-fcbd-4534-a3a0-ec572773133d')\"\n",
       "              title=\"Convert this dataframe to an interactive table.\"\n",
       "              style=\"display:none;\">\n",
       "        \n",
       "  <svg xmlns=\"http://www.w3.org/2000/svg\" height=\"24px\"viewBox=\"0 0 24 24\"\n",
       "       width=\"24px\">\n",
       "    <path d=\"M0 0h24v24H0V0z\" fill=\"none\"/>\n",
       "    <path d=\"M18.56 5.44l.94 2.06.94-2.06 2.06-.94-2.06-.94-.94-2.06-.94 2.06-2.06.94zm-11 1L8.5 8.5l.94-2.06 2.06-.94-2.06-.94L8.5 2.5l-.94 2.06-2.06.94zm10 10l.94 2.06.94-2.06 2.06-.94-2.06-.94-.94-2.06-.94 2.06-2.06.94z\"/><path d=\"M17.41 7.96l-1.37-1.37c-.4-.4-.92-.59-1.43-.59-.52 0-1.04.2-1.43.59L10.3 9.45l-7.72 7.72c-.78.78-.78 2.05 0 2.83L4 21.41c.39.39.9.59 1.41.59.51 0 1.02-.2 1.41-.59l7.78-7.78 2.81-2.81c.8-.78.8-2.07 0-2.86zM5.41 20L4 18.59l7.72-7.72 1.47 1.35L5.41 20z\"/>\n",
       "  </svg>\n",
       "      </button>\n",
       "      \n",
       "  <style>\n",
       "    .colab-df-container {\n",
       "      display:flex;\n",
       "      flex-wrap:wrap;\n",
       "      gap: 12px;\n",
       "    }\n",
       "\n",
       "    .colab-df-convert {\n",
       "      background-color: #E8F0FE;\n",
       "      border: none;\n",
       "      border-radius: 50%;\n",
       "      cursor: pointer;\n",
       "      display: none;\n",
       "      fill: #1967D2;\n",
       "      height: 32px;\n",
       "      padding: 0 0 0 0;\n",
       "      width: 32px;\n",
       "    }\n",
       "\n",
       "    .colab-df-convert:hover {\n",
       "      background-color: #E2EBFA;\n",
       "      box-shadow: 0px 1px 2px rgba(60, 64, 67, 0.3), 0px 1px 3px 1px rgba(60, 64, 67, 0.15);\n",
       "      fill: #174EA6;\n",
       "    }\n",
       "\n",
       "    [theme=dark] .colab-df-convert {\n",
       "      background-color: #3B4455;\n",
       "      fill: #D2E3FC;\n",
       "    }\n",
       "\n",
       "    [theme=dark] .colab-df-convert:hover {\n",
       "      background-color: #434B5C;\n",
       "      box-shadow: 0px 1px 3px 1px rgba(0, 0, 0, 0.15);\n",
       "      filter: drop-shadow(0px 1px 2px rgba(0, 0, 0, 0.3));\n",
       "      fill: #FFFFFF;\n",
       "    }\n",
       "  </style>\n",
       "\n",
       "      <script>\n",
       "        const buttonEl =\n",
       "          document.querySelector('#df-b738e9be-fcbd-4534-a3a0-ec572773133d button.colab-df-convert');\n",
       "        buttonEl.style.display =\n",
       "          google.colab.kernel.accessAllowed ? 'block' : 'none';\n",
       "\n",
       "        async function convertToInteractive(key) {\n",
       "          const element = document.querySelector('#df-b738e9be-fcbd-4534-a3a0-ec572773133d');\n",
       "          const dataTable =\n",
       "            await google.colab.kernel.invokeFunction('convertToInteractive',\n",
       "                                                     [key], {});\n",
       "          if (!dataTable) return;\n",
       "\n",
       "          const docLinkHtml = 'Like what you see? Visit the ' +\n",
       "            '<a target=\"_blank\" href=https://colab.research.google.com/notebooks/data_table.ipynb>data table notebook</a>'\n",
       "            + ' to learn more about interactive tables.';\n",
       "          element.innerHTML = '';\n",
       "          dataTable['output_type'] = 'display_data';\n",
       "          await google.colab.output.renderOutput(dataTable, element);\n",
       "          const docLink = document.createElement('div');\n",
       "          docLink.innerHTML = docLinkHtml;\n",
       "          element.appendChild(docLink);\n",
       "        }\n",
       "      </script>\n",
       "    </div>\n",
       "  </div>\n",
       "  "
      ],
      "text/plain": [
       "               job  marital  education default housing  loan   contact month  \\\n",
       "count         8371     8371       8371    8371    8371  8371      8371  8371   \n",
       "unique          12        3          4       2       2     2         3    12   \n",
       "top     management  married  secondary      no      no    no  cellular   may   \n",
       "freq          1923     4744       4113    8244    4354  7250      6041  2135   \n",
       "\n",
       "       poutcome deposit  \n",
       "count      8371    8371  \n",
       "unique        4       2  \n",
       "top     unknown      no  \n",
       "freq       6269    4428  "
      ]
     },
     "execution_count": 6,
     "metadata": {},
     "output_type": "execute_result"
    }
   ],
   "source": [
    "# In order to see statistics on non-numerical features, one has to explicitly indicate data types of interest\n",
    "# in the include parameter.\n",
    "df.describe(include=['bool','object'])"
   ]
  },
  {
   "cell_type": "code",
   "execution_count": 7,
   "metadata": {
    "id": "IhPC6CXVNGYn"
   },
   "outputs": [],
   "source": [
    "# converting categorical columns into numarical columns\n",
    "from sklearn.preprocessing import StandardScaler, LabelEncoder\n",
    "# label encoding\n",
    "labelEnc = LabelEncoder()\n",
    "for i in list(df.columns):\n",
    "    if df[i].dtype == 'object':\n",
    "        df[i] = labelEnc.fit_transform(df[i])"
   ]
  },
  {
   "cell_type": "code",
   "execution_count": 8,
   "metadata": {
    "colab": {
     "base_uri": "https://localhost:8080/"
    },
    "id": "mVWNWrVDImPz",
    "outputId": "43a5d50e-0332-4eac-b9ce-6c532ae66579"
   },
   "outputs": [
    {
     "name": "stdout",
     "output_type": "stream",
     "text": [
      "(6696, 16)\n",
      "(1675, 16)\n"
     ]
    }
   ],
   "source": [
    "# Begin with a train/test split. Using the test set for final evaluation only.\n",
    "## Extract Dependent and Independent Variables\n",
    "from sklearn.model_selection import train_test_split,GridSearchCV\n",
    "X = df.drop('deposit', axis = 1)\n",
    "Y = df['deposit']\n",
    "## Split Train Test\n",
    "X_train, X_test, y_train, y_test = train_test_split(X,Y, test_size = 0.2, random_state = 0)\n",
    "\n",
    "print(X_train.shape)\n",
    "print(X_test.shape)"
   ]
  },
  {
   "cell_type": "code",
   "execution_count": 9,
   "metadata": {
    "id": "RV2kpLs6NdhK"
   },
   "outputs": [],
   "source": [
    "import time\n",
    "# cross validation\n",
    "from sklearn.model_selection import KFold\n",
    "from sklearn.model_selection import cross_validate"
   ]
  },
  {
   "cell_type": "code",
   "execution_count": 2,
   "metadata": {
    "id": "Y6rKWtzxNdN6"
   },
   "outputs": [
    {
     "name": "stderr",
     "output_type": "stream",
     "text": [
      "C:\\Users\\jigna\\anaconda3\\lib\\site-packages\\scipy\\__init__.py:146: UserWarning: A NumPy version >=1.16.5 and <1.23.0 is required for this version of SciPy (detected version 1.23.3\n",
      "  warnings.warn(f\"A NumPy version >={np_minversion} and <{np_maxversion}\"\n"
     ]
    }
   ],
   "source": [
    "# import methods for measuring accuracy, precision, recall etc\n",
    "from sklearn.metrics import accuracy_score, precision_score,recall_score,roc_auc_score,f1_score,confusion_matrix,classification_report\n",
    "from sklearn.metrics import roc_curve, auc, roc_auc_score"
   ]
  },
  {
   "cell_type": "code",
   "execution_count": 11,
   "metadata": {
    "id": "t5FcPJ90NCbl"
   },
   "outputs": [],
   "source": [
    "# function for evaluation metrics precision, recall, f1 etc\n",
    "def modelEvaluation(model,predictions, y_test_set, model_name):\n",
    "    #kfold cross validation\n",
    "    kfold = KFold(n_splits=10, random_state=42, shuffle= True)\n",
    "    \n",
    "    # Print model evaluation to predicted result    \n",
    "    start_time = time.time()\n",
    "    print(\"==========\",model_name,\"==========\")\n",
    "    print (\"\\nAccuracy on validation set: {:.4f}\".format(accuracy_score(y_test_set, predictions)))\n",
    "    print (\"Precision on validation set: {:.4f}\".format(precision_score(y_test_set, predictions, average='macro')))    \n",
    "    print (\"Recall on validation set: {:.4f}\".format(recall_score(y_test_set, predictions, average='macro')))\n",
    "    print (\"F1_Score on validation set: {:.4f}\".format(f1_score(y_test_set, predictions, average='macro')))\n",
    "    \n",
    "    y_score = model.predict_proba(X_test)\n",
    "    fpr, tpr, th = roc_curve(y_test_set, y_score[:,1])\n",
    "\n",
    "    roc_auc = auc(fpr, tpr)\n",
    "    print (\"ROC_AUC on validation set: {:.4f}\".format(roc_auc))\n",
    "    scores = cross_validate(model, X, Y, cv=kfold, scoring='accuracy')\n",
    "    \n",
    "    print (\"KFold Cross Validation on validation set: {:.4f}\".format(scores['test_score'].mean()))\n",
    "    \n",
    "    \n",
    "    print (\"\\nClassification report : \\n\", classification_report(y_test_set, predictions))\n",
    "    \n",
    "    print(\"=\"*30)\n",
    "    print (\"\\tConfusion Matrix\",)\n",
    "    print(\"=\"*30)\n",
    "\n",
    "\n",
    "    cmtx = pd.DataFrame(\n",
    "    confusion_matrix(y_test_set, predictions, labels=[1, 0]),\n",
    "    index=['real:1', 'real:0'], columns=['predict:1', 'predict:0'])\n",
    "    print(cmtx)\n",
    "\n",
    "\n",
    "\n",
    "    cm = confusion_matrix(y_test_set, predictions,labels=[1, 0])\n",
    "    \n",
    "    labels = np.asarray(\n",
    "        [\n",
    "            [\"{0:0.0f}\".format(item) + \"\\n{0:.2%}\".format(item / cm.flatten().sum()) for item in cm.flatten()]\n",
    "\n",
    "        ]\n",
    "    ).reshape(2, 2)\n",
    "\n",
    "    plt.figure(figsize=(6, 4))\n",
    "\n",
    "    sns.heatmap(cm, annot=labels, fmt=\"\",yticklabels=[1,0],xticklabels=[1,0])\n",
    "    plt.ylabel(\"True label\")\n",
    "    plt.xlabel(\"Predicted label\")\n",
    "    plt.show()\n",
    "    end = round(time.time()-start_time,3)\n",
    "    results = [accuracy_score(y_test_set, predictions),precision_score(y_test_set, predictions, average='macro'),\n",
    "              recall_score(y_test_set, predictions, average='macro'),f1_score(y_test_set, predictions, average='macro'),roc_auc,scores['test_score'].mean(),end]\n",
    "    return results"
   ]
  },
  {
   "cell_type": "code",
   "execution_count": 12,
   "metadata": {
    "colab": {
     "base_uri": "https://localhost:8080/",
     "height": 715
    },
    "id": "sEqHcQvrNqS3",
    "outputId": "58a05fad-bd44-419b-f278-5fbe6c5e0b8e",
    "scrolled": false
   },
   "outputs": [
    {
     "name": "stdout",
     "output_type": "stream",
     "text": [
      "========== DecisionTreeClassifier ==========\n",
      "\n",
      "Accuracy on validation set: 0.7552\n",
      "Precision on validation set: 0.7541\n",
      "Recall on validation set: 0.7529\n",
      "F1_Score on validation set: 0.7534\n",
      "ROC_AUC on validation set: 0.7529\n",
      "KFold Cross Validation on validation set: 0.7709\n",
      "\n",
      "Classification report : \n",
      "               precision    recall  f1-score   support\n",
      "\n",
      "           0       0.77      0.78      0.77       899\n",
      "           1       0.74      0.72      0.73       776\n",
      "\n",
      "    accuracy                           0.76      1675\n",
      "   macro avg       0.75      0.75      0.75      1675\n",
      "weighted avg       0.75      0.76      0.75      1675\n",
      "\n",
      "==============================\n",
      "\tConfusion Matrix\n",
      "==============================\n",
      "        predict:1  predict:0\n",
      "real:1        560        216\n",
      "real:0        194        705\n"
     ]
    },
    {
     "data": {
      "image/png": "[encoded data removed]",
      "text/plain": [
       "<Figure size 432x288 with 2 Axes>"
      ]
     },
     "metadata": {
      "needs_background": "light"
     },
     "output_type": "display_data"
    }
   ],
   "source": [
    "from sklearn.tree import DecisionTreeClassifier\n",
    "# evaluating the model\n",
    "dt = DecisionTreeClassifier(criterion='gini')                         \n",
    "dt.fit(X_train,y_train)\n",
    "prediction = dt.predict(X_test)\n",
    "results_mp = modelEvaluation(dt,prediction, y_test,\"DecisionTreeClassifier\")"
   ]
  },
  {
   "cell_type": "code",
   "execution_count": 13,
   "metadata": {
    "colab": {
     "base_uri": "https://localhost:8080/"
    },
    "id": "ugHrplN5Nyy3",
    "outputId": "6d015af7-2266-4a5d-9efe-4e83fdfec3cc"
   },
   "outputs": [
    {
     "data": {
      "text/plain": [
       "{'duration': 0.3545812618522405,\n",
       " 'balance': 0.09690074627003387,\n",
       " 'month': 0.08014588675071782,\n",
       " 'age': 0.07611206962805263,\n",
       " 'day': 0.06851975970525405,\n",
       " 'contact': 0.061579288047503955,\n",
       " 'pdays': 0.05660238460444379,\n",
       " 'poutcome': 0.041429566855547974,\n",
       " 'housing': 0.035548135530147545,\n",
       " 'job': 0.030940344049920264,\n",
       " 'campaign': 0.02762554745989733,\n",
       " 'previous': 0.021370456475254353,\n",
       " 'education': 0.020367486557118286,\n",
       " 'marital': 0.019687888813049472,\n",
       " 'loan': 0.0081897623148639,\n",
       " 'default': 0.0003994150859543232}"
      ]
     },
     "execution_count": 13,
     "metadata": {},
     "output_type": "execute_result"
    }
   ],
   "source": [
    "imp_dict = {attr: dt.feature_importances_[i] for i, attr in enumerate(X.columns.tolist())}\n",
    "features_dic = {k: v for k, v in sorted(imp_dict.items(), key=lambda item: item[1], reverse=True)}\n",
    "features_dic"
   ]
  },
  {
   "cell_type": "code",
   "execution_count": 14,
   "metadata": {
    "colab": {
     "base_uri": "https://localhost:8080/",
     "height": 340
    },
    "id": "lw4AoeMZN_qc",
    "outputId": "1a3d4f70-433d-422d-d84f-6ea2a2cf5673"
   },
   "outputs": [
    {
     "data": {
      "image/png": "[encoded data removed]",
      "text/plain": [
       "<Figure size 720x360 with 1 Axes>"
      ]
     },
     "metadata": {
      "needs_background": "light"
     },
     "output_type": "display_data"
    }
   ],
   "source": [
    "# let’s sort the features, and plot graph\n",
    "plt.figure(figsize=(10,5))\n",
    "sorted_idx = dt.feature_importances_.argsort()\n",
    "plt.barh(X.columns[sorted_idx], dt.feature_importances_[sorted_idx])\n",
    "plt.title(\"Decision Tree Feature Importance\", fontsize=18)\n",
    "plt.show()"
   ]
  },
  {
   "cell_type": "code",
   "execution_count": 15,
   "metadata": {
    "colab": {
     "base_uri": "https://localhost:8080/",
     "height": 391
    },
    "id": "dMyrcn2mOCTJ",
    "outputId": "fa25695b-96d8-4d52-ef1e-643abcd63148"
   },
   "outputs": [
    {
     "name": "stdout",
     "output_type": "stream",
     "text": [
      "ROC_AUC score : 0.752927078196851\n"
     ]
    },
    {
     "data": {
      "image/png": "[encoded data removed]",
      "text/plain": [
       "<Figure size 576x360 with 1 Axes>"
      ]
     },
     "metadata": {
      "needs_background": "light"
     },
     "output_type": "display_data"
    }
   ],
   "source": [
    "y_score = dt.predict_proba(X_test)\n",
    "fpr, tpr, th = roc_curve(y_test, y_score[:,1])\n",
    "\n",
    "roc_auc = auc(fpr, tpr)\n",
    "print(\"ROC_AUC score :\",roc_auc)\n",
    "plt.figure(figsize=(8,5))\n",
    "\n",
    "plt.plot(fpr, tpr)\n",
    "plt.title(\"Decision Tree\", fontsize=20)\n",
    "plt.plot([0,1], [0,1], 'k--')\n",
    "plt.xlabel('False Positive Rate', fontsize=20)\n",
    "plt.ylabel('True Positive Rate', fontsize=20)\n",
    "\n",
    "plt.tick_params(axis='both', which='major', labelsize=22)\n",
    "plt.show()"
   ]
  },
  {
   "cell_type": "code",
   "execution_count": 16,
   "metadata": {
    "id": "QHLWSJRPTsmV"
   },
   "outputs": [],
   "source": [
    "# Feature scaling marks the end of the data preprocessing in Machine Learning. It is a method to standardize the independent variables of a dataset within a specific range.\n",
    "# In other words, feature scaling limits the range of variables so that you can compare them on common grounds.\n",
    "# standardization our data that better for in model prediction because values lies in a specific range (0,1)\n",
    "st_x= StandardScaler()  \n",
    "X_train_std= st_x.fit_transform(X_train) \n",
    "X_test_std= st_x.transform(X_test) "
   ]
  },
  {
   "cell_type": "code",
   "execution_count": 17,
   "metadata": {
    "id": "QJGlz0S6OE4a"
   },
   "outputs": [],
   "source": [
    "# Neural Network\n",
    "from sklearn.neural_network import MLPClassifier\n",
    "\n",
    "def hyperNN(X_train, y_train, X_test, y_test, title):\n",
    "\n",
    "    f1_test = []\n",
    "    f1_train = []\n",
    "    hlist = np.linspace(1,150,30).astype('int')\n",
    "    for i in hlist:         \n",
    "            clf = MLPClassifier(hidden_layer_sizes=(i,), solver='adam', activation='logistic', \n",
    "                                learning_rate_init=0.05, random_state=100)\n",
    "            clf.fit(X_train, y_train)\n",
    "            y_pred_test = clf.predict(X_test)\n",
    "            y_pred_train = clf.predict(X_train)\n",
    "            f1_test.append(f1_score(y_test, y_pred_test))\n",
    "            f1_train.append(f1_score(y_train, y_pred_train))\n",
    "      \n",
    "    plt.plot(hlist, f1_test, 'o-', color='r', label='Test F1 Score')\n",
    "    plt.plot(hlist, f1_train, 'o-', color = 'b', label='Train F1 Score')\n",
    "    plt.ylabel('Model F1 Score')\n",
    "    plt.xlabel('No. Hidden Units')\n",
    "    \n",
    "    plt.title(title)\n",
    "    plt.legend(loc='best')\n",
    "    plt.tight_layout()\n",
    "    plt.show()\n",
    "    \n",
    "    \n",
    "def NNGridSearchCV(X_train, y_train):\n",
    "    #parameters to search:\n",
    "    #number of hidden units\n",
    "    #learning_rate\n",
    "    h_units = [5, 10, 20, 30, 40, 50, 75, 100]\n",
    "    learning_rates = [0.01, 0.05, .1]\n",
    "    param_grid = {'hidden_layer_sizes': h_units, 'learning_rate_init': learning_rates}\n",
    "\n",
    "    net = GridSearchCV(estimator = MLPClassifier(solver='adam',activation='logistic',random_state=100),\n",
    "                       param_grid=param_grid, cv=10)\n",
    "    net.fit(X_train, y_train)\n",
    "    print(\"Per Hyperparameter tuning, best parameters are:\")\n",
    "    print(net.best_params_)\n",
    "    return net.best_params_['hidden_layer_sizes'], net.best_params_['learning_rate_init']"
   ]
  },
  {
   "cell_type": "code",
   "execution_count": 18,
   "metadata": {
    "colab": {
     "base_uri": "https://localhost:8080/",
     "height": 332
    },
    "id": "uGgPgIbiOMjB",
    "outputId": "0fcaebb6-7ffb-4873-e4b3-b61c0b0e6451"
   },
   "outputs": [
    {
     "data": {
      "image/png": "[encoded data removed]",
      "text/plain": [
       "<Figure size 432x288 with 1 Axes>"
      ]
     },
     "metadata": {
      "needs_background": "light"
     },
     "output_type": "display_data"
    },
    {
     "name": "stdout",
     "output_type": "stream",
     "text": [
      "Per Hyperparameter tuning, best parameters are:\n",
      "{'hidden_layer_sizes': 75, 'learning_rate_init': 0.01}\n"
     ]
    }
   ],
   "source": [
    "hyperNN(X_train_std, y_train, X_test_std, y_test,title=\"Model Complexity Curve for NN (Phishing Data)\\nHyperparameter : No. Hidden Units\")\n",
    "h_units, learn_rate = NNGridSearchCV(X_train, y_train)\n",
    "estimator_ann = MLPClassifier(hidden_layer_sizes=(h_units,), solver='adam', activation='logistic', \n",
    "                               learning_rate_init=learn_rate, random_state=100)"
   ]
  },
  {
   "cell_type": "code",
   "execution_count": 19,
   "metadata": {
    "id": "S8NKmSYtOfER"
   },
   "outputs": [],
   "source": [
    "estimator_ann.fit(X_train_std,y_train)\n",
    "a = estimator_ann.loss_curve_"
   ]
  },
  {
   "cell_type": "code",
   "execution_count": 20,
   "metadata": {
    "colab": {
     "base_uri": "https://localhost:8080/",
     "height": 713
    },
    "id": "iM0SWRaJOrBL",
    "outputId": "689fee59-a961-4d10-f935-9c911e98247c"
   },
   "outputs": [
    {
     "name": "stdout",
     "output_type": "stream",
     "text": [
      "========== Artifical Neural Network ==========\n",
      "\n",
      "Accuracy on validation set: 0.7827\n",
      "Precision on validation set: 0.7828\n",
      "Recall on validation set: 0.7793\n",
      "F1_Score on validation set: 0.7803\n",
      "ROC_AUC on validation set: 0.5938\n",
      "KFold Cross Validation on validation set: 0.7533\n",
      "\n",
      "Classification report : \n",
      "               precision    recall  f1-score   support\n",
      "\n",
      "           0       0.78      0.83      0.80       899\n",
      "           1       0.78      0.73      0.76       776\n",
      "\n",
      "    accuracy                           0.78      1675\n",
      "   macro avg       0.78      0.78      0.78      1675\n",
      "weighted avg       0.78      0.78      0.78      1675\n",
      "\n",
      "==============================\n",
      "\tConfusion Matrix\n",
      "==============================\n",
      "        predict:1  predict:0\n",
      "real:1        569        207\n",
      "real:0        157        742\n"
     ]
    },
    {
     "data": {
      "image/png": "[encoded data removed]",
      "text/plain": [
       "<Figure size 432x288 with 2 Axes>"
      ]
     },
     "metadata": {
      "needs_background": "light"
     },
     "output_type": "display_data"
    }
   ],
   "source": [
    "predictions = estimator_ann.predict(X_test_std)\n",
    "results_ann = modelEvaluation(estimator_ann,predictions, y_test, \"Artifical Neural Network\")"
   ]
  },
  {
   "cell_type": "code",
   "execution_count": 21,
   "metadata": {
    "colab": {
     "base_uri": "https://localhost:8080/",
     "height": 391
    },
    "id": "rNN8OY-iOrt1",
    "outputId": "3c2b5744-6c83-450f-f5e4-9af94a88c4dc"
   },
   "outputs": [
    {
     "name": "stdout",
     "output_type": "stream",
     "text": [
      "ROC_AUC score : 0.8673812827540336\n"
     ]
    },
    {
     "data": {
      "image/png": "[encoded data removed]",
      "text/plain": [
       "<Figure size 576x360 with 1 Axes>"
      ]
     },
     "metadata": {
      "needs_background": "light"
     },
     "output_type": "display_data"
    }
   ],
   "source": [
    "y_score = estimator_ann.predict_proba(X_test_std)\n",
    "fpr, tpr, th = roc_curve(y_test, y_score[:,1])\n",
    "\n",
    "roc_auc = auc(fpr, tpr)\n",
    "print(\"ROC_AUC score :\",roc_auc)\n",
    "plt.figure(figsize=(8,5))\n",
    "\n",
    "plt.plot(fpr, tpr)\n",
    "\n",
    "plt.plot([0,1], [0,1], 'k--')\n",
    "plt.title(\"ANN\", fontsize=20)\n",
    "plt.xlabel('False Positive Rate', fontsize=20)\n",
    "plt.ylabel('True Positive Rate', fontsize=20)\n",
    "\n",
    "plt.tick_params(axis='both', which='major', labelsize=22)\n",
    "plt.show()"
   ]
  },
  {
   "cell_type": "code",
   "execution_count": 22,
   "metadata": {
    "colab": {
     "base_uri": "https://localhost:8080/",
     "height": 295
    },
    "id": "3l_8Ki8mOxCn",
    "outputId": "0e0a9c55-d904-4f33-c781-f593fc4ea651"
   },
   "outputs": [
    {
     "data": {
      "image/png": "[encoded data removed]",
      "text/plain": [
       "<Figure size 432x288 with 1 Axes>"
      ]
     },
     "metadata": {
      "needs_background": "light"
     },
     "output_type": "display_data"
    }
   ],
   "source": [
    "b = estimator_ann.loss_curve_\n",
    "\n",
    "plt.figure()\n",
    "plt.title(\"Loss Curve\")\n",
    "plt.xlabel(\"Number of Iterations\")\n",
    "plt.ylabel(\"Loss\")\n",
    "plt.plot(a, 'o-', color=\"b\", label=\"Heart Disease Data\")\n",
    "plt.legend(loc=\"best\")\n",
    "plt.show()"
   ]
  },
  {
   "cell_type": "code",
   "execution_count": 22,
   "metadata": {
    "id": "_LkoKtRdOz_s"
   },
   "outputs": [],
   "source": [
    "# Conclusion\n",
    "# First, since our objective variable is categorical and we are developing a model with a basic baseline, we use a decision tree classifier.\n",
    "# indicates that we have a classification issue, therefore we will use a decision tree classifier as our first model and see that we only get 75% accuracy. \n",
    "# Now we We apply a deep learning neural network, do data scaling, and then perform hyperparameter tuning in order to optimise this.\n",
    "# to obtain the optimal settings and successful outcomes.\n",
    "# After that, we will achieve 78% accuracy, which we then build upon to get even better outcomes."
   ]
  }
 ],
 "metadata": {
  "colab": {
   "provenance": []
  },
  "kernelspec": {
   "display_name": "Python 3 (ipykernel)",
   "language": "python",
   "name": "python3"
  },
  "language_info": {
   "codemirror_mode": {
    "name": "ipython",
    "version": 3
   },
   "file_extension": ".py",
   "mimetype": "text/x-python",
   "name": "python",
   "nbconvert_exporter": "python",
   "pygments_lexer": "ipython3",
   "version": "3.9.13"
  }
 },
 "nbformat": 4,
 "nbformat_minor": 1
}
