{
 "cells": [
  {
   "cell_type": "markdown",
   "id": "c9f3a475",
   "metadata": {
    "execution": {
     "iopub.execute_input": "2022-10-21T07:20:35.577437Z",
     "iopub.status.busy": "2022-10-21T07:20:35.576984Z",
     "iopub.status.idle": "2022-10-21T07:20:35.615287Z",
     "shell.execute_reply": "2022-10-21T07:20:35.613711Z",
     "shell.execute_reply.started": "2022-10-21T07:20:35.577349Z"
    },
    "id": "c9f3a475",
    "papermill": {
     "duration": 0.019113,
     "end_time": "2022-10-21T07:27:57.753755",
     "exception": false,
     "start_time": "2022-10-21T07:27:57.734642",
     "status": "completed"
    },
    "tags": []
   },
   "source": [
    "**We are importing Libraries which we will use in our project\n",
    "\n",
    "Pandas :-which is used for data cleaning and analysis. Here, Pandas is the best tool for handling this real-world messy data.\n",
    "\n",
    "Numpy : - NumPy aims to provide an array object that is up to 50x faster than traditional Python lists. It is very useful for fundamental scientific computations in Machine Learning\n",
    "\n",
    "sklearn : - sklearn library contains a lot of efficient tools for machine learning and statistical modeling including classification, regression, clustering and dimensionality reduction\n",
    "\n",
    "The plotly Python library is an interactive, open-source plotting library that supports over 40 unique chart types covering a wide range of statistical, financial, geographic, scientific, and 3-dimensional use-case\n",
    "\n",
    "**"
   ]
  },
  {
   "cell_type": "code",
   "execution_count": 119,
   "id": "646ba1ea",
   "metadata": {},
   "outputs": [
    {
     "name": "stdout",
     "output_type": "stream",
     "text": [
      "C:\\Users\\jigna\\PredictiveAnalyticsProject\n"
     ]
    }
   ],
   "source": [
    "%cd C:\\Users\\jigna\\PredictiveAnalyticsProject"
   ]
  },
  {
   "cell_type": "markdown",
   "id": "a825c13b",
   "metadata": {
    "id": "a825c13b",
    "papermill": {
     "duration": 0.019048,
     "end_time": "2022-10-21T07:27:57.788536",
     "exception": false,
     "start_time": "2022-10-21T07:27:57.769488",
     "status": "completed"
    },
    "tags": []
   },
   "source": [
    "# Importing the Libraries"
   ]
  },
  {
   "cell_type": "code",
   "execution_count": 120,
   "id": "681601ff",
   "metadata": {
    "execution": {
     "iopub.execute_input": "2022-10-21T07:27:57.826694Z",
     "iopub.status.busy": "2022-10-21T07:27:57.825347Z",
     "iopub.status.idle": "2022-10-21T07:27:59.291232Z",
     "shell.execute_reply": "2022-10-21T07:27:59.290289Z"
    },
    "executionInfo": {
     "elapsed": 404,
     "status": "ok",
     "timestamp": 1667803880357,
     "user": {
      "displayName": "ai dev",
      "userId": "10658999908990116858"
     },
     "user_tz": -300
    },
    "id": "681601ff",
    "papermill": {
     "duration": 1.486012,
     "end_time": "2022-10-21T07:27:59.293954",
     "exception": false,
     "start_time": "2022-10-21T07:27:57.807942",
     "status": "completed"
    },
    "tags": []
   },
   "outputs": [],
   "source": [
    "import numpy as np\n",
    "import pandas as pd\n",
    "import matplotlib.pyplot as plt\n",
    "import seaborn as sns\n",
    "\n",
    "from sklearn.model_selection import train_test_split, cross_val_score\n",
    "from sklearn.preprocessing import OneHotEncoder, LabelEncoder\n",
    "from sklearn.tree import DecisionTreeClassifier\n",
    "from sklearn.ensemble import RandomForestClassifier\n",
    "from sklearn.metrics import recall_score, make_scorer, confusion_matrix, classification_report, fbeta_score"
   ]
  },
  {
   "cell_type": "code",
   "execution_count": 121,
   "id": "1c294100",
   "metadata": {
    "colab": {
     "base_uri": "https://localhost:8080/",
     "height": 270
    },
    "execution": {
     "iopub.execute_input": "2022-10-21T07:27:59.357853Z",
     "iopub.status.busy": "2022-10-21T07:27:59.357420Z",
     "iopub.status.idle": "2022-10-21T07:27:59.443299Z",
     "shell.execute_reply": "2022-10-21T07:27:59.442156Z"
    },
    "executionInfo": {
     "elapsed": 123,
     "status": "ok",
     "timestamp": 1667803886082,
     "user": {
      "displayName": "ai dev",
      "userId": "10658999908990116858"
     },
     "user_tz": -300
    },
    "id": "1c294100",
    "outputId": "97bb7438-dfd7-4a6c-8da6-7a1be22e313a",
    "papermill": {
     "duration": 0.107584,
     "end_time": "2022-10-21T07:27:59.447362",
     "exception": false,
     "start_time": "2022-10-21T07:27:59.339778",
     "status": "completed"
    },
    "tags": []
   },
   "outputs": [
    {
     "data": {
      "text/html": [
       "<div>\n",
       "<style scoped>\n",
       "    .dataframe tbody tr th:only-of-type {\n",
       "        vertical-align: middle;\n",
       "    }\n",
       "\n",
       "    .dataframe tbody tr th {\n",
       "        vertical-align: top;\n",
       "    }\n",
       "\n",
       "    .dataframe thead th {\n",
       "        text-align: right;\n",
       "    }\n",
       "</style>\n",
       "<table border=\"1\" class=\"dataframe\">\n",
       "  <thead>\n",
       "    <tr style=\"text-align: right;\">\n",
       "      <th></th>\n",
       "      <th>age</th>\n",
       "      <th>job</th>\n",
       "      <th>marital</th>\n",
       "      <th>education</th>\n",
       "      <th>default</th>\n",
       "      <th>balance</th>\n",
       "      <th>housing</th>\n",
       "      <th>loan</th>\n",
       "      <th>contact</th>\n",
       "      <th>day</th>\n",
       "      <th>month</th>\n",
       "      <th>duration</th>\n",
       "      <th>campaign</th>\n",
       "      <th>pdays</th>\n",
       "      <th>previous</th>\n",
       "      <th>poutcome</th>\n",
       "      <th>deposit</th>\n",
       "    </tr>\n",
       "  </thead>\n",
       "  <tbody>\n",
       "    <tr>\n",
       "      <th>0</th>\n",
       "      <td>38</td>\n",
       "      <td>technician</td>\n",
       "      <td>married</td>\n",
       "      <td>tertiary</td>\n",
       "      <td>no</td>\n",
       "      <td>127</td>\n",
       "      <td>yes</td>\n",
       "      <td>no</td>\n",
       "      <td>cellular</td>\n",
       "      <td>14</td>\n",
       "      <td>oct</td>\n",
       "      <td>113</td>\n",
       "      <td>1</td>\n",
       "      <td>50</td>\n",
       "      <td>2</td>\n",
       "      <td>success</td>\n",
       "      <td>no</td>\n",
       "    </tr>\n",
       "    <tr>\n",
       "      <th>1</th>\n",
       "      <td>41</td>\n",
       "      <td>housemaid</td>\n",
       "      <td>married</td>\n",
       "      <td>primary</td>\n",
       "      <td>no</td>\n",
       "      <td>365</td>\n",
       "      <td>no</td>\n",
       "      <td>no</td>\n",
       "      <td>cellular</td>\n",
       "      <td>8</td>\n",
       "      <td>aug</td>\n",
       "      <td>203</td>\n",
       "      <td>5</td>\n",
       "      <td>-1</td>\n",
       "      <td>0</td>\n",
       "      <td>unknown</td>\n",
       "      <td>no</td>\n",
       "    </tr>\n",
       "    <tr>\n",
       "      <th>2</th>\n",
       "      <td>39</td>\n",
       "      <td>management</td>\n",
       "      <td>single</td>\n",
       "      <td>tertiary</td>\n",
       "      <td>no</td>\n",
       "      <td>2454</td>\n",
       "      <td>yes</td>\n",
       "      <td>no</td>\n",
       "      <td>cellular</td>\n",
       "      <td>4</td>\n",
       "      <td>may</td>\n",
       "      <td>716</td>\n",
       "      <td>3</td>\n",
       "      <td>263</td>\n",
       "      <td>2</td>\n",
       "      <td>failure</td>\n",
       "      <td>yes</td>\n",
       "    </tr>\n",
       "    <tr>\n",
       "      <th>3</th>\n",
       "      <td>49</td>\n",
       "      <td>blue-collar</td>\n",
       "      <td>married</td>\n",
       "      <td>primary</td>\n",
       "      <td>no</td>\n",
       "      <td>6215</td>\n",
       "      <td>yes</td>\n",
       "      <td>no</td>\n",
       "      <td>cellular</td>\n",
       "      <td>11</td>\n",
       "      <td>may</td>\n",
       "      <td>549</td>\n",
       "      <td>1</td>\n",
       "      <td>-1</td>\n",
       "      <td>0</td>\n",
       "      <td>unknown</td>\n",
       "      <td>no</td>\n",
       "    </tr>\n",
       "    <tr>\n",
       "      <th>4</th>\n",
       "      <td>37</td>\n",
       "      <td>services</td>\n",
       "      <td>married</td>\n",
       "      <td>secondary</td>\n",
       "      <td>no</td>\n",
       "      <td>1694</td>\n",
       "      <td>yes</td>\n",
       "      <td>yes</td>\n",
       "      <td>cellular</td>\n",
       "      <td>29</td>\n",
       "      <td>jan</td>\n",
       "      <td>404</td>\n",
       "      <td>2</td>\n",
       "      <td>251</td>\n",
       "      <td>6</td>\n",
       "      <td>failure</td>\n",
       "      <td>no</td>\n",
       "    </tr>\n",
       "  </tbody>\n",
       "</table>\n",
       "</div>"
      ],
      "text/plain": [
       "   age          job  marital  education default  balance housing loan  \\\n",
       "0   38   technician  married   tertiary      no      127     yes   no   \n",
       "1   41    housemaid  married    primary      no      365      no   no   \n",
       "2   39   management   single   tertiary      no     2454     yes   no   \n",
       "3   49  blue-collar  married    primary      no     6215     yes   no   \n",
       "4   37     services  married  secondary      no     1694     yes  yes   \n",
       "\n",
       "    contact  day month  duration  campaign  pdays  previous poutcome deposit  \n",
       "0  cellular   14   oct       113         1     50         2  success      no  \n",
       "1  cellular    8   aug       203         5     -1         0  unknown      no  \n",
       "2  cellular    4   may       716         3    263         2  failure     yes  \n",
       "3  cellular   11   may       549         1     -1         0  unknown      no  \n",
       "4  cellular   29   jan       404         2    251         6  failure      no  "
      ]
     },
     "execution_count": 121,
     "metadata": {},
     "output_type": "execute_result"
    }
   ],
   "source": [
    "# Read in train data\n",
    "df = pd.read_csv('data.csv')\n",
    "df.head()"
   ]
  },
  {
   "cell_type": "markdown",
   "id": "nK22s9OaVHU_",
   "metadata": {
    "id": "nK22s9OaVHU_"
   },
   "source": [
    "***Using info() which helps us to tell the datatype of each column and tells us how much non-null values in each column***"
   ]
  },
  {
   "cell_type": "code",
   "execution_count": 122,
   "id": "4tD0I85GVKZW",
   "metadata": {
    "colab": {
     "base_uri": "https://localhost:8080/"
    },
    "executionInfo": {
     "elapsed": 118,
     "status": "ok",
     "timestamp": 1667803886086,
     "user": {
      "displayName": "ai dev",
      "userId": "10658999908990116858"
     },
     "user_tz": -300
    },
    "id": "4tD0I85GVKZW",
    "outputId": "02ce3cf2-b0b3-40a6-ea0f-471c91ffc62b"
   },
   "outputs": [
    {
     "name": "stdout",
     "output_type": "stream",
     "text": [
      "<class 'pandas.core.frame.DataFrame'>\n",
      "RangeIndex: 8371 entries, 0 to 8370\n",
      "Data columns (total 17 columns):\n",
      " #   Column     Non-Null Count  Dtype \n",
      "---  ------     --------------  ----- \n",
      " 0   age        8371 non-null   int64 \n",
      " 1   job        8371 non-null   object\n",
      " 2   marital    8371 non-null   object\n",
      " 3   education  8371 non-null   object\n",
      " 4   default    8371 non-null   object\n",
      " 5   balance    8371 non-null   int64 \n",
      " 6   housing    8371 non-null   object\n",
      " 7   loan       8371 non-null   object\n",
      " 8   contact    8371 non-null   object\n",
      " 9   day        8371 non-null   int64 \n",
      " 10  month      8371 non-null   object\n",
      " 11  duration   8371 non-null   int64 \n",
      " 12  campaign   8371 non-null   int64 \n",
      " 13  pdays      8371 non-null   int64 \n",
      " 14  previous   8371 non-null   int64 \n",
      " 15  poutcome   8371 non-null   object\n",
      " 16  deposit    8371 non-null   object\n",
      "dtypes: int64(7), object(10)\n",
      "memory usage: 1.1+ MB\n"
     ]
    }
   ],
   "source": [
    "df.info()"
   ]
  },
  {
   "cell_type": "markdown",
   "id": "RnrJ2zHcVxbB",
   "metadata": {
    "id": "RnrJ2zHcVxbB"
   },
   "source": [
    "**Data Preprocessing**"
   ]
  },
  {
   "cell_type": "code",
   "execution_count": 123,
   "id": "nXiVTuOKV1Vw",
   "metadata": {
    "colab": {
     "base_uri": "https://localhost:8080/"
    },
    "executionInfo": {
     "elapsed": 123,
     "status": "ok",
     "timestamp": 1667803886098,
     "user": {
      "displayName": "ai dev",
      "userId": "10658999908990116858"
     },
     "user_tz": -300
    },
    "id": "nXiVTuOKV1Vw",
    "outputId": "788f86ea-def0-4787-9b33-8d57073ced5e"
   },
   "outputs": [
    {
     "data": {
      "text/plain": [
       "age          0\n",
       "job          0\n",
       "marital      0\n",
       "education    0\n",
       "default      0\n",
       "balance      0\n",
       "housing      0\n",
       "loan         0\n",
       "contact      0\n",
       "day          0\n",
       "month        0\n",
       "duration     0\n",
       "campaign     0\n",
       "pdays        0\n",
       "previous     0\n",
       "poutcome     0\n",
       "deposit      0\n",
       "dtype: int64"
      ]
     },
     "execution_count": 123,
     "metadata": {},
     "output_type": "execute_result"
    }
   ],
   "source": [
    "# Check for missing values\n",
    "df.isnull().sum()"
   ]
  },
  {
   "cell_type": "code",
   "execution_count": 124,
   "id": "8571f78b",
   "metadata": {
    "colab": {
     "base_uri": "https://localhost:8080/",
     "height": 270
    },
    "execution": {
     "iopub.execute_input": "2022-10-21T07:28:04.955968Z",
     "iopub.status.busy": "2022-10-21T07:28:04.955148Z",
     "iopub.status.idle": "2022-10-21T07:28:04.974521Z",
     "shell.execute_reply": "2022-10-21T07:28:04.973359Z"
    },
    "executionInfo": {
     "elapsed": 125,
     "status": "ok",
     "timestamp": 1667803886110,
     "user": {
      "displayName": "ai dev",
      "userId": "10658999908990116858"
     },
     "user_tz": -300
    },
    "id": "8571f78b",
    "outputId": "ac4d70c0-5689-440d-d56d-108e0bcb96d3",
    "papermill": {
     "duration": 0.044851,
     "end_time": "2022-10-21T07:28:04.976812",
     "exception": false,
     "start_time": "2022-10-21T07:28:04.931961",
     "status": "completed"
    },
    "tags": []
   },
   "outputs": [
    {
     "data": {
      "text/html": [
       "<div>\n",
       "<style scoped>\n",
       "    .dataframe tbody tr th:only-of-type {\n",
       "        vertical-align: middle;\n",
       "    }\n",
       "\n",
       "    .dataframe tbody tr th {\n",
       "        vertical-align: top;\n",
       "    }\n",
       "\n",
       "    .dataframe thead th {\n",
       "        text-align: right;\n",
       "    }\n",
       "</style>\n",
       "<table border=\"1\" class=\"dataframe\">\n",
       "  <thead>\n",
       "    <tr style=\"text-align: right;\">\n",
       "      <th></th>\n",
       "      <th>age</th>\n",
       "      <th>job</th>\n",
       "      <th>marital</th>\n",
       "      <th>education</th>\n",
       "      <th>default</th>\n",
       "      <th>balance</th>\n",
       "      <th>housing</th>\n",
       "      <th>loan</th>\n",
       "      <th>contact</th>\n",
       "      <th>day</th>\n",
       "      <th>month</th>\n",
       "      <th>campaign</th>\n",
       "      <th>pdays</th>\n",
       "      <th>previous</th>\n",
       "      <th>poutcome</th>\n",
       "    </tr>\n",
       "  </thead>\n",
       "  <tbody>\n",
       "    <tr>\n",
       "      <th>0</th>\n",
       "      <td>38</td>\n",
       "      <td>technician</td>\n",
       "      <td>married</td>\n",
       "      <td>tertiary</td>\n",
       "      <td>no</td>\n",
       "      <td>127</td>\n",
       "      <td>yes</td>\n",
       "      <td>no</td>\n",
       "      <td>cellular</td>\n",
       "      <td>14</td>\n",
       "      <td>oct</td>\n",
       "      <td>1</td>\n",
       "      <td>50</td>\n",
       "      <td>2</td>\n",
       "      <td>success</td>\n",
       "    </tr>\n",
       "    <tr>\n",
       "      <th>1</th>\n",
       "      <td>41</td>\n",
       "      <td>housemaid</td>\n",
       "      <td>married</td>\n",
       "      <td>primary</td>\n",
       "      <td>no</td>\n",
       "      <td>365</td>\n",
       "      <td>no</td>\n",
       "      <td>no</td>\n",
       "      <td>cellular</td>\n",
       "      <td>8</td>\n",
       "      <td>aug</td>\n",
       "      <td>5</td>\n",
       "      <td>-1</td>\n",
       "      <td>0</td>\n",
       "      <td>unknown</td>\n",
       "    </tr>\n",
       "    <tr>\n",
       "      <th>2</th>\n",
       "      <td>39</td>\n",
       "      <td>management</td>\n",
       "      <td>single</td>\n",
       "      <td>tertiary</td>\n",
       "      <td>no</td>\n",
       "      <td>2454</td>\n",
       "      <td>yes</td>\n",
       "      <td>no</td>\n",
       "      <td>cellular</td>\n",
       "      <td>4</td>\n",
       "      <td>may</td>\n",
       "      <td>3</td>\n",
       "      <td>263</td>\n",
       "      <td>2</td>\n",
       "      <td>failure</td>\n",
       "    </tr>\n",
       "    <tr>\n",
       "      <th>3</th>\n",
       "      <td>49</td>\n",
       "      <td>blue-collar</td>\n",
       "      <td>married</td>\n",
       "      <td>primary</td>\n",
       "      <td>no</td>\n",
       "      <td>6215</td>\n",
       "      <td>yes</td>\n",
       "      <td>no</td>\n",
       "      <td>cellular</td>\n",
       "      <td>11</td>\n",
       "      <td>may</td>\n",
       "      <td>1</td>\n",
       "      <td>-1</td>\n",
       "      <td>0</td>\n",
       "      <td>unknown</td>\n",
       "    </tr>\n",
       "    <tr>\n",
       "      <th>4</th>\n",
       "      <td>37</td>\n",
       "      <td>services</td>\n",
       "      <td>married</td>\n",
       "      <td>secondary</td>\n",
       "      <td>no</td>\n",
       "      <td>1694</td>\n",
       "      <td>yes</td>\n",
       "      <td>yes</td>\n",
       "      <td>cellular</td>\n",
       "      <td>29</td>\n",
       "      <td>jan</td>\n",
       "      <td>2</td>\n",
       "      <td>251</td>\n",
       "      <td>6</td>\n",
       "      <td>failure</td>\n",
       "    </tr>\n",
       "  </tbody>\n",
       "</table>\n",
       "</div>"
      ],
      "text/plain": [
       "   age          job  marital  education default  balance housing loan  \\\n",
       "0   38   technician  married   tertiary      no      127     yes   no   \n",
       "1   41    housemaid  married    primary      no      365      no   no   \n",
       "2   39   management   single   tertiary      no     2454     yes   no   \n",
       "3   49  blue-collar  married    primary      no     6215     yes   no   \n",
       "4   37     services  married  secondary      no     1694     yes  yes   \n",
       "\n",
       "    contact  day month  campaign  pdays  previous poutcome  \n",
       "0  cellular   14   oct         1     50         2  success  \n",
       "1  cellular    8   aug         5     -1         0  unknown  \n",
       "2  cellular    4   may         3    263         2  failure  \n",
       "3  cellular   11   may         1     -1         0  unknown  \n",
       "4  cellular   29   jan         2    251         6  failure  "
      ]
     },
     "execution_count": 124,
     "metadata": {},
     "output_type": "execute_result"
    }
   ],
   "source": [
    "# Create train_x dataframe\n",
    "X = df.drop(columns=['deposit', 'duration'])\n",
    "X.head()"
   ]
  },
  {
   "cell_type": "code",
   "execution_count": 125,
   "id": "b20dc4a7",
   "metadata": {
    "colab": {
     "base_uri": "https://localhost:8080/",
     "height": 206
    },
    "execution": {
     "iopub.execute_input": "2022-10-21T07:28:05.022401Z",
     "iopub.status.busy": "2022-10-21T07:28:05.021746Z",
     "iopub.status.idle": "2022-10-21T07:28:05.032057Z",
     "shell.execute_reply": "2022-10-21T07:28:05.031081Z"
    },
    "executionInfo": {
     "elapsed": 124,
     "status": "ok",
     "timestamp": 1667803886111,
     "user": {
      "displayName": "ai dev",
      "userId": "10658999908990116858"
     },
     "user_tz": -300
    },
    "id": "b20dc4a7",
    "outputId": "0a9c062d-b209-49d3-99ec-61a570a51130",
    "papermill": {
     "duration": 0.035473,
     "end_time": "2022-10-21T07:28:05.034095",
     "exception": false,
     "start_time": "2022-10-21T07:28:04.998622",
     "status": "completed"
    },
    "tags": []
   },
   "outputs": [
    {
     "data": {
      "text/plain": [
       "0     no\n",
       "1     no\n",
       "2    yes\n",
       "3     no\n",
       "4     no\n",
       "Name: deposit, dtype: object"
      ]
     },
     "execution_count": 125,
     "metadata": {},
     "output_type": "execute_result"
    }
   ],
   "source": [
    "Y = df['deposit']\n",
    "Y.head()"
   ]
  },
  {
   "cell_type": "code",
   "execution_count": 126,
   "id": "be6230d2",
   "metadata": {
    "colab": {
     "base_uri": "https://localhost:8080/"
    },
    "execution": {
     "iopub.execute_input": "2022-10-21T07:28:05.145601Z",
     "iopub.status.busy": "2022-10-21T07:28:05.144905Z",
     "iopub.status.idle": "2022-10-21T07:28:05.155618Z",
     "shell.execute_reply": "2022-10-21T07:28:05.154446Z"
    },
    "executionInfo": {
     "elapsed": 118,
     "status": "ok",
     "timestamp": 1667803886114,
     "user": {
      "displayName": "ai dev",
      "userId": "10658999908990116858"
     },
     "user_tz": -300
    },
    "id": "be6230d2",
    "outputId": "d0b653be-62eb-421c-d7bb-f6db29e01d71",
    "papermill": {
     "duration": 0.036367,
     "end_time": "2022-10-21T07:28:05.157781",
     "exception": false,
     "start_time": "2022-10-21T07:28:05.121414",
     "status": "completed"
    },
    "tags": []
   },
   "outputs": [
    {
     "data": {
      "text/plain": [
       "['job',\n",
       " 'marital',\n",
       " 'default',\n",
       " 'housing',\n",
       " 'loan',\n",
       " 'contact',\n",
       " 'month',\n",
       " 'poutcome']"
      ]
     },
     "execution_count": 126,
     "metadata": {},
     "output_type": "execute_result"
    }
   ],
   "source": [
    "# Get a list of columns for one-hot encoding\n",
    "ohe_cols = list(X.select_dtypes(include='object').columns.values)\n",
    "\n",
    "# We want to ordinal encode education\n",
    "le_col = ['education']\n",
    "\n",
    "# Drop education \n",
    "ohe_cols.remove('education')\n",
    "ohe_cols"
   ]
  },
  {
   "cell_type": "code",
   "execution_count": 127,
   "id": "z_PhxkoTclGP",
   "metadata": {
    "colab": {
     "base_uri": "https://localhost:8080/",
     "height": 424
    },
    "executionInfo": {
     "elapsed": 117,
     "status": "ok",
     "timestamp": 1667803886116,
     "user": {
      "displayName": "ai dev",
      "userId": "10658999908990116858"
     },
     "user_tz": -300
    },
    "id": "z_PhxkoTclGP",
    "outputId": "e5ffdd7f-aaee-495b-d15e-b7124bf3834d",
    "scrolled": true
   },
   "outputs": [
    {
     "data": {
      "text/html": [
       "<div>\n",
       "<style scoped>\n",
       "    .dataframe tbody tr th:only-of-type {\n",
       "        vertical-align: middle;\n",
       "    }\n",
       "\n",
       "    .dataframe tbody tr th {\n",
       "        vertical-align: top;\n",
       "    }\n",
       "\n",
       "    .dataframe thead th {\n",
       "        text-align: right;\n",
       "    }\n",
       "</style>\n",
       "<table border=\"1\" class=\"dataframe\">\n",
       "  <thead>\n",
       "    <tr style=\"text-align: right;\">\n",
       "      <th></th>\n",
       "      <th>job</th>\n",
       "      <th>marital</th>\n",
       "      <th>education</th>\n",
       "      <th>default</th>\n",
       "      <th>housing</th>\n",
       "      <th>loan</th>\n",
       "      <th>contact</th>\n",
       "      <th>month</th>\n",
       "      <th>poutcome</th>\n",
       "      <th>deposit</th>\n",
       "    </tr>\n",
       "  </thead>\n",
       "  <tbody>\n",
       "    <tr>\n",
       "      <th>0</th>\n",
       "      <td>technician</td>\n",
       "      <td>married</td>\n",
       "      <td>tertiary</td>\n",
       "      <td>no</td>\n",
       "      <td>yes</td>\n",
       "      <td>no</td>\n",
       "      <td>cellular</td>\n",
       "      <td>oct</td>\n",
       "      <td>success</td>\n",
       "      <td>no</td>\n",
       "    </tr>\n",
       "    <tr>\n",
       "      <th>1</th>\n",
       "      <td>housemaid</td>\n",
       "      <td>married</td>\n",
       "      <td>primary</td>\n",
       "      <td>no</td>\n",
       "      <td>no</td>\n",
       "      <td>no</td>\n",
       "      <td>cellular</td>\n",
       "      <td>aug</td>\n",
       "      <td>unknown</td>\n",
       "      <td>no</td>\n",
       "    </tr>\n",
       "    <tr>\n",
       "      <th>2</th>\n",
       "      <td>management</td>\n",
       "      <td>single</td>\n",
       "      <td>tertiary</td>\n",
       "      <td>no</td>\n",
       "      <td>yes</td>\n",
       "      <td>no</td>\n",
       "      <td>cellular</td>\n",
       "      <td>may</td>\n",
       "      <td>failure</td>\n",
       "      <td>yes</td>\n",
       "    </tr>\n",
       "    <tr>\n",
       "      <th>3</th>\n",
       "      <td>blue-collar</td>\n",
       "      <td>married</td>\n",
       "      <td>primary</td>\n",
       "      <td>no</td>\n",
       "      <td>yes</td>\n",
       "      <td>no</td>\n",
       "      <td>cellular</td>\n",
       "      <td>may</td>\n",
       "      <td>unknown</td>\n",
       "      <td>no</td>\n",
       "    </tr>\n",
       "    <tr>\n",
       "      <th>4</th>\n",
       "      <td>services</td>\n",
       "      <td>married</td>\n",
       "      <td>secondary</td>\n",
       "      <td>no</td>\n",
       "      <td>yes</td>\n",
       "      <td>yes</td>\n",
       "      <td>cellular</td>\n",
       "      <td>jan</td>\n",
       "      <td>failure</td>\n",
       "      <td>no</td>\n",
       "    </tr>\n",
       "    <tr>\n",
       "      <th>...</th>\n",
       "      <td>...</td>\n",
       "      <td>...</td>\n",
       "      <td>...</td>\n",
       "      <td>...</td>\n",
       "      <td>...</td>\n",
       "      <td>...</td>\n",
       "      <td>...</td>\n",
       "      <td>...</td>\n",
       "      <td>...</td>\n",
       "      <td>...</td>\n",
       "    </tr>\n",
       "    <tr>\n",
       "      <th>8366</th>\n",
       "      <td>management</td>\n",
       "      <td>married</td>\n",
       "      <td>tertiary</td>\n",
       "      <td>no</td>\n",
       "      <td>no</td>\n",
       "      <td>no</td>\n",
       "      <td>cellular</td>\n",
       "      <td>may</td>\n",
       "      <td>unknown</td>\n",
       "      <td>yes</td>\n",
       "    </tr>\n",
       "    <tr>\n",
       "      <th>8367</th>\n",
       "      <td>services</td>\n",
       "      <td>married</td>\n",
       "      <td>secondary</td>\n",
       "      <td>no</td>\n",
       "      <td>no</td>\n",
       "      <td>no</td>\n",
       "      <td>cellular</td>\n",
       "      <td>feb</td>\n",
       "      <td>unknown</td>\n",
       "      <td>yes</td>\n",
       "    </tr>\n",
       "    <tr>\n",
       "      <th>8368</th>\n",
       "      <td>blue-collar</td>\n",
       "      <td>married</td>\n",
       "      <td>primary</td>\n",
       "      <td>no</td>\n",
       "      <td>yes</td>\n",
       "      <td>no</td>\n",
       "      <td>unknown</td>\n",
       "      <td>may</td>\n",
       "      <td>unknown</td>\n",
       "      <td>no</td>\n",
       "    </tr>\n",
       "    <tr>\n",
       "      <th>8369</th>\n",
       "      <td>retired</td>\n",
       "      <td>divorced</td>\n",
       "      <td>unknown</td>\n",
       "      <td>no</td>\n",
       "      <td>yes</td>\n",
       "      <td>no</td>\n",
       "      <td>unknown</td>\n",
       "      <td>may</td>\n",
       "      <td>unknown</td>\n",
       "      <td>no</td>\n",
       "    </tr>\n",
       "    <tr>\n",
       "      <th>8370</th>\n",
       "      <td>blue-collar</td>\n",
       "      <td>divorced</td>\n",
       "      <td>primary</td>\n",
       "      <td>no</td>\n",
       "      <td>no</td>\n",
       "      <td>no</td>\n",
       "      <td>cellular</td>\n",
       "      <td>jul</td>\n",
       "      <td>unknown</td>\n",
       "      <td>yes</td>\n",
       "    </tr>\n",
       "  </tbody>\n",
       "</table>\n",
       "<p>8371 rows × 10 columns</p>\n",
       "</div>"
      ],
      "text/plain": [
       "              job   marital  education default housing loan   contact month  \\\n",
       "0      technician   married   tertiary      no     yes   no  cellular   oct   \n",
       "1       housemaid   married    primary      no      no   no  cellular   aug   \n",
       "2      management    single   tertiary      no     yes   no  cellular   may   \n",
       "3     blue-collar   married    primary      no     yes   no  cellular   may   \n",
       "4        services   married  secondary      no     yes  yes  cellular   jan   \n",
       "...           ...       ...        ...     ...     ...  ...       ...   ...   \n",
       "8366   management   married   tertiary      no      no   no  cellular   may   \n",
       "8367     services   married  secondary      no      no   no  cellular   feb   \n",
       "8368  blue-collar   married    primary      no     yes   no   unknown   may   \n",
       "8369      retired  divorced    unknown      no     yes   no   unknown   may   \n",
       "8370  blue-collar  divorced    primary      no      no   no  cellular   jul   \n",
       "\n",
       "     poutcome deposit  \n",
       "0     success      no  \n",
       "1     unknown      no  \n",
       "2     failure     yes  \n",
       "3     unknown      no  \n",
       "4     failure      no  \n",
       "...       ...     ...  \n",
       "8366  unknown     yes  \n",
       "8367  unknown     yes  \n",
       "8368  unknown      no  \n",
       "8369  unknown      no  \n",
       "8370  unknown     yes  \n",
       "\n",
       "[8371 rows x 10 columns]"
      ]
     },
     "execution_count": 127,
     "metadata": {},
     "output_type": "execute_result"
    }
   ],
   "source": [
    "df[df.select_dtypes(include=\"object\").columns.values]"
   ]
  },
  {
   "cell_type": "code",
   "execution_count": 128,
   "id": "13d5e032",
   "metadata": {
    "colab": {
     "base_uri": "https://localhost:8080/",
     "height": 317
    },
    "execution": {
     "iopub.execute_input": "2022-10-21T07:28:05.203796Z",
     "iopub.status.busy": "2022-10-21T07:28:05.203016Z",
     "iopub.status.idle": "2022-10-21T07:28:05.239833Z",
     "shell.execute_reply": "2022-10-21T07:28:05.238640Z"
    },
    "executionInfo": {
     "elapsed": 118,
     "status": "ok",
     "timestamp": 1667803886118,
     "user": {
      "displayName": "ai dev",
      "userId": "10658999908990116858"
     },
     "user_tz": -300
    },
    "id": "13d5e032",
    "outputId": "e15f3192-006a-47e1-e403-17ab07e206c7",
    "papermill": {
     "duration": 0.06258,
     "end_time": "2022-10-21T07:28:05.242279",
     "exception": false,
     "start_time": "2022-10-21T07:28:05.179699",
     "status": "completed"
    },
    "tags": []
   },
   "outputs": [
    {
     "data": {
      "text/html": [
       "<div>\n",
       "<style scoped>\n",
       "    .dataframe tbody tr th:only-of-type {\n",
       "        vertical-align: middle;\n",
       "    }\n",
       "\n",
       "    .dataframe tbody tr th {\n",
       "        vertical-align: top;\n",
       "    }\n",
       "\n",
       "    .dataframe thead th {\n",
       "        text-align: right;\n",
       "    }\n",
       "</style>\n",
       "<table border=\"1\" class=\"dataframe\">\n",
       "  <thead>\n",
       "    <tr style=\"text-align: right;\">\n",
       "      <th></th>\n",
       "      <th>age</th>\n",
       "      <th>education</th>\n",
       "      <th>balance</th>\n",
       "      <th>day</th>\n",
       "      <th>campaign</th>\n",
       "      <th>pdays</th>\n",
       "      <th>previous</th>\n",
       "      <th>job_blue-collar</th>\n",
       "      <th>job_entrepreneur</th>\n",
       "      <th>job_housemaid</th>\n",
       "      <th>...</th>\n",
       "      <th>month_jul</th>\n",
       "      <th>month_jun</th>\n",
       "      <th>month_mar</th>\n",
       "      <th>month_may</th>\n",
       "      <th>month_nov</th>\n",
       "      <th>month_oct</th>\n",
       "      <th>month_sep</th>\n",
       "      <th>poutcome_other</th>\n",
       "      <th>poutcome_success</th>\n",
       "      <th>poutcome_unknown</th>\n",
       "    </tr>\n",
       "  </thead>\n",
       "  <tbody>\n",
       "    <tr>\n",
       "      <th>0</th>\n",
       "      <td>38</td>\n",
       "      <td>tertiary</td>\n",
       "      <td>127</td>\n",
       "      <td>14</td>\n",
       "      <td>1</td>\n",
       "      <td>50</td>\n",
       "      <td>2</td>\n",
       "      <td>0</td>\n",
       "      <td>0</td>\n",
       "      <td>0</td>\n",
       "      <td>...</td>\n",
       "      <td>0</td>\n",
       "      <td>0</td>\n",
       "      <td>0</td>\n",
       "      <td>0</td>\n",
       "      <td>0</td>\n",
       "      <td>1</td>\n",
       "      <td>0</td>\n",
       "      <td>0</td>\n",
       "      <td>1</td>\n",
       "      <td>0</td>\n",
       "    </tr>\n",
       "    <tr>\n",
       "      <th>1</th>\n",
       "      <td>41</td>\n",
       "      <td>primary</td>\n",
       "      <td>365</td>\n",
       "      <td>8</td>\n",
       "      <td>5</td>\n",
       "      <td>-1</td>\n",
       "      <td>0</td>\n",
       "      <td>0</td>\n",
       "      <td>0</td>\n",
       "      <td>1</td>\n",
       "      <td>...</td>\n",
       "      <td>0</td>\n",
       "      <td>0</td>\n",
       "      <td>0</td>\n",
       "      <td>0</td>\n",
       "      <td>0</td>\n",
       "      <td>0</td>\n",
       "      <td>0</td>\n",
       "      <td>0</td>\n",
       "      <td>0</td>\n",
       "      <td>1</td>\n",
       "    </tr>\n",
       "    <tr>\n",
       "      <th>2</th>\n",
       "      <td>39</td>\n",
       "      <td>tertiary</td>\n",
       "      <td>2454</td>\n",
       "      <td>4</td>\n",
       "      <td>3</td>\n",
       "      <td>263</td>\n",
       "      <td>2</td>\n",
       "      <td>0</td>\n",
       "      <td>0</td>\n",
       "      <td>0</td>\n",
       "      <td>...</td>\n",
       "      <td>0</td>\n",
       "      <td>0</td>\n",
       "      <td>0</td>\n",
       "      <td>1</td>\n",
       "      <td>0</td>\n",
       "      <td>0</td>\n",
       "      <td>0</td>\n",
       "      <td>0</td>\n",
       "      <td>0</td>\n",
       "      <td>0</td>\n",
       "    </tr>\n",
       "    <tr>\n",
       "      <th>3</th>\n",
       "      <td>49</td>\n",
       "      <td>primary</td>\n",
       "      <td>6215</td>\n",
       "      <td>11</td>\n",
       "      <td>1</td>\n",
       "      <td>-1</td>\n",
       "      <td>0</td>\n",
       "      <td>1</td>\n",
       "      <td>0</td>\n",
       "      <td>0</td>\n",
       "      <td>...</td>\n",
       "      <td>0</td>\n",
       "      <td>0</td>\n",
       "      <td>0</td>\n",
       "      <td>1</td>\n",
       "      <td>0</td>\n",
       "      <td>0</td>\n",
       "      <td>0</td>\n",
       "      <td>0</td>\n",
       "      <td>0</td>\n",
       "      <td>1</td>\n",
       "    </tr>\n",
       "    <tr>\n",
       "      <th>4</th>\n",
       "      <td>37</td>\n",
       "      <td>secondary</td>\n",
       "      <td>1694</td>\n",
       "      <td>29</td>\n",
       "      <td>2</td>\n",
       "      <td>251</td>\n",
       "      <td>6</td>\n",
       "      <td>0</td>\n",
       "      <td>0</td>\n",
       "      <td>0</td>\n",
       "      <td>...</td>\n",
       "      <td>0</td>\n",
       "      <td>0</td>\n",
       "      <td>0</td>\n",
       "      <td>0</td>\n",
       "      <td>0</td>\n",
       "      <td>0</td>\n",
       "      <td>0</td>\n",
       "      <td>0</td>\n",
       "      <td>0</td>\n",
       "      <td>0</td>\n",
       "    </tr>\n",
       "  </tbody>\n",
       "</table>\n",
       "<p>5 rows × 39 columns</p>\n",
       "</div>"
      ],
      "text/plain": [
       "   age  education  balance  day  campaign  pdays  previous  job_blue-collar  \\\n",
       "0   38   tertiary      127   14         1     50         2                0   \n",
       "1   41    primary      365    8         5     -1         0                0   \n",
       "2   39   tertiary     2454    4         3    263         2                0   \n",
       "3   49    primary     6215   11         1     -1         0                1   \n",
       "4   37  secondary     1694   29         2    251         6                0   \n",
       "\n",
       "   job_entrepreneur  job_housemaid  ...  month_jul  month_jun  month_mar  \\\n",
       "0                 0              0  ...          0          0          0   \n",
       "1                 0              1  ...          0          0          0   \n",
       "2                 0              0  ...          0          0          0   \n",
       "3                 0              0  ...          0          0          0   \n",
       "4                 0              0  ...          0          0          0   \n",
       "\n",
       "   month_may  month_nov  month_oct  month_sep  poutcome_other  \\\n",
       "0          0          0          1          0               0   \n",
       "1          0          0          0          0               0   \n",
       "2          1          0          0          0               0   \n",
       "3          1          0          0          0               0   \n",
       "4          0          0          0          0               0   \n",
       "\n",
       "   poutcome_success  poutcome_unknown  \n",
       "0                 1                 0  \n",
       "1                 0                 1  \n",
       "2                 0                 0  \n",
       "3                 0                 1  \n",
       "4                 0                 0  \n",
       "\n",
       "[5 rows x 39 columns]"
      ]
     },
     "execution_count": 128,
     "metadata": {},
     "output_type": "execute_result"
    }
   ],
   "source": [
    "X = pd.get_dummies(X, prefix=ohe_cols, columns=ohe_cols, drop_first=True)\n",
    "X.head()"
   ]
  },
  {
   "cell_type": "code",
   "execution_count": 129,
   "id": "acf69aac",
   "metadata": {
    "colab": {
     "base_uri": "https://localhost:8080/"
    },
    "execution": {
     "iopub.execute_input": "2022-10-21T07:28:05.289176Z",
     "iopub.status.busy": "2022-10-21T07:28:05.288496Z",
     "iopub.status.idle": "2022-10-21T07:28:05.303706Z",
     "shell.execute_reply": "2022-10-21T07:28:05.302459Z"
    },
    "executionInfo": {
     "elapsed": 118,
     "status": "ok",
     "timestamp": 1667803886120,
     "user": {
      "displayName": "ai dev",
      "userId": "10658999908990116858"
     },
     "user_tz": -300
    },
    "id": "acf69aac",
    "outputId": "8e7dc395-3930-4735-ffee-7f58b807c007",
    "papermill": {
     "duration": 0.041249,
     "end_time": "2022-10-21T07:28:05.305977",
     "exception": false,
     "start_time": "2022-10-21T07:28:05.264728",
     "status": "completed"
    },
    "tags": []
   },
   "outputs": [
    {
     "data": {
      "text/plain": [
       "2    0.491339\n",
       "3    0.328993\n",
       "1    0.134751\n",
       "0    0.044917\n",
       "Name: education, dtype: float64"
      ]
     },
     "execution_count": 129,
     "metadata": {},
     "output_type": "execute_result"
    }
   ],
   "source": [
    "# Perform encoding on education as one hot encoding is not suitable for the education column\n",
    "ed_cat = {'unknown': 0, \n",
    "          'primary': 1,\n",
    "          'secondary': 2,\n",
    "          'tertiary': 3}\n",
    "X['education'] = X['education'].replace(ed_cat)\n",
    "X['education'].value_counts(normalize=True)"
   ]
  },
  {
   "cell_type": "code",
   "execution_count": 130,
   "id": "58a3cd9e",
   "metadata": {
    "colab": {
     "base_uri": "https://localhost:8080/",
     "height": 317
    },
    "execution": {
     "iopub.execute_input": "2022-10-21T07:28:05.352856Z",
     "iopub.status.busy": "2022-10-21T07:28:05.352162Z",
     "iopub.status.idle": "2022-10-21T07:28:05.370728Z",
     "shell.execute_reply": "2022-10-21T07:28:05.369531Z"
    },
    "executionInfo": {
     "elapsed": 112,
     "status": "ok",
     "timestamp": 1667803886122,
     "user": {
      "displayName": "ai dev",
      "userId": "10658999908990116858"
     },
     "user_tz": -300
    },
    "id": "58a3cd9e",
    "outputId": "017dfc65-f856-456c-c94a-91fbfdfef820",
    "papermill": {
     "duration": 0.044586,
     "end_time": "2022-10-21T07:28:05.372924",
     "exception": false,
     "start_time": "2022-10-21T07:28:05.328338",
     "status": "completed"
    },
    "tags": []
   },
   "outputs": [
    {
     "data": {
      "text/html": [
       "<div>\n",
       "<style scoped>\n",
       "    .dataframe tbody tr th:only-of-type {\n",
       "        vertical-align: middle;\n",
       "    }\n",
       "\n",
       "    .dataframe tbody tr th {\n",
       "        vertical-align: top;\n",
       "    }\n",
       "\n",
       "    .dataframe thead th {\n",
       "        text-align: right;\n",
       "    }\n",
       "</style>\n",
       "<table border=\"1\" class=\"dataframe\">\n",
       "  <thead>\n",
       "    <tr style=\"text-align: right;\">\n",
       "      <th></th>\n",
       "      <th>age</th>\n",
       "      <th>education</th>\n",
       "      <th>balance</th>\n",
       "      <th>day</th>\n",
       "      <th>campaign</th>\n",
       "      <th>pdays</th>\n",
       "      <th>previous</th>\n",
       "      <th>job_blue-collar</th>\n",
       "      <th>job_entrepreneur</th>\n",
       "      <th>job_housemaid</th>\n",
       "      <th>...</th>\n",
       "      <th>month_jul</th>\n",
       "      <th>month_jun</th>\n",
       "      <th>month_mar</th>\n",
       "      <th>month_may</th>\n",
       "      <th>month_nov</th>\n",
       "      <th>month_oct</th>\n",
       "      <th>month_sep</th>\n",
       "      <th>poutcome_other</th>\n",
       "      <th>poutcome_success</th>\n",
       "      <th>poutcome_unknown</th>\n",
       "    </tr>\n",
       "  </thead>\n",
       "  <tbody>\n",
       "    <tr>\n",
       "      <th>0</th>\n",
       "      <td>38</td>\n",
       "      <td>3</td>\n",
       "      <td>127</td>\n",
       "      <td>14</td>\n",
       "      <td>1</td>\n",
       "      <td>50</td>\n",
       "      <td>2</td>\n",
       "      <td>0</td>\n",
       "      <td>0</td>\n",
       "      <td>0</td>\n",
       "      <td>...</td>\n",
       "      <td>0</td>\n",
       "      <td>0</td>\n",
       "      <td>0</td>\n",
       "      <td>0</td>\n",
       "      <td>0</td>\n",
       "      <td>1</td>\n",
       "      <td>0</td>\n",
       "      <td>0</td>\n",
       "      <td>1</td>\n",
       "      <td>0</td>\n",
       "    </tr>\n",
       "    <tr>\n",
       "      <th>1</th>\n",
       "      <td>41</td>\n",
       "      <td>1</td>\n",
       "      <td>365</td>\n",
       "      <td>8</td>\n",
       "      <td>5</td>\n",
       "      <td>-1</td>\n",
       "      <td>0</td>\n",
       "      <td>0</td>\n",
       "      <td>0</td>\n",
       "      <td>1</td>\n",
       "      <td>...</td>\n",
       "      <td>0</td>\n",
       "      <td>0</td>\n",
       "      <td>0</td>\n",
       "      <td>0</td>\n",
       "      <td>0</td>\n",
       "      <td>0</td>\n",
       "      <td>0</td>\n",
       "      <td>0</td>\n",
       "      <td>0</td>\n",
       "      <td>1</td>\n",
       "    </tr>\n",
       "    <tr>\n",
       "      <th>2</th>\n",
       "      <td>39</td>\n",
       "      <td>3</td>\n",
       "      <td>2454</td>\n",
       "      <td>4</td>\n",
       "      <td>3</td>\n",
       "      <td>263</td>\n",
       "      <td>2</td>\n",
       "      <td>0</td>\n",
       "      <td>0</td>\n",
       "      <td>0</td>\n",
       "      <td>...</td>\n",
       "      <td>0</td>\n",
       "      <td>0</td>\n",
       "      <td>0</td>\n",
       "      <td>1</td>\n",
       "      <td>0</td>\n",
       "      <td>0</td>\n",
       "      <td>0</td>\n",
       "      <td>0</td>\n",
       "      <td>0</td>\n",
       "      <td>0</td>\n",
       "    </tr>\n",
       "    <tr>\n",
       "      <th>3</th>\n",
       "      <td>49</td>\n",
       "      <td>1</td>\n",
       "      <td>6215</td>\n",
       "      <td>11</td>\n",
       "      <td>1</td>\n",
       "      <td>-1</td>\n",
       "      <td>0</td>\n",
       "      <td>1</td>\n",
       "      <td>0</td>\n",
       "      <td>0</td>\n",
       "      <td>...</td>\n",
       "      <td>0</td>\n",
       "      <td>0</td>\n",
       "      <td>0</td>\n",
       "      <td>1</td>\n",
       "      <td>0</td>\n",
       "      <td>0</td>\n",
       "      <td>0</td>\n",
       "      <td>0</td>\n",
       "      <td>0</td>\n",
       "      <td>1</td>\n",
       "    </tr>\n",
       "    <tr>\n",
       "      <th>4</th>\n",
       "      <td>37</td>\n",
       "      <td>2</td>\n",
       "      <td>1694</td>\n",
       "      <td>29</td>\n",
       "      <td>2</td>\n",
       "      <td>251</td>\n",
       "      <td>6</td>\n",
       "      <td>0</td>\n",
       "      <td>0</td>\n",
       "      <td>0</td>\n",
       "      <td>...</td>\n",
       "      <td>0</td>\n",
       "      <td>0</td>\n",
       "      <td>0</td>\n",
       "      <td>0</td>\n",
       "      <td>0</td>\n",
       "      <td>0</td>\n",
       "      <td>0</td>\n",
       "      <td>0</td>\n",
       "      <td>0</td>\n",
       "      <td>0</td>\n",
       "    </tr>\n",
       "  </tbody>\n",
       "</table>\n",
       "<p>5 rows × 39 columns</p>\n",
       "</div>"
      ],
      "text/plain": [
       "   age  education  balance  day  campaign  pdays  previous  job_blue-collar  \\\n",
       "0   38          3      127   14         1     50         2                0   \n",
       "1   41          1      365    8         5     -1         0                0   \n",
       "2   39          3     2454    4         3    263         2                0   \n",
       "3   49          1     6215   11         1     -1         0                1   \n",
       "4   37          2     1694   29         2    251         6                0   \n",
       "\n",
       "   job_entrepreneur  job_housemaid  ...  month_jul  month_jun  month_mar  \\\n",
       "0                 0              0  ...          0          0          0   \n",
       "1                 0              1  ...          0          0          0   \n",
       "2                 0              0  ...          0          0          0   \n",
       "3                 0              0  ...          0          0          0   \n",
       "4                 0              0  ...          0          0          0   \n",
       "\n",
       "   month_may  month_nov  month_oct  month_sep  poutcome_other  \\\n",
       "0          0          0          1          0               0   \n",
       "1          0          0          0          0               0   \n",
       "2          1          0          0          0               0   \n",
       "3          1          0          0          0               0   \n",
       "4          0          0          0          0               0   \n",
       "\n",
       "   poutcome_success  poutcome_unknown  \n",
       "0                 1                 0  \n",
       "1                 0                 1  \n",
       "2                 0                 0  \n",
       "3                 0                 1  \n",
       "4                 0                 0  \n",
       "\n",
       "[5 rows x 39 columns]"
      ]
     },
     "execution_count": 130,
     "metadata": {},
     "output_type": "execute_result"
    }
   ],
   "source": [
    "X.head()"
   ]
  },
  {
   "cell_type": "markdown",
   "id": "weEjRF4QdZ5p",
   "metadata": {
    "id": "weEjRF4QdZ5p"
   },
   "source": [
    "As we know that our model don't perform on Label mean textual data . That's for it we have to convert these label which is male and femal in numbers .For converting Label into 0,1 format of Label column , we will use Label Encoder . Label encoder assigned the value on the basis of the order of alphabets. That's for it , Female will be 0 and male will be 1 ."
   ]
  },
  {
   "cell_type": "code",
   "execution_count": 131,
   "id": "b93808fb",
   "metadata": {
    "colab": {
     "base_uri": "https://localhost:8080/"
    },
    "execution": {
     "iopub.execute_input": "2022-10-21T07:28:05.420542Z",
     "iopub.status.busy": "2022-10-21T07:28:05.419891Z",
     "iopub.status.idle": "2022-10-21T07:28:05.433517Z",
     "shell.execute_reply": "2022-10-21T07:28:05.432478Z"
    },
    "executionInfo": {
     "elapsed": 114,
     "status": "ok",
     "timestamp": 1667803886125,
     "user": {
      "displayName": "ai dev",
      "userId": "10658999908990116858"
     },
     "user_tz": -300
    },
    "id": "b93808fb",
    "outputId": "c57c2732-f90c-4d21-cb7c-a72e150b54f8",
    "papermill": {
     "duration": 0.04004,
     "end_time": "2022-10-21T07:28:05.435688",
     "exception": false,
     "start_time": "2022-10-21T07:28:05.395648",
     "status": "completed"
    },
    "tags": []
   },
   "outputs": [
    {
     "data": {
      "text/plain": [
       "array([0, 0, 1, ..., 0, 0, 1])"
      ]
     },
     "execution_count": 131,
     "metadata": {},
     "output_type": "execute_result"
    }
   ],
   "source": [
    "# Converting outcome column to \n",
    "from sklearn import preprocessing\n",
    "le = preprocessing.LabelEncoder()\n",
    "Y = le.fit_transform(Y)"
   ]
  },
  {
   "cell_type": "code",
   "execution_count": 138,
   "id": "m5K7QLtheGzK",
   "metadata": {
    "executionInfo": {
     "elapsed": 22,
     "status": "ok",
     "timestamp": 1667803890821,
     "user": {
      "displayName": "ai dev",
      "userId": "10658999908990116858"
     },
     "user_tz": -300
    },
    "id": "m5K7QLtheGzK"
   },
   "outputs": [],
   "source": [
    "from sklearn.model_selection import train_test_split\n",
    "X_train, X_test, y_train, y_test = train_test_split(X,Y, random_state = 0)"
   ]
  },
  {
   "cell_type": "code",
   "execution_count": 133,
   "id": "9PbBuAUBd6Rs",
   "metadata": {
    "colab": {
     "base_uri": "https://localhost:8080/"
    },
    "executionInfo": {
     "elapsed": 138,
     "status": "ok",
     "timestamp": 1667803887303,
     "user": {
      "displayName": "ai dev",
      "userId": "10658999908990116858"
     },
     "user_tz": -300
    },
    "id": "9PbBuAUBd6Rs",
    "outputId": "f28ad649-b6eb-47f1-b852-c3203de6caf5",
    "scrolled": true
   },
   "outputs": [
    {
     "data": {
      "text/plain": [
       "no     4428\n",
       "yes    3943\n",
       "Name: deposit, dtype: int64"
      ]
     },
     "execution_count": 133,
     "metadata": {},
     "output_type": "execute_result"
    }
   ],
   "source": [
    "df['deposit'].value_counts()"
   ]
  },
  {
   "cell_type": "markdown",
   "id": "NVIWNeI5yO9T",
   "metadata": {
    "id": "NVIWNeI5yO9T"
   },
   "source": [
    "**Feature Scaling**"
   ]
  },
  {
   "cell_type": "code",
   "execution_count": 134,
   "id": "0cAVh878kk2u",
   "metadata": {
    "executionInfo": {
     "elapsed": 151,
     "status": "ok",
     "timestamp": 1667803887350,
     "user": {
      "displayName": "ai dev",
      "userId": "10658999908990116858"
     },
     "user_tz": -300
    },
    "id": "0cAVh878kk2u"
   },
   "outputs": [],
   "source": [
    "from sklearn.preprocessing import MinMaxScaler\n",
    "\n",
    "sc_X = MinMaxScaler() \n",
    "X = sc_X.fit_transform(X)"
   ]
  },
  {
   "cell_type": "markdown",
   "id": "dQjsxMm_yR94",
   "metadata": {
    "id": "dQjsxMm_yR94"
   },
   "source": [
    "**Selecting Best 30 columns out of 39 using chi2 Test**"
   ]
  },
  {
   "cell_type": "code",
   "execution_count": 135,
   "id": "9_wL5W8VmwvD",
   "metadata": {
    "executionInfo": {
     "elapsed": 143,
     "status": "ok",
     "timestamp": 1667803887352,
     "user": {
      "displayName": "ai dev",
      "userId": "10658999908990116858"
     },
     "user_tz": -300
    },
    "id": "9_wL5W8VmwvD"
   },
   "outputs": [],
   "source": [
    "from sklearn.feature_selection import SelectKBest\n",
    "from sklearn.feature_selection import chi2\n",
    "test = SelectKBest(score_func=chi2, k=30)\n",
    "fit = test.fit(X, Y)\n",
    "X=test.fit_transform(X, Y)"
   ]
  },
  {
   "cell_type": "code",
   "execution_count": 136,
   "id": "ihPGYWa_ov5S",
   "metadata": {
    "colab": {
     "base_uri": "https://localhost:8080/"
    },
    "executionInfo": {
     "elapsed": 159,
     "status": "ok",
     "timestamp": 1667803887369,
     "user": {
      "displayName": "ai dev",
      "userId": "10658999908990116858"
     },
     "user_tz": -300
    },
    "id": "ihPGYWa_ov5S",
    "outputId": "f6e203be-744e-4141-caa2-226570f97961"
   },
   "outputs": [
    {
     "data": {
      "text/plain": [
       "30"
      ]
     },
     "execution_count": 136,
     "metadata": {},
     "output_type": "execute_result"
    }
   ],
   "source": [
    "len(X[0])"
   ]
  },
  {
   "cell_type": "markdown",
   "id": "rAgP8MOauIgP",
   "metadata": {
    "id": "rAgP8MOauIgP"
   },
   "source": [
    ".Logisitc Regression is our base model\n",
    "\n",
    ".Random Forest Classifier is our actual model"
   ]
  },
  {
   "cell_type": "code",
   "execution_count": 137,
   "id": "pajKzZPWusW9",
   "metadata": {
    "colab": {
     "base_uri": "https://localhost:8080/"
    },
    "executionInfo": {
     "elapsed": 3538,
     "status": "ok",
     "timestamp": 1667803890816,
     "user": {
      "displayName": "ai dev",
      "userId": "10658999908990116858"
     },
     "user_tz": -300
    },
    "id": "pajKzZPWusW9",
    "outputId": "3e3c3dd9-1f8f-4e0c-dc95-dd72a21b7943"
   },
   "outputs": [],
   "source": [
    "from sklearn.linear_model import LogisticRegression\n",
    "from sklearn.metrics import confusion_matrix,classification_report,accuracy_score\n",
    "from sklearn.model_selection import cross_val_score"
   ]
  },
  {
   "cell_type": "markdown",
   "id": "UYWre3sEyjS2",
   "metadata": {
    "id": "UYWre3sEyjS2"
   },
   "source": [
    "**Splitting our dataset into train and test**"
   ]
  },
  {
   "cell_type": "code",
   "execution_count": 139,
   "id": "e3825371",
   "metadata": {},
   "outputs": [
    {
     "name": "stdout",
     "output_type": "stream",
     "text": [
      "              precision    recall  f1-score   support\n",
      "\n",
      "           0       0.68      0.80      0.73       884\n",
      "           1       0.72      0.57      0.64       791\n",
      "\n",
      "    accuracy                           0.69      1675\n",
      "   macro avg       0.70      0.69      0.69      1675\n",
      "weighted avg       0.70      0.69      0.69      1675\n",
      "\n"
     ]
    },
    {
     "data": {
      "image/png": "[encoded data removed]",
      "text/plain": [
       "<Figure size 550x400 with 2 Axes>"
      ]
     },
     "metadata": {},
     "output_type": "display_data"
    }
   ],
   "source": [
    "# Logistic Regression\n",
    "from sklearn.linear_model import LogisticRegression\n",
    "from sklearn.ensemble import RandomForestClassifier \n",
    "from sklearn.metrics import confusion_matrix,classification_report,accuracy_score\n",
    "\n",
    "lr = LogisticRegression()\n",
    "\n",
    "lr_accuracy = []\n",
    "lr.fit(X_train, y_train)\n",
    "y_predict = lr.predict(X_test)\n",
    "lr_accuracy.append(accuracy_score(y_predict,y_test))\n",
    "print(classification_report(y_test,y_predict))\n",
    "cm = confusion_matrix(y_test, y_predict)\n",
    "cm_df = pd.DataFrame(cm,\n",
    "                     index = ['No','Yes',], \n",
    "                     columns = ['No','Yes'])\n",
    "\n",
    "plt.figure(figsize=(5.5,4))\n",
    "sns.heatmap(cm_df, fmt='d', annot=True)\n",
    "plt.title('Logistic Regression')\n",
    "plt.ylabel('True label')\n",
    "plt.xlabel('Predicted label')\n",
    "plt.show()"
   ]
  },
  {
   "cell_type": "markdown",
   "id": "HXacJKOxyatF",
   "metadata": {
    "id": "HXacJKOxyatF"
   },
   "source": [
    "**Cross Validation with Random Forest Classifier**"
   ]
  },
  {
   "cell_type": "code",
   "execution_count": 140,
   "id": "315d18a6",
   "metadata": {},
   "outputs": [
    {
     "name": "stdout",
     "output_type": "stream",
     "text": [
      "[0.69373134 0.69772999 0.67144564 0.67682198 0.67383513]\n"
     ]
    }
   ],
   "source": [
    "from sklearn.ensemble import RandomForestClassifier \n",
    "rf = RandomForestClassifier()\n",
    "scores = cross_val_score(rf, X, Y, scoring='accuracy')\n",
    "print(scores)"
   ]
  },
  {
   "cell_type": "code",
   "execution_count": 141,
   "id": "e34f74ea",
   "metadata": {},
   "outputs": [
    {
     "name": "stdout",
     "output_type": "stream",
     "text": [
      "              precision    recall  f1-score   support\n",
      "\n",
      "           0       0.68      0.80      0.73       884\n",
      "           1       0.72      0.57      0.64       791\n",
      "\n",
      "    accuracy                           0.69      1675\n",
      "   macro avg       0.70      0.69      0.69      1675\n",
      "weighted avg       0.70      0.69      0.69      1675\n",
      "\n"
     ]
    },
    {
     "data": {
      "image/png": "[encoded data removed]",
      "text/plain": [
       "<Figure size 550x400 with 2 Axes>"
      ]
     },
     "metadata": {},
     "output_type": "display_data"
    }
   ],
   "source": [
    "from sklearn.metrics import confusion_matrix, classification_report,accuracy_score\n",
    "\n",
    "models = [lr ,rf]\n",
    "accuracy = []\n",
    "for model in models :\n",
    "  model.fit(X_train, y_train)\n",
    "  y_predict = model.predict(X_test)\n",
    "  accuracy.append(accuracy_score(y_predict,y_test))\n",
    "  print(\"*\"*35,model,\"*\"*35)\n",
    "  print(f'+++++++++++++ {\"=\"*20} Classification Report  {model} {\"=\"*20} ')\n",
    "  print(classification_report(y_test,y_predict))\n",
    "\n",
    "  print(f'+++++++++++++ {\"=\"*20} Confusion Metrix of {model} {\"=\"*20} ')\n",
    "          \n",
    "  cm = confusion_matrix(y_test, y_predict) \n",
    "\n",
    "# # Transform to df for easier plotting\n",
    "  cm_df = pd.DataFrame(cm,\n",
    "                     index = ['No','Yes',], \n",
    "                     columns = ['No','Yes'])\n",
    "\n",
    "  plt.figure(figsize=(5.5,4))\n",
    "  sns.heatmap(cm_df, fmt='d', annot=True)\n",
    "  plt.title(model)\n",
    "  plt.ylabel('True label')\n",
    "  plt.xlabel('Predicted label')\n",
    "  plt.show()"
   ]
  },
  {
   "cell_type": "markdown",
   "id": "6dbFC1NCyrhk",
   "metadata": {
    "id": "6dbFC1NCyrhk"
   },
   "source": [
    "**Analyzing Results**"
   ]
  },
  {
   "cell_type": "code",
   "execution_count": 118,
   "id": "IOHauvQorRkF",
   "metadata": {
    "colab": {
     "base_uri": "https://localhost:8080/",
     "height": 112
    },
    "executionInfo": {
     "elapsed": 24,
     "status": "ok",
     "timestamp": 1667803893419,
     "user": {
      "displayName": "ai dev",
      "userId": "10658999908990116858"
     },
     "user_tz": -300
    },
    "id": "IOHauvQorRkF",
    "outputId": "669a4af8-105e-4da0-8f29-025533dd4c78"
   },
   "outputs": [
    {
     "name": "stdout",
     "output_type": "stream",
     "text": [
      "Logistic Regression:  [0.8280597014925373]\n",
      "Logitistic Regression:  [0.8280597014925373]\n"
     ]
    }
   ],
   "source": [
    "print('Logistic Regression: ', lr_accuracy)\n",
    "print('Random Forest Regression: ', rf_accuracy)\n"
   ]
  },
  {
   "cell_type": "markdown",
   "id": "B3PiSfLSywIn",
   "metadata": {
    "id": "B3PiSfLSywIn"
   },
   "source": [
    "**How we can enhance accuracy of our base model and actual model**"
   ]
  },
  {
   "cell_type": "markdown",
   "id": "7UDCIoc1sbt1",
   "metadata": {
    "id": "7UDCIoc1sbt1"
   },
   "source": [
    "we are getting good accuracy on both models .Accuracy mean the quality or state of being correct or precise .Accuarcy of Logistic Regression model which is our baseline model is 83% and our actual model Random Forest whose accuracy is around 85% . If we want to increase the accuracy of Logistic Regression baseline model then we will have to do the hyper parameter tunning using \n",
    "\n",
    "GridSearchCV,\n",
    "\n",
    "RandomsizedSearch CV,\n",
    "\n",
    "HyperOpt-Sklearn etc, "
   ]
  }
 ],
 "metadata": {
  "colab": {
   "collapsed_sections": [],
   "provenance": []
  },
  "kernelspec": {
   "display_name": "Python 3 (ipykernel)",
   "language": "python",
   "name": "python3"
  },
  "language_info": {
   "codemirror_mode": {
    "name": "ipython",
    "version": 3
   },
   "file_extension": ".py",
   "mimetype": "text/x-python",
   "name": "python",
   "nbconvert_exporter": "python",
   "pygments_lexer": "ipython3",
   "version": "3.9.13"
  },
  "papermill": {
   "default_parameters": {},
   "duration": 31.012306,
   "end_time": "2022-10-21T07:28:20.188216",
   "environment_variables": {},
   "exception": null,
   "input_path": "__notebook__.ipynb",
   "output_path": "__notebook__.ipynb",
   "parameters": {},
   "start_time": "2022-10-21T07:27:49.175910",
   "version": "2.3.4"
  }
 },
 "nbformat": 4,
 "nbformat_minor": 5
}
