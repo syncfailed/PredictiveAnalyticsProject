{
 "cells": [
  {
   "cell_type": "code",
   "execution_count": 1,
   "id": "681601ff",
   "metadata": {
    "execution": {
     "iopub.execute_input": "2022-10-21T07:27:57.826694Z",
     "iopub.status.busy": "2022-10-21T07:27:57.825347Z",
     "iopub.status.idle": "2022-10-21T07:27:59.291232Z",
     "shell.execute_reply": "2022-10-21T07:27:59.290289Z"
    },
    "id": "681601ff",
    "papermill": {
     "duration": 1.486012,
     "end_time": "2022-10-21T07:27:59.293954",
     "exception": false,
     "start_time": "2022-10-21T07:27:57.807942",
     "status": "completed"
    },
    "tags": []
   },
   "outputs": [
    {
     "name": "stderr",
     "output_type": "stream",
     "text": [
      "C:\\Users\\jigna\\anaconda3\\lib\\site-packages\\scipy\\__init__.py:146: UserWarning: A NumPy version >=1.16.5 and <1.23.0 is required for this version of SciPy (detected version 1.23.3\n",
      "  warnings.warn(f\"A NumPy version >={np_minversion} and <{np_maxversion}\"\n"
     ]
    }
   ],
   "source": [
    "# Import necessary libraries\n",
    "import numpy as np\n",
    "import pandas as pd\n",
    "import matplotlib.pyplot as plt\n",
    "import seaborn as sns\n",
    "\n",
    "from sklearn.model_selection import train_test_split, cross_val_score\n",
    "from sklearn.preprocessing import OneHotEncoder, LabelEncoder\n",
    "from sklearn.tree import DecisionTreeClassifier\n",
    "from sklearn.ensemble import RandomForestClassifier\n",
    "from sklearn.metrics import recall_score, confusion_matrix, classification_report"
   ]
  },
  {
   "cell_type": "code",
   "execution_count": 2,
   "id": "1c294100",
   "metadata": {
    "colab": {
     "base_uri": "https://localhost:8080/",
     "height": 270
    },
    "execution": {
     "iopub.execute_input": "2022-10-21T07:27:59.357853Z",
     "iopub.status.busy": "2022-10-21T07:27:59.357420Z",
     "iopub.status.idle": "2022-10-21T07:27:59.443299Z",
     "shell.execute_reply": "2022-10-21T07:27:59.442156Z"
    },
    "executionInfo": {
     "elapsed": 123,
     "status": "ok",
     "timestamp": 1667803886082,
     "user": {
      "displayName": "ai dev",
      "userId": "10658999908990116858"
     },
     "user_tz": -300
    },
    "id": "1c294100",
    "outputId": "97bb7438-dfd7-4a6c-8da6-7a1be22e313a",
    "papermill": {
     "duration": 0.107584,
     "end_time": "2022-10-21T07:27:59.447362",
     "exception": false,
     "start_time": "2022-10-21T07:27:59.339778",
     "status": "completed"
    },
    "tags": []
   },
   "outputs": [
    {
     "data": {
      "text/html": [
       "<div>\n",
       "<style scoped>\n",
       "    .dataframe tbody tr th:only-of-type {\n",
       "        vertical-align: middle;\n",
       "    }\n",
       "\n",
       "    .dataframe tbody tr th {\n",
       "        vertical-align: top;\n",
       "    }\n",
       "\n",
       "    .dataframe thead th {\n",
       "        text-align: right;\n",
       "    }\n",
       "</style>\n",
       "<table border=\"1\" class=\"dataframe\">\n",
       "  <thead>\n",
       "    <tr style=\"text-align: right;\">\n",
       "      <th></th>\n",
       "      <th>age</th>\n",
       "      <th>job</th>\n",
       "      <th>marital</th>\n",
       "      <th>education</th>\n",
       "      <th>default</th>\n",
       "      <th>balance</th>\n",
       "      <th>housing</th>\n",
       "      <th>loan</th>\n",
       "      <th>contact</th>\n",
       "      <th>day</th>\n",
       "      <th>month</th>\n",
       "      <th>duration</th>\n",
       "      <th>campaign</th>\n",
       "      <th>pdays</th>\n",
       "      <th>previous</th>\n",
       "      <th>poutcome</th>\n",
       "      <th>deposit</th>\n",
       "    </tr>\n",
       "  </thead>\n",
       "  <tbody>\n",
       "    <tr>\n",
       "      <th>0</th>\n",
       "      <td>38</td>\n",
       "      <td>technician</td>\n",
       "      <td>married</td>\n",
       "      <td>tertiary</td>\n",
       "      <td>no</td>\n",
       "      <td>127</td>\n",
       "      <td>yes</td>\n",
       "      <td>no</td>\n",
       "      <td>cellular</td>\n",
       "      <td>14</td>\n",
       "      <td>oct</td>\n",
       "      <td>113</td>\n",
       "      <td>1</td>\n",
       "      <td>50</td>\n",
       "      <td>2</td>\n",
       "      <td>success</td>\n",
       "      <td>no</td>\n",
       "    </tr>\n",
       "    <tr>\n",
       "      <th>1</th>\n",
       "      <td>41</td>\n",
       "      <td>housemaid</td>\n",
       "      <td>married</td>\n",
       "      <td>primary</td>\n",
       "      <td>no</td>\n",
       "      <td>365</td>\n",
       "      <td>no</td>\n",
       "      <td>no</td>\n",
       "      <td>cellular</td>\n",
       "      <td>8</td>\n",
       "      <td>aug</td>\n",
       "      <td>203</td>\n",
       "      <td>5</td>\n",
       "      <td>-1</td>\n",
       "      <td>0</td>\n",
       "      <td>unknown</td>\n",
       "      <td>no</td>\n",
       "    </tr>\n",
       "    <tr>\n",
       "      <th>2</th>\n",
       "      <td>39</td>\n",
       "      <td>management</td>\n",
       "      <td>single</td>\n",
       "      <td>tertiary</td>\n",
       "      <td>no</td>\n",
       "      <td>2454</td>\n",
       "      <td>yes</td>\n",
       "      <td>no</td>\n",
       "      <td>cellular</td>\n",
       "      <td>4</td>\n",
       "      <td>may</td>\n",
       "      <td>716</td>\n",
       "      <td>3</td>\n",
       "      <td>263</td>\n",
       "      <td>2</td>\n",
       "      <td>failure</td>\n",
       "      <td>yes</td>\n",
       "    </tr>\n",
       "    <tr>\n",
       "      <th>3</th>\n",
       "      <td>49</td>\n",
       "      <td>blue-collar</td>\n",
       "      <td>married</td>\n",
       "      <td>primary</td>\n",
       "      <td>no</td>\n",
       "      <td>6215</td>\n",
       "      <td>yes</td>\n",
       "      <td>no</td>\n",
       "      <td>cellular</td>\n",
       "      <td>11</td>\n",
       "      <td>may</td>\n",
       "      <td>549</td>\n",
       "      <td>1</td>\n",
       "      <td>-1</td>\n",
       "      <td>0</td>\n",
       "      <td>unknown</td>\n",
       "      <td>no</td>\n",
       "    </tr>\n",
       "    <tr>\n",
       "      <th>4</th>\n",
       "      <td>37</td>\n",
       "      <td>services</td>\n",
       "      <td>married</td>\n",
       "      <td>secondary</td>\n",
       "      <td>no</td>\n",
       "      <td>1694</td>\n",
       "      <td>yes</td>\n",
       "      <td>yes</td>\n",
       "      <td>cellular</td>\n",
       "      <td>29</td>\n",
       "      <td>jan</td>\n",
       "      <td>404</td>\n",
       "      <td>2</td>\n",
       "      <td>251</td>\n",
       "      <td>6</td>\n",
       "      <td>failure</td>\n",
       "      <td>no</td>\n",
       "    </tr>\n",
       "  </tbody>\n",
       "</table>\n",
       "</div>"
      ],
      "text/plain": [
       "   age          job  marital  education default  balance housing loan  \\\n",
       "0   38   technician  married   tertiary      no      127     yes   no   \n",
       "1   41    housemaid  married    primary      no      365      no   no   \n",
       "2   39   management   single   tertiary      no     2454     yes   no   \n",
       "3   49  blue-collar  married    primary      no     6215     yes   no   \n",
       "4   37     services  married  secondary      no     1694     yes  yes   \n",
       "\n",
       "    contact  day month  duration  campaign  pdays  previous poutcome deposit  \n",
       "0  cellular   14   oct       113         1     50         2  success      no  \n",
       "1  cellular    8   aug       203         5     -1         0  unknown      no  \n",
       "2  cellular    4   may       716         3    263         2  failure     yes  \n",
       "3  cellular   11   may       549         1     -1         0  unknown      no  \n",
       "4  cellular   29   jan       404         2    251         6  failure      no  "
      ]
     },
     "execution_count": 2,
     "metadata": {},
     "output_type": "execute_result"
    }
   ],
   "source": [
    "# Read in train data\n",
    "df = pd.read_csv('data.csv')\n",
    "df.head()"
   ]
  },
  {
   "cell_type": "code",
   "execution_count": 3,
   "id": "4tD0I85GVKZW",
   "metadata": {
    "colab": {
     "base_uri": "https://localhost:8080/"
    },
    "executionInfo": {
     "elapsed": 118,
     "status": "ok",
     "timestamp": 1667803886086,
     "user": {
      "displayName": "ai dev",
      "userId": "10658999908990116858"
     },
     "user_tz": -300
    },
    "id": "4tD0I85GVKZW",
    "outputId": "02ce3cf2-b0b3-40a6-ea0f-471c91ffc62b",
    "scrolled": false
   },
   "outputs": [
    {
     "name": "stdout",
     "output_type": "stream",
     "text": [
      "<class 'pandas.core.frame.DataFrame'>\n",
      "RangeIndex: 8371 entries, 0 to 8370\n",
      "Data columns (total 17 columns):\n",
      " #   Column     Non-Null Count  Dtype \n",
      "---  ------     --------------  ----- \n",
      " 0   age        8371 non-null   int64 \n",
      " 1   job        8371 non-null   object\n",
      " 2   marital    8371 non-null   object\n",
      " 3   education  8371 non-null   object\n",
      " 4   default    8371 non-null   object\n",
      " 5   balance    8371 non-null   int64 \n",
      " 6   housing    8371 non-null   object\n",
      " 7   loan       8371 non-null   object\n",
      " 8   contact    8371 non-null   object\n",
      " 9   day        8371 non-null   int64 \n",
      " 10  month      8371 non-null   object\n",
      " 11  duration   8371 non-null   int64 \n",
      " 12  campaign   8371 non-null   int64 \n",
      " 13  pdays      8371 non-null   int64 \n",
      " 14  previous   8371 non-null   int64 \n",
      " 15  poutcome   8371 non-null   object\n",
      " 16  deposit    8371 non-null   object\n",
      "dtypes: int64(7), object(10)\n",
      "memory usage: 1.1+ MB\n"
     ]
    }
   ],
   "source": [
    "df.info()"
   ]
  },
  {
   "cell_type": "markdown",
   "id": "RnrJ2zHcVxbB",
   "metadata": {
    "id": "RnrJ2zHcVxbB"
   },
   "source": [
    "**Data Preprocessing**"
   ]
  },
  {
   "cell_type": "code",
   "execution_count": 4,
   "id": "nXiVTuOKV1Vw",
   "metadata": {
    "colab": {
     "base_uri": "https://localhost:8080/"
    },
    "executionInfo": {
     "elapsed": 123,
     "status": "ok",
     "timestamp": 1667803886098,
     "user": {
      "displayName": "ai dev",
      "userId": "10658999908990116858"
     },
     "user_tz": -300
    },
    "id": "nXiVTuOKV1Vw",
    "outputId": "788f86ea-def0-4787-9b33-8d57073ced5e",
    "scrolled": true
   },
   "outputs": [
    {
     "data": {
      "text/plain": [
       "age          0\n",
       "job          0\n",
       "marital      0\n",
       "education    0\n",
       "default      0\n",
       "balance      0\n",
       "housing      0\n",
       "loan         0\n",
       "contact      0\n",
       "day          0\n",
       "month        0\n",
       "duration     0\n",
       "campaign     0\n",
       "pdays        0\n",
       "previous     0\n",
       "poutcome     0\n",
       "deposit      0\n",
       "dtype: int64"
      ]
     },
     "execution_count": 4,
     "metadata": {},
     "output_type": "execute_result"
    }
   ],
   "source": [
    "# Checking if there are any nulls in data\n",
    "df.isnull().sum()"
   ]
  },
  {
   "cell_type": "code",
   "execution_count": 5,
   "id": "e9d51847",
   "metadata": {
    "scrolled": true
   },
   "outputs": [
    {
     "data": {
      "text/html": [
       "<div>\n",
       "<style scoped>\n",
       "    .dataframe tbody tr th:only-of-type {\n",
       "        vertical-align: middle;\n",
       "    }\n",
       "\n",
       "    .dataframe tbody tr th {\n",
       "        vertical-align: top;\n",
       "    }\n",
       "\n",
       "    .dataframe thead th {\n",
       "        text-align: right;\n",
       "    }\n",
       "</style>\n",
       "<table border=\"1\" class=\"dataframe\">\n",
       "  <thead>\n",
       "    <tr style=\"text-align: right;\">\n",
       "      <th></th>\n",
       "      <th>count</th>\n",
       "      <th>mean</th>\n",
       "      <th>std</th>\n",
       "      <th>min</th>\n",
       "      <th>25%</th>\n",
       "      <th>50%</th>\n",
       "      <th>75%</th>\n",
       "      <th>max</th>\n",
       "    </tr>\n",
       "  </thead>\n",
       "  <tbody>\n",
       "    <tr>\n",
       "      <th>age</th>\n",
       "      <td>8371.0</td>\n",
       "      <td>41.197467</td>\n",
       "      <td>11.809300</td>\n",
       "      <td>18.0</td>\n",
       "      <td>32.0</td>\n",
       "      <td>39.0</td>\n",
       "      <td>49.0</td>\n",
       "      <td>95.0</td>\n",
       "    </tr>\n",
       "    <tr>\n",
       "      <th>balance</th>\n",
       "      <td>8371.0</td>\n",
       "      <td>1517.811134</td>\n",
       "      <td>3225.312218</td>\n",
       "      <td>-3058.0</td>\n",
       "      <td>116.0</td>\n",
       "      <td>532.0</td>\n",
       "      <td>1694.0</td>\n",
       "      <td>81204.0</td>\n",
       "    </tr>\n",
       "    <tr>\n",
       "      <th>day</th>\n",
       "      <td>8371.0</td>\n",
       "      <td>15.588460</td>\n",
       "      <td>8.406768</td>\n",
       "      <td>1.0</td>\n",
       "      <td>8.0</td>\n",
       "      <td>15.0</td>\n",
       "      <td>21.0</td>\n",
       "      <td>31.0</td>\n",
       "    </tr>\n",
       "    <tr>\n",
       "      <th>duration</th>\n",
       "      <td>8371.0</td>\n",
       "      <td>372.898698</td>\n",
       "      <td>346.706743</td>\n",
       "      <td>2.0</td>\n",
       "      <td>137.0</td>\n",
       "      <td>255.0</td>\n",
       "      <td>504.0</td>\n",
       "      <td>3284.0</td>\n",
       "    </tr>\n",
       "    <tr>\n",
       "      <th>campaign</th>\n",
       "      <td>8371.0</td>\n",
       "      <td>2.512603</td>\n",
       "      <td>2.734037</td>\n",
       "      <td>1.0</td>\n",
       "      <td>1.0</td>\n",
       "      <td>2.0</td>\n",
       "      <td>3.0</td>\n",
       "      <td>63.0</td>\n",
       "    </tr>\n",
       "    <tr>\n",
       "      <th>pdays</th>\n",
       "      <td>8371.0</td>\n",
       "      <td>49.911958</td>\n",
       "      <td>107.308417</td>\n",
       "      <td>-1.0</td>\n",
       "      <td>-1.0</td>\n",
       "      <td>-1.0</td>\n",
       "      <td>2.0</td>\n",
       "      <td>854.0</td>\n",
       "    </tr>\n",
       "    <tr>\n",
       "      <th>previous</th>\n",
       "      <td>8371.0</td>\n",
       "      <td>0.823677</td>\n",
       "      <td>2.315285</td>\n",
       "      <td>0.0</td>\n",
       "      <td>0.0</td>\n",
       "      <td>0.0</td>\n",
       "      <td>1.0</td>\n",
       "      <td>58.0</td>\n",
       "    </tr>\n",
       "  </tbody>\n",
       "</table>\n",
       "</div>"
      ],
      "text/plain": [
       "           count         mean          std     min    25%    50%     75%  \\\n",
       "age       8371.0    41.197467    11.809300    18.0   32.0   39.0    49.0   \n",
       "balance   8371.0  1517.811134  3225.312218 -3058.0  116.0  532.0  1694.0   \n",
       "day       8371.0    15.588460     8.406768     1.0    8.0   15.0    21.0   \n",
       "duration  8371.0   372.898698   346.706743     2.0  137.0  255.0   504.0   \n",
       "campaign  8371.0     2.512603     2.734037     1.0    1.0    2.0     3.0   \n",
       "pdays     8371.0    49.911958   107.308417    -1.0   -1.0   -1.0     2.0   \n",
       "previous  8371.0     0.823677     2.315285     0.0    0.0    0.0     1.0   \n",
       "\n",
       "              max  \n",
       "age          95.0  \n",
       "balance   81204.0  \n",
       "day          31.0  \n",
       "duration   3284.0  \n",
       "campaign     63.0  \n",
       "pdays       854.0  \n",
       "previous     58.0  "
      ]
     },
     "execution_count": 5,
     "metadata": {},
     "output_type": "execute_result"
    }
   ],
   "source": [
    "# Statistics for the numerical data\n",
    "df.describe().T"
   ]
  },
  {
   "cell_type": "code",
   "execution_count": 6,
   "id": "49db6c8d",
   "metadata": {},
   "outputs": [
    {
     "data": {
      "text/html": [
       "<div>\n",
       "<style scoped>\n",
       "    .dataframe tbody tr th:only-of-type {\n",
       "        vertical-align: middle;\n",
       "    }\n",
       "\n",
       "    .dataframe tbody tr th {\n",
       "        vertical-align: top;\n",
       "    }\n",
       "\n",
       "    .dataframe thead th {\n",
       "        text-align: right;\n",
       "    }\n",
       "</style>\n",
       "<table border=\"1\" class=\"dataframe\">\n",
       "  <thead>\n",
       "    <tr style=\"text-align: right;\">\n",
       "      <th></th>\n",
       "      <th>job</th>\n",
       "      <th>marital</th>\n",
       "      <th>education</th>\n",
       "      <th>default</th>\n",
       "      <th>housing</th>\n",
       "      <th>loan</th>\n",
       "      <th>contact</th>\n",
       "      <th>month</th>\n",
       "      <th>poutcome</th>\n",
       "      <th>deposit</th>\n",
       "    </tr>\n",
       "  </thead>\n",
       "  <tbody>\n",
       "    <tr>\n",
       "      <th>count</th>\n",
       "      <td>8371</td>\n",
       "      <td>8371</td>\n",
       "      <td>8371</td>\n",
       "      <td>8371</td>\n",
       "      <td>8371</td>\n",
       "      <td>8371</td>\n",
       "      <td>8371</td>\n",
       "      <td>8371</td>\n",
       "      <td>8371</td>\n",
       "      <td>8371</td>\n",
       "    </tr>\n",
       "    <tr>\n",
       "      <th>unique</th>\n",
       "      <td>12</td>\n",
       "      <td>3</td>\n",
       "      <td>4</td>\n",
       "      <td>2</td>\n",
       "      <td>2</td>\n",
       "      <td>2</td>\n",
       "      <td>3</td>\n",
       "      <td>12</td>\n",
       "      <td>4</td>\n",
       "      <td>2</td>\n",
       "    </tr>\n",
       "    <tr>\n",
       "      <th>top</th>\n",
       "      <td>management</td>\n",
       "      <td>married</td>\n",
       "      <td>secondary</td>\n",
       "      <td>no</td>\n",
       "      <td>no</td>\n",
       "      <td>no</td>\n",
       "      <td>cellular</td>\n",
       "      <td>may</td>\n",
       "      <td>unknown</td>\n",
       "      <td>no</td>\n",
       "    </tr>\n",
       "    <tr>\n",
       "      <th>freq</th>\n",
       "      <td>1923</td>\n",
       "      <td>4744</td>\n",
       "      <td>4113</td>\n",
       "      <td>8244</td>\n",
       "      <td>4354</td>\n",
       "      <td>7250</td>\n",
       "      <td>6041</td>\n",
       "      <td>2135</td>\n",
       "      <td>6269</td>\n",
       "      <td>4428</td>\n",
       "    </tr>\n",
       "  </tbody>\n",
       "</table>\n",
       "</div>"
      ],
      "text/plain": [
       "               job  marital  education default housing  loan   contact month  \\\n",
       "count         8371     8371       8371    8371    8371  8371      8371  8371   \n",
       "unique          12        3          4       2       2     2         3    12   \n",
       "top     management  married  secondary      no      no    no  cellular   may   \n",
       "freq          1923     4744       4113    8244    4354  7250      6041  2135   \n",
       "\n",
       "       poutcome deposit  \n",
       "count      8371    8371  \n",
       "unique        4       2  \n",
       "top     unknown      no  \n",
       "freq       6269    4428  "
      ]
     },
     "execution_count": 6,
     "metadata": {},
     "output_type": "execute_result"
    }
   ],
   "source": [
    "# Statistics for the categorical data\n",
    "df.describe(include=['bool','object'])"
   ]
  },
  {
   "cell_type": "code",
   "execution_count": 7,
   "id": "8571f78b",
   "metadata": {
    "colab": {
     "base_uri": "https://localhost:8080/",
     "height": 270
    },
    "execution": {
     "iopub.execute_input": "2022-10-21T07:28:04.955968Z",
     "iopub.status.busy": "2022-10-21T07:28:04.955148Z",
     "iopub.status.idle": "2022-10-21T07:28:04.974521Z",
     "shell.execute_reply": "2022-10-21T07:28:04.973359Z"
    },
    "executionInfo": {
     "elapsed": 125,
     "status": "ok",
     "timestamp": 1667803886110,
     "user": {
      "displayName": "ai dev",
      "userId": "10658999908990116858"
     },
     "user_tz": -300
    },
    "id": "8571f78b",
    "outputId": "ac4d70c0-5689-440d-d56d-108e0bcb96d3",
    "papermill": {
     "duration": 0.044851,
     "end_time": "2022-10-21T07:28:04.976812",
     "exception": false,
     "start_time": "2022-10-21T07:28:04.931961",
     "status": "completed"
    },
    "tags": []
   },
   "outputs": [
    {
     "data": {
      "text/html": [
       "<div>\n",
       "<style scoped>\n",
       "    .dataframe tbody tr th:only-of-type {\n",
       "        vertical-align: middle;\n",
       "    }\n",
       "\n",
       "    .dataframe tbody tr th {\n",
       "        vertical-align: top;\n",
       "    }\n",
       "\n",
       "    .dataframe thead th {\n",
       "        text-align: right;\n",
       "    }\n",
       "</style>\n",
       "<table border=\"1\" class=\"dataframe\">\n",
       "  <thead>\n",
       "    <tr style=\"text-align: right;\">\n",
       "      <th></th>\n",
       "      <th>age</th>\n",
       "      <th>job</th>\n",
       "      <th>marital</th>\n",
       "      <th>education</th>\n",
       "      <th>default</th>\n",
       "      <th>balance</th>\n",
       "      <th>housing</th>\n",
       "      <th>loan</th>\n",
       "      <th>contact</th>\n",
       "      <th>day</th>\n",
       "      <th>month</th>\n",
       "      <th>campaign</th>\n",
       "      <th>pdays</th>\n",
       "      <th>previous</th>\n",
       "      <th>poutcome</th>\n",
       "    </tr>\n",
       "  </thead>\n",
       "  <tbody>\n",
       "    <tr>\n",
       "      <th>0</th>\n",
       "      <td>38</td>\n",
       "      <td>technician</td>\n",
       "      <td>married</td>\n",
       "      <td>tertiary</td>\n",
       "      <td>no</td>\n",
       "      <td>127</td>\n",
       "      <td>yes</td>\n",
       "      <td>no</td>\n",
       "      <td>cellular</td>\n",
       "      <td>14</td>\n",
       "      <td>oct</td>\n",
       "      <td>1</td>\n",
       "      <td>50</td>\n",
       "      <td>2</td>\n",
       "      <td>success</td>\n",
       "    </tr>\n",
       "    <tr>\n",
       "      <th>1</th>\n",
       "      <td>41</td>\n",
       "      <td>housemaid</td>\n",
       "      <td>married</td>\n",
       "      <td>primary</td>\n",
       "      <td>no</td>\n",
       "      <td>365</td>\n",
       "      <td>no</td>\n",
       "      <td>no</td>\n",
       "      <td>cellular</td>\n",
       "      <td>8</td>\n",
       "      <td>aug</td>\n",
       "      <td>5</td>\n",
       "      <td>-1</td>\n",
       "      <td>0</td>\n",
       "      <td>unknown</td>\n",
       "    </tr>\n",
       "    <tr>\n",
       "      <th>2</th>\n",
       "      <td>39</td>\n",
       "      <td>management</td>\n",
       "      <td>single</td>\n",
       "      <td>tertiary</td>\n",
       "      <td>no</td>\n",
       "      <td>2454</td>\n",
       "      <td>yes</td>\n",
       "      <td>no</td>\n",
       "      <td>cellular</td>\n",
       "      <td>4</td>\n",
       "      <td>may</td>\n",
       "      <td>3</td>\n",
       "      <td>263</td>\n",
       "      <td>2</td>\n",
       "      <td>failure</td>\n",
       "    </tr>\n",
       "    <tr>\n",
       "      <th>3</th>\n",
       "      <td>49</td>\n",
       "      <td>blue-collar</td>\n",
       "      <td>married</td>\n",
       "      <td>primary</td>\n",
       "      <td>no</td>\n",
       "      <td>6215</td>\n",
       "      <td>yes</td>\n",
       "      <td>no</td>\n",
       "      <td>cellular</td>\n",
       "      <td>11</td>\n",
       "      <td>may</td>\n",
       "      <td>1</td>\n",
       "      <td>-1</td>\n",
       "      <td>0</td>\n",
       "      <td>unknown</td>\n",
       "    </tr>\n",
       "    <tr>\n",
       "      <th>4</th>\n",
       "      <td>37</td>\n",
       "      <td>services</td>\n",
       "      <td>married</td>\n",
       "      <td>secondary</td>\n",
       "      <td>no</td>\n",
       "      <td>1694</td>\n",
       "      <td>yes</td>\n",
       "      <td>yes</td>\n",
       "      <td>cellular</td>\n",
       "      <td>29</td>\n",
       "      <td>jan</td>\n",
       "      <td>2</td>\n",
       "      <td>251</td>\n",
       "      <td>6</td>\n",
       "      <td>failure</td>\n",
       "    </tr>\n",
       "  </tbody>\n",
       "</table>\n",
       "</div>"
      ],
      "text/plain": [
       "   age          job  marital  education default  balance housing loan  \\\n",
       "0   38   technician  married   tertiary      no      127     yes   no   \n",
       "1   41    housemaid  married    primary      no      365      no   no   \n",
       "2   39   management   single   tertiary      no     2454     yes   no   \n",
       "3   49  blue-collar  married    primary      no     6215     yes   no   \n",
       "4   37     services  married  secondary      no     1694     yes  yes   \n",
       "\n",
       "    contact  day month  campaign  pdays  previous poutcome  \n",
       "0  cellular   14   oct         1     50         2  success  \n",
       "1  cellular    8   aug         5     -1         0  unknown  \n",
       "2  cellular    4   may         3    263         2  failure  \n",
       "3  cellular   11   may         1     -1         0  unknown  \n",
       "4  cellular   29   jan         2    251         6  failure  "
      ]
     },
     "execution_count": 7,
     "metadata": {},
     "output_type": "execute_result"
    }
   ],
   "source": [
    "# Create X dataframe\n",
    "X = df.drop(columns=['deposit','duration'])\n",
    "X.head()"
   ]
  },
  {
   "cell_type": "code",
   "execution_count": 8,
   "id": "b20dc4a7",
   "metadata": {
    "colab": {
     "base_uri": "https://localhost:8080/",
     "height": 206
    },
    "execution": {
     "iopub.execute_input": "2022-10-21T07:28:05.022401Z",
     "iopub.status.busy": "2022-10-21T07:28:05.021746Z",
     "iopub.status.idle": "2022-10-21T07:28:05.032057Z",
     "shell.execute_reply": "2022-10-21T07:28:05.031081Z"
    },
    "executionInfo": {
     "elapsed": 124,
     "status": "ok",
     "timestamp": 1667803886111,
     "user": {
      "displayName": "ai dev",
      "userId": "10658999908990116858"
     },
     "user_tz": -300
    },
    "id": "b20dc4a7",
    "outputId": "0a9c062d-b209-49d3-99ec-61a570a51130",
    "papermill": {
     "duration": 0.035473,
     "end_time": "2022-10-21T07:28:05.034095",
     "exception": false,
     "start_time": "2022-10-21T07:28:04.998622",
     "status": "completed"
    },
    "tags": []
   },
   "outputs": [],
   "source": [
    "# Create Y outcome dataframe \n",
    "Y = df['deposit']"
   ]
  },
  {
   "cell_type": "code",
   "execution_count": 9,
   "id": "be6230d2",
   "metadata": {
    "colab": {
     "base_uri": "https://localhost:8080/"
    },
    "execution": {
     "iopub.execute_input": "2022-10-21T07:28:05.145601Z",
     "iopub.status.busy": "2022-10-21T07:28:05.144905Z",
     "iopub.status.idle": "2022-10-21T07:28:05.155618Z",
     "shell.execute_reply": "2022-10-21T07:28:05.154446Z"
    },
    "executionInfo": {
     "elapsed": 118,
     "status": "ok",
     "timestamp": 1667803886114,
     "user": {
      "displayName": "ai dev",
      "userId": "10658999908990116858"
     },
     "user_tz": -300
    },
    "id": "be6230d2",
    "outputId": "d0b653be-62eb-421c-d7bb-f6db29e01d71",
    "papermill": {
     "duration": 0.036367,
     "end_time": "2022-10-21T07:28:05.157781",
     "exception": false,
     "start_time": "2022-10-21T07:28:05.121414",
     "status": "completed"
    },
    "scrolled": true,
    "tags": []
   },
   "outputs": [
    {
     "data": {
      "text/plain": [
       "['job',\n",
       " 'marital',\n",
       " 'default',\n",
       " 'housing',\n",
       " 'loan',\n",
       " 'contact',\n",
       " 'month',\n",
       " 'poutcome']"
      ]
     },
     "execution_count": 9,
     "metadata": {},
     "output_type": "execute_result"
    }
   ],
   "source": [
    "# Get a list of columns for one-hot encoding\n",
    "ohe_cols = list(X.select_dtypes(include='object').columns.values)\n",
    "\n",
    "# Drop education \n",
    "ohe_cols.remove('education')\n",
    "ohe_cols"
   ]
  },
  {
   "cell_type": "code",
   "execution_count": 10,
   "id": "13d5e032",
   "metadata": {
    "colab": {
     "base_uri": "https://localhost:8080/",
     "height": 317
    },
    "execution": {
     "iopub.execute_input": "2022-10-21T07:28:05.203796Z",
     "iopub.status.busy": "2022-10-21T07:28:05.203016Z",
     "iopub.status.idle": "2022-10-21T07:28:05.239833Z",
     "shell.execute_reply": "2022-10-21T07:28:05.238640Z"
    },
    "executionInfo": {
     "elapsed": 118,
     "status": "ok",
     "timestamp": 1667803886118,
     "user": {
      "displayName": "ai dev",
      "userId": "10658999908990116858"
     },
     "user_tz": -300
    },
    "id": "13d5e032",
    "outputId": "e15f3192-006a-47e1-e403-17ab07e206c7",
    "papermill": {
     "duration": 0.06258,
     "end_time": "2022-10-21T07:28:05.242279",
     "exception": false,
     "start_time": "2022-10-21T07:28:05.179699",
     "status": "completed"
    },
    "scrolled": true,
    "tags": []
   },
   "outputs": [
    {
     "data": {
      "text/html": [
       "<div>\n",
       "<style scoped>\n",
       "    .dataframe tbody tr th:only-of-type {\n",
       "        vertical-align: middle;\n",
       "    }\n",
       "\n",
       "    .dataframe tbody tr th {\n",
       "        vertical-align: top;\n",
       "    }\n",
       "\n",
       "    .dataframe thead th {\n",
       "        text-align: right;\n",
       "    }\n",
       "</style>\n",
       "<table border=\"1\" class=\"dataframe\">\n",
       "  <thead>\n",
       "    <tr style=\"text-align: right;\">\n",
       "      <th></th>\n",
       "      <th>age</th>\n",
       "      <th>education</th>\n",
       "      <th>balance</th>\n",
       "      <th>day</th>\n",
       "      <th>campaign</th>\n",
       "      <th>pdays</th>\n",
       "      <th>previous</th>\n",
       "      <th>job_blue-collar</th>\n",
       "      <th>job_entrepreneur</th>\n",
       "      <th>job_housemaid</th>\n",
       "      <th>...</th>\n",
       "      <th>month_jul</th>\n",
       "      <th>month_jun</th>\n",
       "      <th>month_mar</th>\n",
       "      <th>month_may</th>\n",
       "      <th>month_nov</th>\n",
       "      <th>month_oct</th>\n",
       "      <th>month_sep</th>\n",
       "      <th>poutcome_other</th>\n",
       "      <th>poutcome_success</th>\n",
       "      <th>poutcome_unknown</th>\n",
       "    </tr>\n",
       "  </thead>\n",
       "  <tbody>\n",
       "    <tr>\n",
       "      <th>0</th>\n",
       "      <td>38</td>\n",
       "      <td>tertiary</td>\n",
       "      <td>127</td>\n",
       "      <td>14</td>\n",
       "      <td>1</td>\n",
       "      <td>50</td>\n",
       "      <td>2</td>\n",
       "      <td>0</td>\n",
       "      <td>0</td>\n",
       "      <td>0</td>\n",
       "      <td>...</td>\n",
       "      <td>0</td>\n",
       "      <td>0</td>\n",
       "      <td>0</td>\n",
       "      <td>0</td>\n",
       "      <td>0</td>\n",
       "      <td>1</td>\n",
       "      <td>0</td>\n",
       "      <td>0</td>\n",
       "      <td>1</td>\n",
       "      <td>0</td>\n",
       "    </tr>\n",
       "    <tr>\n",
       "      <th>1</th>\n",
       "      <td>41</td>\n",
       "      <td>primary</td>\n",
       "      <td>365</td>\n",
       "      <td>8</td>\n",
       "      <td>5</td>\n",
       "      <td>-1</td>\n",
       "      <td>0</td>\n",
       "      <td>0</td>\n",
       "      <td>0</td>\n",
       "      <td>1</td>\n",
       "      <td>...</td>\n",
       "      <td>0</td>\n",
       "      <td>0</td>\n",
       "      <td>0</td>\n",
       "      <td>0</td>\n",
       "      <td>0</td>\n",
       "      <td>0</td>\n",
       "      <td>0</td>\n",
       "      <td>0</td>\n",
       "      <td>0</td>\n",
       "      <td>1</td>\n",
       "    </tr>\n",
       "    <tr>\n",
       "      <th>2</th>\n",
       "      <td>39</td>\n",
       "      <td>tertiary</td>\n",
       "      <td>2454</td>\n",
       "      <td>4</td>\n",
       "      <td>3</td>\n",
       "      <td>263</td>\n",
       "      <td>2</td>\n",
       "      <td>0</td>\n",
       "      <td>0</td>\n",
       "      <td>0</td>\n",
       "      <td>...</td>\n",
       "      <td>0</td>\n",
       "      <td>0</td>\n",
       "      <td>0</td>\n",
       "      <td>1</td>\n",
       "      <td>0</td>\n",
       "      <td>0</td>\n",
       "      <td>0</td>\n",
       "      <td>0</td>\n",
       "      <td>0</td>\n",
       "      <td>0</td>\n",
       "    </tr>\n",
       "    <tr>\n",
       "      <th>3</th>\n",
       "      <td>49</td>\n",
       "      <td>primary</td>\n",
       "      <td>6215</td>\n",
       "      <td>11</td>\n",
       "      <td>1</td>\n",
       "      <td>-1</td>\n",
       "      <td>0</td>\n",
       "      <td>1</td>\n",
       "      <td>0</td>\n",
       "      <td>0</td>\n",
       "      <td>...</td>\n",
       "      <td>0</td>\n",
       "      <td>0</td>\n",
       "      <td>0</td>\n",
       "      <td>1</td>\n",
       "      <td>0</td>\n",
       "      <td>0</td>\n",
       "      <td>0</td>\n",
       "      <td>0</td>\n",
       "      <td>0</td>\n",
       "      <td>1</td>\n",
       "    </tr>\n",
       "    <tr>\n",
       "      <th>4</th>\n",
       "      <td>37</td>\n",
       "      <td>secondary</td>\n",
       "      <td>1694</td>\n",
       "      <td>29</td>\n",
       "      <td>2</td>\n",
       "      <td>251</td>\n",
       "      <td>6</td>\n",
       "      <td>0</td>\n",
       "      <td>0</td>\n",
       "      <td>0</td>\n",
       "      <td>...</td>\n",
       "      <td>0</td>\n",
       "      <td>0</td>\n",
       "      <td>0</td>\n",
       "      <td>0</td>\n",
       "      <td>0</td>\n",
       "      <td>0</td>\n",
       "      <td>0</td>\n",
       "      <td>0</td>\n",
       "      <td>0</td>\n",
       "      <td>0</td>\n",
       "    </tr>\n",
       "  </tbody>\n",
       "</table>\n",
       "<p>5 rows × 39 columns</p>\n",
       "</div>"
      ],
      "text/plain": [
       "   age  education  balance  day  campaign  pdays  previous  job_blue-collar  \\\n",
       "0   38   tertiary      127   14         1     50         2                0   \n",
       "1   41    primary      365    8         5     -1         0                0   \n",
       "2   39   tertiary     2454    4         3    263         2                0   \n",
       "3   49    primary     6215   11         1     -1         0                1   \n",
       "4   37  secondary     1694   29         2    251         6                0   \n",
       "\n",
       "   job_entrepreneur  job_housemaid  ...  month_jul  month_jun  month_mar  \\\n",
       "0                 0              0  ...          0          0          0   \n",
       "1                 0              1  ...          0          0          0   \n",
       "2                 0              0  ...          0          0          0   \n",
       "3                 0              0  ...          0          0          0   \n",
       "4                 0              0  ...          0          0          0   \n",
       "\n",
       "   month_may  month_nov  month_oct  month_sep  poutcome_other  \\\n",
       "0          0          0          1          0               0   \n",
       "1          0          0          0          0               0   \n",
       "2          1          0          0          0               0   \n",
       "3          1          0          0          0               0   \n",
       "4          0          0          0          0               0   \n",
       "\n",
       "   poutcome_success  poutcome_unknown  \n",
       "0                 1                 0  \n",
       "1                 0                 1  \n",
       "2                 0                 0  \n",
       "3                 0                 1  \n",
       "4                 0                 0  \n",
       "\n",
       "[5 rows x 39 columns]"
      ]
     },
     "execution_count": 10,
     "metadata": {},
     "output_type": "execute_result"
    }
   ],
   "source": [
    "X = pd.get_dummies(X, prefix=ohe_cols, columns=ohe_cols, drop_first=True)\n",
    "X.head()"
   ]
  },
  {
   "cell_type": "code",
   "execution_count": 11,
   "id": "acf69aac",
   "metadata": {
    "colab": {
     "base_uri": "https://localhost:8080/"
    },
    "execution": {
     "iopub.execute_input": "2022-10-21T07:28:05.289176Z",
     "iopub.status.busy": "2022-10-21T07:28:05.288496Z",
     "iopub.status.idle": "2022-10-21T07:28:05.303706Z",
     "shell.execute_reply": "2022-10-21T07:28:05.302459Z"
    },
    "executionInfo": {
     "elapsed": 118,
     "status": "ok",
     "timestamp": 1667803886120,
     "user": {
      "displayName": "ai dev",
      "userId": "10658999908990116858"
     },
     "user_tz": -300
    },
    "id": "acf69aac",
    "outputId": "8e7dc395-3930-4735-ffee-7f58b807c007",
    "papermill": {
     "duration": 0.041249,
     "end_time": "2022-10-21T07:28:05.305977",
     "exception": false,
     "start_time": "2022-10-21T07:28:05.264728",
     "status": "completed"
    },
    "tags": []
   },
   "outputs": [],
   "source": [
    "# Perform Ordinal encoding on education\n",
    "edu_enc = {'unknown': 0, \n",
    "          'primary': 1,\n",
    "          'secondary': 2,\n",
    "          'tertiary': 3}\n",
    "X['education'] = X['education'].replace(edu_enc)"
   ]
  },
  {
   "cell_type": "code",
   "execution_count": 12,
   "id": "58a3cd9e",
   "metadata": {
    "colab": {
     "base_uri": "https://localhost:8080/",
     "height": 317
    },
    "execution": {
     "iopub.execute_input": "2022-10-21T07:28:05.352856Z",
     "iopub.status.busy": "2022-10-21T07:28:05.352162Z",
     "iopub.status.idle": "2022-10-21T07:28:05.370728Z",
     "shell.execute_reply": "2022-10-21T07:28:05.369531Z"
    },
    "executionInfo": {
     "elapsed": 112,
     "status": "ok",
     "timestamp": 1667803886122,
     "user": {
      "displayName": "ai dev",
      "userId": "10658999908990116858"
     },
     "user_tz": -300
    },
    "id": "58a3cd9e",
    "outputId": "017dfc65-f856-456c-c94a-91fbfdfef820",
    "papermill": {
     "duration": 0.044586,
     "end_time": "2022-10-21T07:28:05.372924",
     "exception": false,
     "start_time": "2022-10-21T07:28:05.328338",
     "status": "completed"
    },
    "scrolled": true,
    "tags": []
   },
   "outputs": [
    {
     "data": {
      "text/html": [
       "<div>\n",
       "<style scoped>\n",
       "    .dataframe tbody tr th:only-of-type {\n",
       "        vertical-align: middle;\n",
       "    }\n",
       "\n",
       "    .dataframe tbody tr th {\n",
       "        vertical-align: top;\n",
       "    }\n",
       "\n",
       "    .dataframe thead th {\n",
       "        text-align: right;\n",
       "    }\n",
       "</style>\n",
       "<table border=\"1\" class=\"dataframe\">\n",
       "  <thead>\n",
       "    <tr style=\"text-align: right;\">\n",
       "      <th></th>\n",
       "      <th>age</th>\n",
       "      <th>education</th>\n",
       "      <th>balance</th>\n",
       "      <th>day</th>\n",
       "      <th>campaign</th>\n",
       "      <th>pdays</th>\n",
       "      <th>previous</th>\n",
       "      <th>job_blue-collar</th>\n",
       "      <th>job_entrepreneur</th>\n",
       "      <th>job_housemaid</th>\n",
       "      <th>...</th>\n",
       "      <th>month_jul</th>\n",
       "      <th>month_jun</th>\n",
       "      <th>month_mar</th>\n",
       "      <th>month_may</th>\n",
       "      <th>month_nov</th>\n",
       "      <th>month_oct</th>\n",
       "      <th>month_sep</th>\n",
       "      <th>poutcome_other</th>\n",
       "      <th>poutcome_success</th>\n",
       "      <th>poutcome_unknown</th>\n",
       "    </tr>\n",
       "  </thead>\n",
       "  <tbody>\n",
       "    <tr>\n",
       "      <th>0</th>\n",
       "      <td>38</td>\n",
       "      <td>3</td>\n",
       "      <td>127</td>\n",
       "      <td>14</td>\n",
       "      <td>1</td>\n",
       "      <td>50</td>\n",
       "      <td>2</td>\n",
       "      <td>0</td>\n",
       "      <td>0</td>\n",
       "      <td>0</td>\n",
       "      <td>...</td>\n",
       "      <td>0</td>\n",
       "      <td>0</td>\n",
       "      <td>0</td>\n",
       "      <td>0</td>\n",
       "      <td>0</td>\n",
       "      <td>1</td>\n",
       "      <td>0</td>\n",
       "      <td>0</td>\n",
       "      <td>1</td>\n",
       "      <td>0</td>\n",
       "    </tr>\n",
       "    <tr>\n",
       "      <th>1</th>\n",
       "      <td>41</td>\n",
       "      <td>1</td>\n",
       "      <td>365</td>\n",
       "      <td>8</td>\n",
       "      <td>5</td>\n",
       "      <td>-1</td>\n",
       "      <td>0</td>\n",
       "      <td>0</td>\n",
       "      <td>0</td>\n",
       "      <td>1</td>\n",
       "      <td>...</td>\n",
       "      <td>0</td>\n",
       "      <td>0</td>\n",
       "      <td>0</td>\n",
       "      <td>0</td>\n",
       "      <td>0</td>\n",
       "      <td>0</td>\n",
       "      <td>0</td>\n",
       "      <td>0</td>\n",
       "      <td>0</td>\n",
       "      <td>1</td>\n",
       "    </tr>\n",
       "    <tr>\n",
       "      <th>2</th>\n",
       "      <td>39</td>\n",
       "      <td>3</td>\n",
       "      <td>2454</td>\n",
       "      <td>4</td>\n",
       "      <td>3</td>\n",
       "      <td>263</td>\n",
       "      <td>2</td>\n",
       "      <td>0</td>\n",
       "      <td>0</td>\n",
       "      <td>0</td>\n",
       "      <td>...</td>\n",
       "      <td>0</td>\n",
       "      <td>0</td>\n",
       "      <td>0</td>\n",
       "      <td>1</td>\n",
       "      <td>0</td>\n",
       "      <td>0</td>\n",
       "      <td>0</td>\n",
       "      <td>0</td>\n",
       "      <td>0</td>\n",
       "      <td>0</td>\n",
       "    </tr>\n",
       "    <tr>\n",
       "      <th>3</th>\n",
       "      <td>49</td>\n",
       "      <td>1</td>\n",
       "      <td>6215</td>\n",
       "      <td>11</td>\n",
       "      <td>1</td>\n",
       "      <td>-1</td>\n",
       "      <td>0</td>\n",
       "      <td>1</td>\n",
       "      <td>0</td>\n",
       "      <td>0</td>\n",
       "      <td>...</td>\n",
       "      <td>0</td>\n",
       "      <td>0</td>\n",
       "      <td>0</td>\n",
       "      <td>1</td>\n",
       "      <td>0</td>\n",
       "      <td>0</td>\n",
       "      <td>0</td>\n",
       "      <td>0</td>\n",
       "      <td>0</td>\n",
       "      <td>1</td>\n",
       "    </tr>\n",
       "    <tr>\n",
       "      <th>4</th>\n",
       "      <td>37</td>\n",
       "      <td>2</td>\n",
       "      <td>1694</td>\n",
       "      <td>29</td>\n",
       "      <td>2</td>\n",
       "      <td>251</td>\n",
       "      <td>6</td>\n",
       "      <td>0</td>\n",
       "      <td>0</td>\n",
       "      <td>0</td>\n",
       "      <td>...</td>\n",
       "      <td>0</td>\n",
       "      <td>0</td>\n",
       "      <td>0</td>\n",
       "      <td>0</td>\n",
       "      <td>0</td>\n",
       "      <td>0</td>\n",
       "      <td>0</td>\n",
       "      <td>0</td>\n",
       "      <td>0</td>\n",
       "      <td>0</td>\n",
       "    </tr>\n",
       "  </tbody>\n",
       "</table>\n",
       "<p>5 rows × 39 columns</p>\n",
       "</div>"
      ],
      "text/plain": [
       "   age  education  balance  day  campaign  pdays  previous  job_blue-collar  \\\n",
       "0   38          3      127   14         1     50         2                0   \n",
       "1   41          1      365    8         5     -1         0                0   \n",
       "2   39          3     2454    4         3    263         2                0   \n",
       "3   49          1     6215   11         1     -1         0                1   \n",
       "4   37          2     1694   29         2    251         6                0   \n",
       "\n",
       "   job_entrepreneur  job_housemaid  ...  month_jul  month_jun  month_mar  \\\n",
       "0                 0              0  ...          0          0          0   \n",
       "1                 0              1  ...          0          0          0   \n",
       "2                 0              0  ...          0          0          0   \n",
       "3                 0              0  ...          0          0          0   \n",
       "4                 0              0  ...          0          0          0   \n",
       "\n",
       "   month_may  month_nov  month_oct  month_sep  poutcome_other  \\\n",
       "0          0          0          1          0               0   \n",
       "1          0          0          0          0               0   \n",
       "2          1          0          0          0               0   \n",
       "3          1          0          0          0               0   \n",
       "4          0          0          0          0               0   \n",
       "\n",
       "   poutcome_success  poutcome_unknown  \n",
       "0                 1                 0  \n",
       "1                 0                 1  \n",
       "2                 0                 0  \n",
       "3                 0                 1  \n",
       "4                 0                 0  \n",
       "\n",
       "[5 rows x 39 columns]"
      ]
     },
     "execution_count": 12,
     "metadata": {},
     "output_type": "execute_result"
    }
   ],
   "source": [
    "X.head()"
   ]
  },
  {
   "cell_type": "code",
   "execution_count": 13,
   "id": "b93808fb",
   "metadata": {
    "colab": {
     "base_uri": "https://localhost:8080/"
    },
    "execution": {
     "iopub.execute_input": "2022-10-21T07:28:05.420542Z",
     "iopub.status.busy": "2022-10-21T07:28:05.419891Z",
     "iopub.status.idle": "2022-10-21T07:28:05.433517Z",
     "shell.execute_reply": "2022-10-21T07:28:05.432478Z"
    },
    "executionInfo": {
     "elapsed": 114,
     "status": "ok",
     "timestamp": 1667803886125,
     "user": {
      "displayName": "ai dev",
      "userId": "10658999908990116858"
     },
     "user_tz": -300
    },
    "id": "b93808fb",
    "outputId": "c57c2732-f90c-4d21-cb7c-a72e150b54f8",
    "papermill": {
     "duration": 0.04004,
     "end_time": "2022-10-21T07:28:05.435688",
     "exception": false,
     "start_time": "2022-10-21T07:28:05.395648",
     "status": "completed"
    },
    "tags": []
   },
   "outputs": [],
   "source": [
    "# Label Encoding for outcome column since it is not numerical \n",
    "from sklearn import preprocessing\n",
    "le = preprocessing.LabelEncoder()\n",
    "Y = le.fit_transform(Y)"
   ]
  },
  {
   "cell_type": "code",
   "execution_count": 14,
   "id": "9PbBuAUBd6Rs",
   "metadata": {
    "colab": {
     "base_uri": "https://localhost:8080/"
    },
    "executionInfo": {
     "elapsed": 138,
     "status": "ok",
     "timestamp": 1667803887303,
     "user": {
      "displayName": "ai dev",
      "userId": "10658999908990116858"
     },
     "user_tz": -300
    },
    "id": "9PbBuAUBd6Rs",
    "outputId": "f28ad649-b6eb-47f1-b852-c3203de6caf5",
    "scrolled": true
   },
   "outputs": [
    {
     "data": {
      "text/plain": [
       "no     4428\n",
       "yes    3943\n",
       "Name: deposit, dtype: int64"
      ]
     },
     "execution_count": 14,
     "metadata": {},
     "output_type": "execute_result"
    }
   ],
   "source": [
    "# value counts for outcome column\n",
    "df['deposit'].value_counts()"
   ]
  },
  {
   "cell_type": "code",
   "execution_count": 15,
   "id": "REpRjA33kjTn",
   "metadata": {
    "colab": {
     "base_uri": "https://localhost:8080/",
     "height": 317
    },
    "executionInfo": {
     "elapsed": 171,
     "status": "ok",
     "timestamp": 1667803887349,
     "user": {
      "displayName": "ai dev",
      "userId": "10658999908990116858"
     },
     "user_tz": -300
    },
    "id": "REpRjA33kjTn",
    "outputId": "d834b148-88b2-450f-883d-17fe7d07c1e6"
   },
   "outputs": [
    {
     "data": {
      "text/html": [
       "<div>\n",
       "<style scoped>\n",
       "    .dataframe tbody tr th:only-of-type {\n",
       "        vertical-align: middle;\n",
       "    }\n",
       "\n",
       "    .dataframe tbody tr th {\n",
       "        vertical-align: top;\n",
       "    }\n",
       "\n",
       "    .dataframe thead th {\n",
       "        text-align: right;\n",
       "    }\n",
       "</style>\n",
       "<table border=\"1\" class=\"dataframe\">\n",
       "  <thead>\n",
       "    <tr style=\"text-align: right;\">\n",
       "      <th></th>\n",
       "      <th>age</th>\n",
       "      <th>education</th>\n",
       "      <th>balance</th>\n",
       "      <th>day</th>\n",
       "      <th>campaign</th>\n",
       "      <th>pdays</th>\n",
       "      <th>previous</th>\n",
       "      <th>job_blue-collar</th>\n",
       "      <th>job_entrepreneur</th>\n",
       "      <th>job_housemaid</th>\n",
       "      <th>...</th>\n",
       "      <th>month_jul</th>\n",
       "      <th>month_jun</th>\n",
       "      <th>month_mar</th>\n",
       "      <th>month_may</th>\n",
       "      <th>month_nov</th>\n",
       "      <th>month_oct</th>\n",
       "      <th>month_sep</th>\n",
       "      <th>poutcome_other</th>\n",
       "      <th>poutcome_success</th>\n",
       "      <th>poutcome_unknown</th>\n",
       "    </tr>\n",
       "  </thead>\n",
       "  <tbody>\n",
       "    <tr>\n",
       "      <th>0</th>\n",
       "      <td>38</td>\n",
       "      <td>3</td>\n",
       "      <td>127</td>\n",
       "      <td>14</td>\n",
       "      <td>1</td>\n",
       "      <td>50</td>\n",
       "      <td>2</td>\n",
       "      <td>0</td>\n",
       "      <td>0</td>\n",
       "      <td>0</td>\n",
       "      <td>...</td>\n",
       "      <td>0</td>\n",
       "      <td>0</td>\n",
       "      <td>0</td>\n",
       "      <td>0</td>\n",
       "      <td>0</td>\n",
       "      <td>1</td>\n",
       "      <td>0</td>\n",
       "      <td>0</td>\n",
       "      <td>1</td>\n",
       "      <td>0</td>\n",
       "    </tr>\n",
       "    <tr>\n",
       "      <th>1</th>\n",
       "      <td>41</td>\n",
       "      <td>1</td>\n",
       "      <td>365</td>\n",
       "      <td>8</td>\n",
       "      <td>5</td>\n",
       "      <td>-1</td>\n",
       "      <td>0</td>\n",
       "      <td>0</td>\n",
       "      <td>0</td>\n",
       "      <td>1</td>\n",
       "      <td>...</td>\n",
       "      <td>0</td>\n",
       "      <td>0</td>\n",
       "      <td>0</td>\n",
       "      <td>0</td>\n",
       "      <td>0</td>\n",
       "      <td>0</td>\n",
       "      <td>0</td>\n",
       "      <td>0</td>\n",
       "      <td>0</td>\n",
       "      <td>1</td>\n",
       "    </tr>\n",
       "    <tr>\n",
       "      <th>2</th>\n",
       "      <td>39</td>\n",
       "      <td>3</td>\n",
       "      <td>2454</td>\n",
       "      <td>4</td>\n",
       "      <td>3</td>\n",
       "      <td>263</td>\n",
       "      <td>2</td>\n",
       "      <td>0</td>\n",
       "      <td>0</td>\n",
       "      <td>0</td>\n",
       "      <td>...</td>\n",
       "      <td>0</td>\n",
       "      <td>0</td>\n",
       "      <td>0</td>\n",
       "      <td>1</td>\n",
       "      <td>0</td>\n",
       "      <td>0</td>\n",
       "      <td>0</td>\n",
       "      <td>0</td>\n",
       "      <td>0</td>\n",
       "      <td>0</td>\n",
       "    </tr>\n",
       "    <tr>\n",
       "      <th>3</th>\n",
       "      <td>49</td>\n",
       "      <td>1</td>\n",
       "      <td>6215</td>\n",
       "      <td>11</td>\n",
       "      <td>1</td>\n",
       "      <td>-1</td>\n",
       "      <td>0</td>\n",
       "      <td>1</td>\n",
       "      <td>0</td>\n",
       "      <td>0</td>\n",
       "      <td>...</td>\n",
       "      <td>0</td>\n",
       "      <td>0</td>\n",
       "      <td>0</td>\n",
       "      <td>1</td>\n",
       "      <td>0</td>\n",
       "      <td>0</td>\n",
       "      <td>0</td>\n",
       "      <td>0</td>\n",
       "      <td>0</td>\n",
       "      <td>1</td>\n",
       "    </tr>\n",
       "    <tr>\n",
       "      <th>4</th>\n",
       "      <td>37</td>\n",
       "      <td>2</td>\n",
       "      <td>1694</td>\n",
       "      <td>29</td>\n",
       "      <td>2</td>\n",
       "      <td>251</td>\n",
       "      <td>6</td>\n",
       "      <td>0</td>\n",
       "      <td>0</td>\n",
       "      <td>0</td>\n",
       "      <td>...</td>\n",
       "      <td>0</td>\n",
       "      <td>0</td>\n",
       "      <td>0</td>\n",
       "      <td>0</td>\n",
       "      <td>0</td>\n",
       "      <td>0</td>\n",
       "      <td>0</td>\n",
       "      <td>0</td>\n",
       "      <td>0</td>\n",
       "      <td>0</td>\n",
       "    </tr>\n",
       "  </tbody>\n",
       "</table>\n",
       "<p>5 rows × 39 columns</p>\n",
       "</div>"
      ],
      "text/plain": [
       "   age  education  balance  day  campaign  pdays  previous  job_blue-collar  \\\n",
       "0   38          3      127   14         1     50         2                0   \n",
       "1   41          1      365    8         5     -1         0                0   \n",
       "2   39          3     2454    4         3    263         2                0   \n",
       "3   49          1     6215   11         1     -1         0                1   \n",
       "4   37          2     1694   29         2    251         6                0   \n",
       "\n",
       "   job_entrepreneur  job_housemaid  ...  month_jul  month_jun  month_mar  \\\n",
       "0                 0              0  ...          0          0          0   \n",
       "1                 0              1  ...          0          0          0   \n",
       "2                 0              0  ...          0          0          0   \n",
       "3                 0              0  ...          0          0          0   \n",
       "4                 0              0  ...          0          0          0   \n",
       "\n",
       "   month_may  month_nov  month_oct  month_sep  poutcome_other  \\\n",
       "0          0          0          1          0               0   \n",
       "1          0          0          0          0               0   \n",
       "2          1          0          0          0               0   \n",
       "3          1          0          0          0               0   \n",
       "4          0          0          0          0               0   \n",
       "\n",
       "   poutcome_success  poutcome_unknown  \n",
       "0                 1                 0  \n",
       "1                 0                 1  \n",
       "2                 0                 0  \n",
       "3                 0                 1  \n",
       "4                 0                 0  \n",
       "\n",
       "[5 rows x 39 columns]"
      ]
     },
     "execution_count": 15,
     "metadata": {},
     "output_type": "execute_result"
    }
   ],
   "source": [
    "X.head()"
   ]
  },
  {
   "cell_type": "code",
   "execution_count": 16,
   "id": "m5K7QLtheGzK",
   "metadata": {
    "id": "m5K7QLtheGzK"
   },
   "outputs": [],
   "source": [
    "# Split dataset into train and test sets\n",
    "from sklearn.model_selection import train_test_split\n",
    "X_train, X_test, y_train, y_test = train_test_split(X,Y, random_state = 0)"
   ]
  },
  {
   "cell_type": "code",
   "execution_count": 17,
   "id": "0cAVh878kk2u",
   "metadata": {
    "id": "0cAVh878kk2u"
   },
   "outputs": [],
   "source": [
    "# Feature Scaling\n",
    "from sklearn.preprocessing import MinMaxScaler\n",
    "\n",
    "sc_X = MinMaxScaler() \n",
    "X = sc_X.fit_transform(X)"
   ]
  },
  {
   "cell_type": "code",
   "execution_count": 18,
   "id": "9_wL5W8VmwvD",
   "metadata": {
    "id": "9_wL5W8VmwvD"
   },
   "outputs": [],
   "source": [
    "from sklearn.feature_selection import SelectKBest\n",
    "from sklearn.feature_selection import chi2\n",
    "from sklearn.ensemble import RandomForestClassifier\n",
    "\n",
    "# Reduce the number of features being used to avoid noise and overfitting \n",
    "\n",
    "test = SelectKBest(score_func=chi2, k=25)\n",
    "fit = test.fit(X, Y)\n",
    "X=test.fit_transform(X, Y)"
   ]
  },
  {
   "cell_type": "code",
   "execution_count": 19,
   "id": "ihPGYWa_ov5S",
   "metadata": {
    "colab": {
     "base_uri": "https://localhost:8080/"
    },
    "executionInfo": {
     "elapsed": 159,
     "status": "ok",
     "timestamp": 1667803887369,
     "user": {
      "displayName": "ai dev",
      "userId": "10658999908990116858"
     },
     "user_tz": -300
    },
    "id": "ihPGYWa_ov5S",
    "outputId": "f6e203be-744e-4141-caa2-226570f97961"
   },
   "outputs": [
    {
     "data": {
      "text/plain": [
       "25"
      ]
     },
     "execution_count": 19,
     "metadata": {},
     "output_type": "execute_result"
    }
   ],
   "source": [
    "len(X[0])"
   ]
  },
  {
   "cell_type": "markdown",
   "id": "rAgP8MOauIgP",
   "metadata": {
    "id": "rAgP8MOauIgP"
   },
   "source": [
    ".Logisitc Regression is our base model\n",
    "\n",
    ".Random Forest Classifier is our actual model"
   ]
  },
  {
   "cell_type": "code",
   "execution_count": 20,
   "id": "QMWM14tiupUI",
   "metadata": {
    "id": "QMWM14tiupUI"
   },
   "outputs": [],
   "source": [
    "# Creating Logistice Regression and RandomForest Objects\n",
    "from sklearn.linear_model import LogisticRegression\n",
    "from sklearn.ensemble import RandomForestClassifier \n",
    "\n",
    "lr = LogisticRegression()\n",
    "rf = RandomForestClassifier()"
   ]
  },
  {
   "cell_type": "markdown",
   "id": "HXacJKOxyatF",
   "metadata": {
    "id": "HXacJKOxyatF"
   },
   "source": [
    "**Cross Validation with Random Forest Classifier**"
   ]
  },
  {
   "cell_type": "code",
   "execution_count": 21,
   "id": "cec1a81b",
   "metadata": {
    "scrolled": true
   },
   "outputs": [
    {
     "name": "stdout",
     "output_type": "stream",
     "text": [
      "Mean cross-validation scores with k = 1: 0.613\n",
      "Mean cross-validation scores with k = 2: 0.643\n",
      "Mean cross-validation scores with k = 3: 0.665\n",
      "Mean cross-validation scores with k = 4: 0.677\n",
      "Mean cross-validation scores with k = 5: 0.699\n",
      "Mean cross-validation scores with k = 6: 0.706\n",
      "Mean cross-validation scores with k = 7: 0.710\n",
      "Mean cross-validation scores with k = 8: 0.719\n",
      "Mean cross-validation scores with k = 9: 0.720\n",
      "Mean cross-validation scores with k = 10: 0.718\n"
     ]
    }
   ],
   "source": [
    "from sklearn.ensemble import RandomForestClassifier\n",
    "from sklearn.model_selection import cross_val_score\n",
    "from sklearn.model_selection import StratifiedKFold\n",
    "from sklearn.model_selection import cross_validate\n",
    "\n",
    "for k in [1, 2, 3, 4, 5, 6, 7, 8, 9, 10]:\n",
    "    # Create linear regression object\n",
    "    clsr = RandomForestClassifier(max_depth=k)\n",
    "\n",
    "    # Define k-fold cross validatation\n",
    "    kfold = StratifiedKFold(n_splits=5)\n",
    "    \n",
    "    #res = cross_validate(clsr, X_train, y_train, cv=kfold, return_train_score=True)\n",
    "    #display(res)\n",
    "    summary = cross_val_score(clsr, X_train, y_train, cv=kfold)\n",
    "    print(\"Mean cross-validation scores with k = {}: {:.3f}\".format(k, summary.mean()))"
   ]
  },
  {
   "cell_type": "code",
   "execution_count": 22,
   "id": "pajKzZPWusW9",
   "metadata": {
    "colab": {
     "base_uri": "https://localhost:8080/"
    },
    "executionInfo": {
     "elapsed": 3538,
     "status": "ok",
     "timestamp": 1667803890816,
     "user": {
      "displayName": "ai dev",
      "userId": "10658999908990116858"
     },
     "user_tz": -300
    },
    "id": "pajKzZPWusW9",
    "outputId": "3e3c3dd9-1f8f-4e0c-dc95-dd72a21b7943"
   },
   "outputs": [
    {
     "name": "stdout",
     "output_type": "stream",
     "text": [
      "[0.68358209 0.69056153 0.65890084 0.66427718 0.67741935]\n"
     ]
    }
   ],
   "source": [
    "from sklearn.model_selection import cross_val_score\n",
    "scores = cross_val_score(rf, X, Y, scoring='accuracy')\n",
    "print(scores)"
   ]
  },
  {
   "cell_type": "code",
   "execution_count": 23,
   "id": "e149aa86",
   "metadata": {},
   "outputs": [
    {
     "name": "stdout",
     "output_type": "stream",
     "text": [
      "*************** Logistic Regression ***************\n",
      "\n",
      " Test Set Accuracy Score:  0.667462971810798 \n",
      "\n",
      "              precision    recall  f1-score   support\n",
      "\n",
      "           0       0.69      0.70      0.69      1129\n",
      "           1       0.64      0.63      0.64       964\n",
      "\n",
      "    accuracy                           0.67      2093\n",
      "   macro avg       0.67      0.66      0.66      2093\n",
      "weighted avg       0.67      0.67      0.67      2093\n",
      "\n"
     ]
    },
    {
     "name": "stderr",
     "output_type": "stream",
     "text": [
      "C:\\Users\\jigna\\anaconda3\\lib\\site-packages\\sklearn\\linear_model\\_logistic.py:444: ConvergenceWarning: lbfgs failed to converge (status=1):\n",
      "STOP: TOTAL NO. of ITERATIONS REACHED LIMIT.\n",
      "\n",
      "Increase the number of iterations (max_iter) or scale the data as shown in:\n",
      "    https://scikit-learn.org/stable/modules/preprocessing.html\n",
      "Please also refer to the documentation for alternative solver options:\n",
      "    https://scikit-learn.org/stable/modules/linear_model.html#logistic-regression\n",
      "  n_iter_i = _check_optimize_result(\n"
     ]
    },
    {
     "data": {
      "image/png": "[encoded data removed]",
      "text/plain": [
       "<Figure size 550x400 with 2 Axes>"
      ]
     },
     "metadata": {},
     "output_type": "display_data"
    }
   ],
   "source": [
    "from sklearn.metrics import confusion_matrix, classification_report,accuracy_score\n",
    "# Logistic Regression\n",
    "\n",
    "lr.fit(X_train, y_train)\n",
    "y_predict = lr.predict(X_test)\n",
    "print(\"*\"*15,\"Logistic Regression\",\"*\"*15)\n",
    "print('\\n Test Set Accuracy Score: ', accuracy_score(y_predict,y_test), '\\n')\n",
    "print(classification_report(y_test,y_predict))\n",
    "      \n",
    "cm = confusion_matrix(y_test, y_predict) \n",
    "\n",
    "# # Transform to df for easier plotting\n",
    "cm_df = pd.DataFrame(cm, index = ['No','Yes',], columns = ['No','Yes'])\n",
    "\n",
    "plt.figure(figsize=(5.5,4))\n",
    "sns.heatmap(cm_df, fmt='d', annot=True)\n",
    "plt.title('Logistic Regression')\n",
    "plt.ylabel('True label')\n",
    "plt.xlabel('Predicted label')\n",
    "plt.show()"
   ]
  },
  {
   "cell_type": "code",
   "execution_count": 24,
   "id": "3fe64fe1",
   "metadata": {},
   "outputs": [
    {
     "name": "stdout",
     "output_type": "stream",
     "text": [
      "*************** Random Forest ***************\n",
      "\n",
      " Test Set Accuracy Score:  0.7209746774964166 \n",
      "\n",
      "              precision    recall  f1-score   support\n",
      "\n",
      "           0       0.72      0.79      0.75      1129\n",
      "           1       0.72      0.64      0.68       964\n",
      "\n",
      "    accuracy                           0.72      2093\n",
      "   macro avg       0.72      0.71      0.72      2093\n",
      "weighted avg       0.72      0.72      0.72      2093\n",
      "\n"
     ]
    },
    {
     "data": {
      "image/png": "[encoded data removed]",
      "text/plain": [
       "<Figure size 550x400 with 2 Axes>"
      ]
     },
     "metadata": {},
     "output_type": "display_data"
    }
   ],
   "source": [
    "# Random Forest Classifier\n",
    "\n",
    "rf.fit(X_train, y_train)\n",
    "y_predict = rf.predict(X_test)\n",
    "print(\"*\"*15,\"Random Forest\",\"*\"*15)\n",
    "print('\\n Test Set Accuracy Score: ', accuracy_score(y_predict,y_test), '\\n')\n",
    "print(classification_report(y_test,y_predict))\n",
    "      \n",
    "cm = confusion_matrix(y_test, y_predict) \n",
    "\n",
    "# # Transform to df for easier plotting\n",
    "cm_df = pd.DataFrame(cm, index = ['No','Yes',], columns = ['No','Yes'])\n",
    "\n",
    "plt.figure(figsize=(5.5,4))\n",
    "sns.heatmap(cm_df, fmt='d', annot=True)\n",
    "plt.title('Random Forest Classifier')\n",
    "plt.ylabel('True label')\n",
    "plt.xlabel('Predicted label')\n",
    "plt.show()"
   ]
  }
 ],
 "metadata": {
  "colab": {
   "collapsed_sections": [],
   "provenance": []
  },
  "kernelspec": {
   "display_name": "Python 3 (ipykernel)",
   "language": "python",
   "name": "python3"
  },
  "language_info": {
   "codemirror_mode": {
    "name": "ipython",
    "version": 3
   },
   "file_extension": ".py",
   "mimetype": "text/x-python",
   "name": "python",
   "nbconvert_exporter": "python",
   "pygments_lexer": "ipython3",
   "version": "3.9.13"
  },
  "papermill": {
   "default_parameters": {},
   "duration": 31.012306,
   "end_time": "2022-10-21T07:28:20.188216",
   "environment_variables": {},
   "exception": null,
   "input_path": "__notebook__.ipynb",
   "output_path": "__notebook__.ipynb",
   "parameters": {},
   "start_time": "2022-10-21T07:27:49.175910",
   "version": "2.3.4"
  }
 },
 "nbformat": 4,
 "nbformat_minor": 5
}
