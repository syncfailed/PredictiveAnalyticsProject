{
 "cells": [
  {
   "cell_type": "markdown",
   "id": "c9f3a475",
   "metadata": {
    "execution": {
     "iopub.execute_input": "2022-10-21T07:20:35.577437Z",
     "iopub.status.busy": "2022-10-21T07:20:35.576984Z",
     "iopub.status.idle": "2022-10-21T07:20:35.615287Z",
     "shell.execute_reply": "2022-10-21T07:20:35.613711Z",
     "shell.execute_reply.started": "2022-10-21T07:20:35.577349Z"
    },
    "id": "c9f3a475",
    "papermill": {
     "duration": 0.019113,
     "end_time": "2022-10-21T07:27:57.753755",
     "exception": false,
     "start_time": "2022-10-21T07:27:57.734642",
     "status": "completed"
    },
    "tags": []
   },
   "source": [
    "**We are importing Libraries which we will use in our project\n",
    "\n",
    "Pandas :-which is used for data cleaning and analysis. Here, Pandas is the best tool for handling this real-world messy data.\n",
    "\n",
    "Numpy : - NumPy aims to provide an array object that is up to 50x faster than traditional Python lists. It is very useful for fundamental scientific computations in Machine Learning\n",
    "\n",
    "sklearn : - sklearn library contains a lot of efficient tools for machine learning and statistical modeling including classification, regression, clustering and dimensionality reduction\n",
    "\n",
    "The plotly Python library is an interactive, open-source plotting library that supports over 40 unique chart types covering a wide range of statistical, financial, geographic, scientific, and 3-dimensional use-case\n",
    "\n",
    "**"
   ]
  },
  {
   "cell_type": "code",
   "execution_count": 15,
   "id": "646ba1ea",
   "metadata": {},
   "outputs": [
    {
     "name": "stdout",
     "output_type": "stream",
     "text": [
      "C:\\Users\\jigna\\PredictiveAnalyticsProject\n"
     ]
    }
   ],
   "source": [
    "%cd C:\\Users\\jigna\\PredictiveAnalyticsProject"
   ]
  },
  {
   "cell_type": "markdown",
   "id": "a825c13b",
   "metadata": {
    "id": "a825c13b",
    "papermill": {
     "duration": 0.019048,
     "end_time": "2022-10-21T07:27:57.788536",
     "exception": false,
     "start_time": "2022-10-21T07:27:57.769488",
     "status": "completed"
    },
    "tags": []
   },
   "source": [
    "# Importing the Libraries"
   ]
  },
  {
   "cell_type": "code",
   "execution_count": 16,
   "id": "681601ff",
   "metadata": {
    "execution": {
     "iopub.execute_input": "2022-10-21T07:27:57.826694Z",
     "iopub.status.busy": "2022-10-21T07:27:57.825347Z",
     "iopub.status.idle": "2022-10-21T07:27:59.291232Z",
     "shell.execute_reply": "2022-10-21T07:27:59.290289Z"
    },
    "executionInfo": {
     "elapsed": 404,
     "status": "ok",
     "timestamp": 1667803880357,
     "user": {
      "displayName": "ai dev",
      "userId": "10658999908990116858"
     },
     "user_tz": -300
    },
    "id": "681601ff",
    "papermill": {
     "duration": 1.486012,
     "end_time": "2022-10-21T07:27:59.293954",
     "exception": false,
     "start_time": "2022-10-21T07:27:57.807942",
     "status": "completed"
    },
    "tags": []
   },
   "outputs": [],
   "source": [
    "import numpy as np\n",
    "import pandas as pd\n",
    "import matplotlib.pyplot as plt\n",
    "import seaborn as sns\n",
    "\n",
    "from sklearn.model_selection import train_test_split, cross_val_score\n",
    "from sklearn.preprocessing import OneHotEncoder, LabelEncoder\n",
    "from sklearn.tree import DecisionTreeClassifier\n",
    "from sklearn.ensemble import RandomForestClassifier\n",
    "from sklearn.metrics import recall_score, make_scorer, confusion_matrix, classification_report, fbeta_score"
   ]
  },
  {
   "cell_type": "code",
   "execution_count": 17,
   "id": "1c294100",
   "metadata": {
    "colab": {
     "base_uri": "https://localhost:8080/",
     "height": 270
    },
    "execution": {
     "iopub.execute_input": "2022-10-21T07:27:59.357853Z",
     "iopub.status.busy": "2022-10-21T07:27:59.357420Z",
     "iopub.status.idle": "2022-10-21T07:27:59.443299Z",
     "shell.execute_reply": "2022-10-21T07:27:59.442156Z"
    },
    "executionInfo": {
     "elapsed": 123,
     "status": "ok",
     "timestamp": 1667803886082,
     "user": {
      "displayName": "ai dev",
      "userId": "10658999908990116858"
     },
     "user_tz": -300
    },
    "id": "1c294100",
    "outputId": "97bb7438-dfd7-4a6c-8da6-7a1be22e313a",
    "papermill": {
     "duration": 0.107584,
     "end_time": "2022-10-21T07:27:59.447362",
     "exception": false,
     "start_time": "2022-10-21T07:27:59.339778",
     "status": "completed"
    },
    "tags": []
   },
   "outputs": [
    {
     "data": {
      "text/html": [
       "<div>\n",
       "<style scoped>\n",
       "    .dataframe tbody tr th:only-of-type {\n",
       "        vertical-align: middle;\n",
       "    }\n",
       "\n",
       "    .dataframe tbody tr th {\n",
       "        vertical-align: top;\n",
       "    }\n",
       "\n",
       "    .dataframe thead th {\n",
       "        text-align: right;\n",
       "    }\n",
       "</style>\n",
       "<table border=\"1\" class=\"dataframe\">\n",
       "  <thead>\n",
       "    <tr style=\"text-align: right;\">\n",
       "      <th></th>\n",
       "      <th>age</th>\n",
       "      <th>job</th>\n",
       "      <th>marital</th>\n",
       "      <th>education</th>\n",
       "      <th>default</th>\n",
       "      <th>balance</th>\n",
       "      <th>housing</th>\n",
       "      <th>loan</th>\n",
       "      <th>contact</th>\n",
       "      <th>day</th>\n",
       "      <th>month</th>\n",
       "      <th>duration</th>\n",
       "      <th>campaign</th>\n",
       "      <th>pdays</th>\n",
       "      <th>previous</th>\n",
       "      <th>poutcome</th>\n",
       "      <th>deposit</th>\n",
       "    </tr>\n",
       "  </thead>\n",
       "  <tbody>\n",
       "    <tr>\n",
       "      <th>0</th>\n",
       "      <td>38</td>\n",
       "      <td>technician</td>\n",
       "      <td>married</td>\n",
       "      <td>tertiary</td>\n",
       "      <td>no</td>\n",
       "      <td>127</td>\n",
       "      <td>yes</td>\n",
       "      <td>no</td>\n",
       "      <td>cellular</td>\n",
       "      <td>14</td>\n",
       "      <td>oct</td>\n",
       "      <td>113</td>\n",
       "      <td>1</td>\n",
       "      <td>50</td>\n",
       "      <td>2</td>\n",
       "      <td>success</td>\n",
       "      <td>no</td>\n",
       "    </tr>\n",
       "    <tr>\n",
       "      <th>1</th>\n",
       "      <td>41</td>\n",
       "      <td>housemaid</td>\n",
       "      <td>married</td>\n",
       "      <td>primary</td>\n",
       "      <td>no</td>\n",
       "      <td>365</td>\n",
       "      <td>no</td>\n",
       "      <td>no</td>\n",
       "      <td>cellular</td>\n",
       "      <td>8</td>\n",
       "      <td>aug</td>\n",
       "      <td>203</td>\n",
       "      <td>5</td>\n",
       "      <td>-1</td>\n",
       "      <td>0</td>\n",
       "      <td>unknown</td>\n",
       "      <td>no</td>\n",
       "    </tr>\n",
       "    <tr>\n",
       "      <th>2</th>\n",
       "      <td>39</td>\n",
       "      <td>management</td>\n",
       "      <td>single</td>\n",
       "      <td>tertiary</td>\n",
       "      <td>no</td>\n",
       "      <td>2454</td>\n",
       "      <td>yes</td>\n",
       "      <td>no</td>\n",
       "      <td>cellular</td>\n",
       "      <td>4</td>\n",
       "      <td>may</td>\n",
       "      <td>716</td>\n",
       "      <td>3</td>\n",
       "      <td>263</td>\n",
       "      <td>2</td>\n",
       "      <td>failure</td>\n",
       "      <td>yes</td>\n",
       "    </tr>\n",
       "    <tr>\n",
       "      <th>3</th>\n",
       "      <td>49</td>\n",
       "      <td>blue-collar</td>\n",
       "      <td>married</td>\n",
       "      <td>primary</td>\n",
       "      <td>no</td>\n",
       "      <td>6215</td>\n",
       "      <td>yes</td>\n",
       "      <td>no</td>\n",
       "      <td>cellular</td>\n",
       "      <td>11</td>\n",
       "      <td>may</td>\n",
       "      <td>549</td>\n",
       "      <td>1</td>\n",
       "      <td>-1</td>\n",
       "      <td>0</td>\n",
       "      <td>unknown</td>\n",
       "      <td>no</td>\n",
       "    </tr>\n",
       "    <tr>\n",
       "      <th>4</th>\n",
       "      <td>37</td>\n",
       "      <td>services</td>\n",
       "      <td>married</td>\n",
       "      <td>secondary</td>\n",
       "      <td>no</td>\n",
       "      <td>1694</td>\n",
       "      <td>yes</td>\n",
       "      <td>yes</td>\n",
       "      <td>cellular</td>\n",
       "      <td>29</td>\n",
       "      <td>jan</td>\n",
       "      <td>404</td>\n",
       "      <td>2</td>\n",
       "      <td>251</td>\n",
       "      <td>6</td>\n",
       "      <td>failure</td>\n",
       "      <td>no</td>\n",
       "    </tr>\n",
       "  </tbody>\n",
       "</table>\n",
       "</div>"
      ],
      "text/plain": [
       "   age          job  marital  education default  balance housing loan  \\\n",
       "0   38   technician  married   tertiary      no      127     yes   no   \n",
       "1   41    housemaid  married    primary      no      365      no   no   \n",
       "2   39   management   single   tertiary      no     2454     yes   no   \n",
       "3   49  blue-collar  married    primary      no     6215     yes   no   \n",
       "4   37     services  married  secondary      no     1694     yes  yes   \n",
       "\n",
       "    contact  day month  duration  campaign  pdays  previous poutcome deposit  \n",
       "0  cellular   14   oct       113         1     50         2  success      no  \n",
       "1  cellular    8   aug       203         5     -1         0  unknown      no  \n",
       "2  cellular    4   may       716         3    263         2  failure     yes  \n",
       "3  cellular   11   may       549         1     -1         0  unknown      no  \n",
       "4  cellular   29   jan       404         2    251         6  failure      no  "
      ]
     },
     "execution_count": 17,
     "metadata": {},
     "output_type": "execute_result"
    }
   ],
   "source": [
    "# Read in train data\n",
    "df = pd.read_csv('data.csv')\n",
    "df.head()"
   ]
  },
  {
   "cell_type": "markdown",
   "id": "nK22s9OaVHU_",
   "metadata": {
    "id": "nK22s9OaVHU_"
   },
   "source": [
    "***Using info() which helps us to tell the datatype of each column and tells us how much non-null values in each column***"
   ]
  },
  {
   "cell_type": "code",
   "execution_count": 18,
   "id": "4tD0I85GVKZW",
   "metadata": {
    "colab": {
     "base_uri": "https://localhost:8080/"
    },
    "executionInfo": {
     "elapsed": 118,
     "status": "ok",
     "timestamp": 1667803886086,
     "user": {
      "displayName": "ai dev",
      "userId": "10658999908990116858"
     },
     "user_tz": -300
    },
    "id": "4tD0I85GVKZW",
    "outputId": "02ce3cf2-b0b3-40a6-ea0f-471c91ffc62b"
   },
   "outputs": [
    {
     "name": "stdout",
     "output_type": "stream",
     "text": [
      "<class 'pandas.core.frame.DataFrame'>\n",
      "RangeIndex: 8371 entries, 0 to 8370\n",
      "Data columns (total 17 columns):\n",
      " #   Column     Non-Null Count  Dtype \n",
      "---  ------     --------------  ----- \n",
      " 0   age        8371 non-null   int64 \n",
      " 1   job        8371 non-null   object\n",
      " 2   marital    8371 non-null   object\n",
      " 3   education  8371 non-null   object\n",
      " 4   default    8371 non-null   object\n",
      " 5   balance    8371 non-null   int64 \n",
      " 6   housing    8371 non-null   object\n",
      " 7   loan       8371 non-null   object\n",
      " 8   contact    8371 non-null   object\n",
      " 9   day        8371 non-null   int64 \n",
      " 10  month      8371 non-null   object\n",
      " 11  duration   8371 non-null   int64 \n",
      " 12  campaign   8371 non-null   int64 \n",
      " 13  pdays      8371 non-null   int64 \n",
      " 14  previous   8371 non-null   int64 \n",
      " 15  poutcome   8371 non-null   object\n",
      " 16  deposit    8371 non-null   object\n",
      "dtypes: int64(7), object(10)\n",
      "memory usage: 1.1+ MB\n"
     ]
    }
   ],
   "source": [
    "df.info()"
   ]
  },
  {
   "cell_type": "markdown",
   "id": "28db522e",
   "metadata": {
    "id": "28db522e",
    "papermill": {
     "duration": 0.01589,
     "end_time": "2022-10-21T07:27:59.699189",
     "exception": false,
     "start_time": "2022-10-21T07:27:59.683299",
     "status": "completed"
    },
    "tags": []
   },
   "source": [
    "### **describe() gives us the information only of int/float datatypes columns . it provides us min , max , count and 25 percentile , 50 percentile ,75 percentile as well std  about column**"
   ]
  },
  {
   "cell_type": "code",
   "execution_count": 19,
   "id": "71a2b93a",
   "metadata": {
    "colab": {
     "base_uri": "https://localhost:8080/",
     "height": 269
    },
    "execution": {
     "iopub.execute_input": "2022-10-21T07:27:59.733163Z",
     "iopub.status.busy": "2022-10-21T07:27:59.732515Z",
     "iopub.status.idle": "2022-10-21T07:27:59.745307Z",
     "shell.execute_reply": "2022-10-21T07:27:59.743998Z"
    },
    "executionInfo": {
     "elapsed": 119,
     "status": "ok",
     "timestamp": 1667803886090,
     "user": {
      "displayName": "ai dev",
      "userId": "10658999908990116858"
     },
     "user_tz": -300
    },
    "id": "71a2b93a",
    "outputId": "da5910d0-f85b-4099-bf9e-370bee03e969",
    "papermill": {
     "duration": 0.032236,
     "end_time": "2022-10-21T07:27:59.747551",
     "exception": false,
     "start_time": "2022-10-21T07:27:59.715315",
     "status": "completed"
    },
    "tags": []
   },
   "outputs": [
    {
     "data": {
      "text/html": [
       "<div>\n",
       "<style scoped>\n",
       "    .dataframe tbody tr th:only-of-type {\n",
       "        vertical-align: middle;\n",
       "    }\n",
       "\n",
       "    .dataframe tbody tr th {\n",
       "        vertical-align: top;\n",
       "    }\n",
       "\n",
       "    .dataframe thead th {\n",
       "        text-align: right;\n",
       "    }\n",
       "</style>\n",
       "<table border=\"1\" class=\"dataframe\">\n",
       "  <thead>\n",
       "    <tr style=\"text-align: right;\">\n",
       "      <th></th>\n",
       "      <th>count</th>\n",
       "      <th>mean</th>\n",
       "      <th>std</th>\n",
       "      <th>min</th>\n",
       "      <th>25%</th>\n",
       "      <th>50%</th>\n",
       "      <th>75%</th>\n",
       "      <th>max</th>\n",
       "    </tr>\n",
       "  </thead>\n",
       "  <tbody>\n",
       "    <tr>\n",
       "      <th>age</th>\n",
       "      <td>8371.0</td>\n",
       "      <td>41.197467</td>\n",
       "      <td>11.809300</td>\n",
       "      <td>18.0</td>\n",
       "      <td>32.0</td>\n",
       "      <td>39.0</td>\n",
       "      <td>49.0</td>\n",
       "      <td>95.0</td>\n",
       "    </tr>\n",
       "    <tr>\n",
       "      <th>balance</th>\n",
       "      <td>8371.0</td>\n",
       "      <td>1517.811134</td>\n",
       "      <td>3225.312218</td>\n",
       "      <td>-3058.0</td>\n",
       "      <td>116.0</td>\n",
       "      <td>532.0</td>\n",
       "      <td>1694.0</td>\n",
       "      <td>81204.0</td>\n",
       "    </tr>\n",
       "    <tr>\n",
       "      <th>day</th>\n",
       "      <td>8371.0</td>\n",
       "      <td>15.588460</td>\n",
       "      <td>8.406768</td>\n",
       "      <td>1.0</td>\n",
       "      <td>8.0</td>\n",
       "      <td>15.0</td>\n",
       "      <td>21.0</td>\n",
       "      <td>31.0</td>\n",
       "    </tr>\n",
       "    <tr>\n",
       "      <th>duration</th>\n",
       "      <td>8371.0</td>\n",
       "      <td>372.898698</td>\n",
       "      <td>346.706743</td>\n",
       "      <td>2.0</td>\n",
       "      <td>137.0</td>\n",
       "      <td>255.0</td>\n",
       "      <td>504.0</td>\n",
       "      <td>3284.0</td>\n",
       "    </tr>\n",
       "    <tr>\n",
       "      <th>campaign</th>\n",
       "      <td>8371.0</td>\n",
       "      <td>2.512603</td>\n",
       "      <td>2.734037</td>\n",
       "      <td>1.0</td>\n",
       "      <td>1.0</td>\n",
       "      <td>2.0</td>\n",
       "      <td>3.0</td>\n",
       "      <td>63.0</td>\n",
       "    </tr>\n",
       "    <tr>\n",
       "      <th>pdays</th>\n",
       "      <td>8371.0</td>\n",
       "      <td>49.911958</td>\n",
       "      <td>107.308417</td>\n",
       "      <td>-1.0</td>\n",
       "      <td>-1.0</td>\n",
       "      <td>-1.0</td>\n",
       "      <td>2.0</td>\n",
       "      <td>854.0</td>\n",
       "    </tr>\n",
       "    <tr>\n",
       "      <th>previous</th>\n",
       "      <td>8371.0</td>\n",
       "      <td>0.823677</td>\n",
       "      <td>2.315285</td>\n",
       "      <td>0.0</td>\n",
       "      <td>0.0</td>\n",
       "      <td>0.0</td>\n",
       "      <td>1.0</td>\n",
       "      <td>58.0</td>\n",
       "    </tr>\n",
       "  </tbody>\n",
       "</table>\n",
       "</div>"
      ],
      "text/plain": [
       "           count         mean          std     min    25%    50%     75%  \\\n",
       "age       8371.0    41.197467    11.809300    18.0   32.0   39.0    49.0   \n",
       "balance   8371.0  1517.811134  3225.312218 -3058.0  116.0  532.0  1694.0   \n",
       "day       8371.0    15.588460     8.406768     1.0    8.0   15.0    21.0   \n",
       "duration  8371.0   372.898698   346.706743     2.0  137.0  255.0   504.0   \n",
       "campaign  8371.0     2.512603     2.734037     1.0    1.0    2.0     3.0   \n",
       "pdays     8371.0    49.911958   107.308417    -1.0   -1.0   -1.0     2.0   \n",
       "previous  8371.0     0.823677     2.315285     0.0    0.0    0.0     1.0   \n",
       "\n",
       "              max  \n",
       "age          95.0  \n",
       "balance   81204.0  \n",
       "day          31.0  \n",
       "duration   3284.0  \n",
       "campaign     63.0  \n",
       "pdays       854.0  \n",
       "previous     58.0  "
      ]
     },
     "execution_count": 19,
     "metadata": {},
     "output_type": "execute_result"
    }
   ],
   "source": [
    "df.describe().T"
   ]
  },
  {
   "cell_type": "markdown",
   "id": "HjLH-8sxVh7w",
   "metadata": {
    "id": "HjLH-8sxVh7w"
   },
   "source": [
    "***Analyzing the each column of our dataset***"
   ]
  },
  {
   "cell_type": "markdown",
   "id": "RnrJ2zHcVxbB",
   "metadata": {
    "id": "RnrJ2zHcVxbB"
   },
   "source": [
    "**Data Preprocessing**"
   ]
  },
  {
   "cell_type": "markdown",
   "id": "udWOh9FcVztG",
   "metadata": {
    "id": "udWOh9FcVztG"
   },
   "source": [
    "### checking how many our dataset contains null values "
   ]
  },
  {
   "cell_type": "code",
   "execution_count": 20,
   "id": "nXiVTuOKV1Vw",
   "metadata": {
    "colab": {
     "base_uri": "https://localhost:8080/"
    },
    "executionInfo": {
     "elapsed": 123,
     "status": "ok",
     "timestamp": 1667803886098,
     "user": {
      "displayName": "ai dev",
      "userId": "10658999908990116858"
     },
     "user_tz": -300
    },
    "id": "nXiVTuOKV1Vw",
    "outputId": "788f86ea-def0-4787-9b33-8d57073ced5e"
   },
   "outputs": [
    {
     "data": {
      "text/plain": [
       "age          0\n",
       "job          0\n",
       "marital      0\n",
       "education    0\n",
       "default      0\n",
       "balance      0\n",
       "housing      0\n",
       "loan         0\n",
       "contact      0\n",
       "day          0\n",
       "month        0\n",
       "duration     0\n",
       "campaign     0\n",
       "pdays        0\n",
       "previous     0\n",
       "poutcome     0\n",
       "deposit      0\n",
       "dtype: int64"
      ]
     },
     "execution_count": 20,
     "metadata": {},
     "output_type": "execute_result"
    }
   ],
   "source": [
    "df.isnull().sum()"
   ]
  },
  {
   "cell_type": "code",
   "execution_count": 21,
   "id": "nrH5ML8QV9bZ",
   "metadata": {
    "colab": {
     "base_uri": "https://localhost:8080/"
    },
    "executionInfo": {
     "elapsed": 122,
     "status": "ok",
     "timestamp": 1667803886100,
     "user": {
      "displayName": "ai dev",
      "userId": "10658999908990116858"
     },
     "user_tz": -300
    },
    "id": "nrH5ML8QV9bZ",
    "outputId": "8b7e573c-4ff4-4c43-a494-d65306de30fc"
   },
   "outputs": [
    {
     "data": {
      "text/plain": [
       "0"
      ]
     },
     "execution_count": 21,
     "metadata": {},
     "output_type": "execute_result"
    }
   ],
   "source": [
    "df.duplicated().sum()"
   ]
  },
  {
   "cell_type": "code",
   "execution_count": 22,
   "id": "8571f78b",
   "metadata": {
    "colab": {
     "base_uri": "https://localhost:8080/",
     "height": 270
    },
    "execution": {
     "iopub.execute_input": "2022-10-21T07:28:04.955968Z",
     "iopub.status.busy": "2022-10-21T07:28:04.955148Z",
     "iopub.status.idle": "2022-10-21T07:28:04.974521Z",
     "shell.execute_reply": "2022-10-21T07:28:04.973359Z"
    },
    "executionInfo": {
     "elapsed": 125,
     "status": "ok",
     "timestamp": 1667803886110,
     "user": {
      "displayName": "ai dev",
      "userId": "10658999908990116858"
     },
     "user_tz": -300
    },
    "id": "8571f78b",
    "outputId": "ac4d70c0-5689-440d-d56d-108e0bcb96d3",
    "papermill": {
     "duration": 0.044851,
     "end_time": "2022-10-21T07:28:04.976812",
     "exception": false,
     "start_time": "2022-10-21T07:28:04.931961",
     "status": "completed"
    },
    "tags": []
   },
   "outputs": [
    {
     "data": {
      "text/html": [
       "<div>\n",
       "<style scoped>\n",
       "    .dataframe tbody tr th:only-of-type {\n",
       "        vertical-align: middle;\n",
       "    }\n",
       "\n",
       "    .dataframe tbody tr th {\n",
       "        vertical-align: top;\n",
       "    }\n",
       "\n",
       "    .dataframe thead th {\n",
       "        text-align: right;\n",
       "    }\n",
       "</style>\n",
       "<table border=\"1\" class=\"dataframe\">\n",
       "  <thead>\n",
       "    <tr style=\"text-align: right;\">\n",
       "      <th></th>\n",
       "      <th>age</th>\n",
       "      <th>job</th>\n",
       "      <th>marital</th>\n",
       "      <th>education</th>\n",
       "      <th>default</th>\n",
       "      <th>balance</th>\n",
       "      <th>housing</th>\n",
       "      <th>loan</th>\n",
       "      <th>contact</th>\n",
       "      <th>day</th>\n",
       "      <th>month</th>\n",
       "      <th>duration</th>\n",
       "      <th>campaign</th>\n",
       "      <th>pdays</th>\n",
       "      <th>previous</th>\n",
       "      <th>poutcome</th>\n",
       "    </tr>\n",
       "  </thead>\n",
       "  <tbody>\n",
       "    <tr>\n",
       "      <th>0</th>\n",
       "      <td>38</td>\n",
       "      <td>technician</td>\n",
       "      <td>married</td>\n",
       "      <td>tertiary</td>\n",
       "      <td>no</td>\n",
       "      <td>127</td>\n",
       "      <td>yes</td>\n",
       "      <td>no</td>\n",
       "      <td>cellular</td>\n",
       "      <td>14</td>\n",
       "      <td>oct</td>\n",
       "      <td>113</td>\n",
       "      <td>1</td>\n",
       "      <td>50</td>\n",
       "      <td>2</td>\n",
       "      <td>success</td>\n",
       "    </tr>\n",
       "    <tr>\n",
       "      <th>1</th>\n",
       "      <td>41</td>\n",
       "      <td>housemaid</td>\n",
       "      <td>married</td>\n",
       "      <td>primary</td>\n",
       "      <td>no</td>\n",
       "      <td>365</td>\n",
       "      <td>no</td>\n",
       "      <td>no</td>\n",
       "      <td>cellular</td>\n",
       "      <td>8</td>\n",
       "      <td>aug</td>\n",
       "      <td>203</td>\n",
       "      <td>5</td>\n",
       "      <td>-1</td>\n",
       "      <td>0</td>\n",
       "      <td>unknown</td>\n",
       "    </tr>\n",
       "    <tr>\n",
       "      <th>2</th>\n",
       "      <td>39</td>\n",
       "      <td>management</td>\n",
       "      <td>single</td>\n",
       "      <td>tertiary</td>\n",
       "      <td>no</td>\n",
       "      <td>2454</td>\n",
       "      <td>yes</td>\n",
       "      <td>no</td>\n",
       "      <td>cellular</td>\n",
       "      <td>4</td>\n",
       "      <td>may</td>\n",
       "      <td>716</td>\n",
       "      <td>3</td>\n",
       "      <td>263</td>\n",
       "      <td>2</td>\n",
       "      <td>failure</td>\n",
       "    </tr>\n",
       "    <tr>\n",
       "      <th>3</th>\n",
       "      <td>49</td>\n",
       "      <td>blue-collar</td>\n",
       "      <td>married</td>\n",
       "      <td>primary</td>\n",
       "      <td>no</td>\n",
       "      <td>6215</td>\n",
       "      <td>yes</td>\n",
       "      <td>no</td>\n",
       "      <td>cellular</td>\n",
       "      <td>11</td>\n",
       "      <td>may</td>\n",
       "      <td>549</td>\n",
       "      <td>1</td>\n",
       "      <td>-1</td>\n",
       "      <td>0</td>\n",
       "      <td>unknown</td>\n",
       "    </tr>\n",
       "    <tr>\n",
       "      <th>4</th>\n",
       "      <td>37</td>\n",
       "      <td>services</td>\n",
       "      <td>married</td>\n",
       "      <td>secondary</td>\n",
       "      <td>no</td>\n",
       "      <td>1694</td>\n",
       "      <td>yes</td>\n",
       "      <td>yes</td>\n",
       "      <td>cellular</td>\n",
       "      <td>29</td>\n",
       "      <td>jan</td>\n",
       "      <td>404</td>\n",
       "      <td>2</td>\n",
       "      <td>251</td>\n",
       "      <td>6</td>\n",
       "      <td>failure</td>\n",
       "    </tr>\n",
       "  </tbody>\n",
       "</table>\n",
       "</div>"
      ],
      "text/plain": [
       "   age          job  marital  education default  balance housing loan  \\\n",
       "0   38   technician  married   tertiary      no      127     yes   no   \n",
       "1   41    housemaid  married    primary      no      365      no   no   \n",
       "2   39   management   single   tertiary      no     2454     yes   no   \n",
       "3   49  blue-collar  married    primary      no     6215     yes   no   \n",
       "4   37     services  married  secondary      no     1694     yes  yes   \n",
       "\n",
       "    contact  day month  duration  campaign  pdays  previous poutcome  \n",
       "0  cellular   14   oct       113         1     50         2  success  \n",
       "1  cellular    8   aug       203         5     -1         0  unknown  \n",
       "2  cellular    4   may       716         3    263         2  failure  \n",
       "3  cellular   11   may       549         1     -1         0  unknown  \n",
       "4  cellular   29   jan       404         2    251         6  failure  "
      ]
     },
     "execution_count": 22,
     "metadata": {},
     "output_type": "execute_result"
    }
   ],
   "source": [
    "# Create train_x dataframe\n",
    "X = df.drop(columns=['deposit'])\n",
    "X.head()"
   ]
  },
  {
   "cell_type": "code",
   "execution_count": 23,
   "id": "b20dc4a7",
   "metadata": {
    "colab": {
     "base_uri": "https://localhost:8080/",
     "height": 206
    },
    "execution": {
     "iopub.execute_input": "2022-10-21T07:28:05.022401Z",
     "iopub.status.busy": "2022-10-21T07:28:05.021746Z",
     "iopub.status.idle": "2022-10-21T07:28:05.032057Z",
     "shell.execute_reply": "2022-10-21T07:28:05.031081Z"
    },
    "executionInfo": {
     "elapsed": 124,
     "status": "ok",
     "timestamp": 1667803886111,
     "user": {
      "displayName": "ai dev",
      "userId": "10658999908990116858"
     },
     "user_tz": -300
    },
    "id": "b20dc4a7",
    "outputId": "0a9c062d-b209-49d3-99ec-61a570a51130",
    "papermill": {
     "duration": 0.035473,
     "end_time": "2022-10-21T07:28:05.034095",
     "exception": false,
     "start_time": "2022-10-21T07:28:04.998622",
     "status": "completed"
    },
    "tags": []
   },
   "outputs": [
    {
     "data": {
      "text/plain": [
       "0     no\n",
       "1     no\n",
       "2    yes\n",
       "3     no\n",
       "4     no\n",
       "Name: deposit, dtype: object"
      ]
     },
     "execution_count": 23,
     "metadata": {},
     "output_type": "execute_result"
    }
   ],
   "source": [
    "Y = df['deposit']\n",
    "Y.head()"
   ]
  },
  {
   "cell_type": "code",
   "execution_count": 24,
   "id": "be6230d2",
   "metadata": {
    "colab": {
     "base_uri": "https://localhost:8080/"
    },
    "execution": {
     "iopub.execute_input": "2022-10-21T07:28:05.145601Z",
     "iopub.status.busy": "2022-10-21T07:28:05.144905Z",
     "iopub.status.idle": "2022-10-21T07:28:05.155618Z",
     "shell.execute_reply": "2022-10-21T07:28:05.154446Z"
    },
    "executionInfo": {
     "elapsed": 118,
     "status": "ok",
     "timestamp": 1667803886114,
     "user": {
      "displayName": "ai dev",
      "userId": "10658999908990116858"
     },
     "user_tz": -300
    },
    "id": "be6230d2",
    "outputId": "d0b653be-62eb-421c-d7bb-f6db29e01d71",
    "papermill": {
     "duration": 0.036367,
     "end_time": "2022-10-21T07:28:05.157781",
     "exception": false,
     "start_time": "2022-10-21T07:28:05.121414",
     "status": "completed"
    },
    "tags": []
   },
   "outputs": [
    {
     "data": {
      "text/plain": [
       "['job',\n",
       " 'marital',\n",
       " 'education',\n",
       " 'default',\n",
       " 'housing',\n",
       " 'loan',\n",
       " 'contact',\n",
       " 'month',\n",
       " 'poutcome']"
      ]
     },
     "execution_count": 24,
     "metadata": {},
     "output_type": "execute_result"
    }
   ],
   "source": [
    "# Get a list of columns for one-hot encoding\n",
    "ohe_cols = list(X.select_dtypes(include='object').columns.values)\n",
    "\n",
    "# We want to ordinal encode education\n",
    "le_col = ['education']\n",
    "\n",
    "# Drop education \n",
    "# ohe_cols.remove('education')\n",
    "ohe_cols"
   ]
  },
  {
   "cell_type": "code",
   "execution_count": 25,
   "id": "z_PhxkoTclGP",
   "metadata": {
    "colab": {
     "base_uri": "https://localhost:8080/",
     "height": 424
    },
    "executionInfo": {
     "elapsed": 117,
     "status": "ok",
     "timestamp": 1667803886116,
     "user": {
      "displayName": "ai dev",
      "userId": "10658999908990116858"
     },
     "user_tz": -300
    },
    "id": "z_PhxkoTclGP",
    "outputId": "e5ffdd7f-aaee-495b-d15e-b7124bf3834d",
    "scrolled": true
   },
   "outputs": [
    {
     "data": {
      "text/html": [
       "<div>\n",
       "<style scoped>\n",
       "    .dataframe tbody tr th:only-of-type {\n",
       "        vertical-align: middle;\n",
       "    }\n",
       "\n",
       "    .dataframe tbody tr th {\n",
       "        vertical-align: top;\n",
       "    }\n",
       "\n",
       "    .dataframe thead th {\n",
       "        text-align: right;\n",
       "    }\n",
       "</style>\n",
       "<table border=\"1\" class=\"dataframe\">\n",
       "  <thead>\n",
       "    <tr style=\"text-align: right;\">\n",
       "      <th></th>\n",
       "      <th>job</th>\n",
       "      <th>marital</th>\n",
       "      <th>education</th>\n",
       "      <th>default</th>\n",
       "      <th>housing</th>\n",
       "      <th>loan</th>\n",
       "      <th>contact</th>\n",
       "      <th>month</th>\n",
       "      <th>poutcome</th>\n",
       "      <th>deposit</th>\n",
       "    </tr>\n",
       "  </thead>\n",
       "  <tbody>\n",
       "    <tr>\n",
       "      <th>0</th>\n",
       "      <td>technician</td>\n",
       "      <td>married</td>\n",
       "      <td>tertiary</td>\n",
       "      <td>no</td>\n",
       "      <td>yes</td>\n",
       "      <td>no</td>\n",
       "      <td>cellular</td>\n",
       "      <td>oct</td>\n",
       "      <td>success</td>\n",
       "      <td>no</td>\n",
       "    </tr>\n",
       "    <tr>\n",
       "      <th>1</th>\n",
       "      <td>housemaid</td>\n",
       "      <td>married</td>\n",
       "      <td>primary</td>\n",
       "      <td>no</td>\n",
       "      <td>no</td>\n",
       "      <td>no</td>\n",
       "      <td>cellular</td>\n",
       "      <td>aug</td>\n",
       "      <td>unknown</td>\n",
       "      <td>no</td>\n",
       "    </tr>\n",
       "    <tr>\n",
       "      <th>2</th>\n",
       "      <td>management</td>\n",
       "      <td>single</td>\n",
       "      <td>tertiary</td>\n",
       "      <td>no</td>\n",
       "      <td>yes</td>\n",
       "      <td>no</td>\n",
       "      <td>cellular</td>\n",
       "      <td>may</td>\n",
       "      <td>failure</td>\n",
       "      <td>yes</td>\n",
       "    </tr>\n",
       "    <tr>\n",
       "      <th>3</th>\n",
       "      <td>blue-collar</td>\n",
       "      <td>married</td>\n",
       "      <td>primary</td>\n",
       "      <td>no</td>\n",
       "      <td>yes</td>\n",
       "      <td>no</td>\n",
       "      <td>cellular</td>\n",
       "      <td>may</td>\n",
       "      <td>unknown</td>\n",
       "      <td>no</td>\n",
       "    </tr>\n",
       "    <tr>\n",
       "      <th>4</th>\n",
       "      <td>services</td>\n",
       "      <td>married</td>\n",
       "      <td>secondary</td>\n",
       "      <td>no</td>\n",
       "      <td>yes</td>\n",
       "      <td>yes</td>\n",
       "      <td>cellular</td>\n",
       "      <td>jan</td>\n",
       "      <td>failure</td>\n",
       "      <td>no</td>\n",
       "    </tr>\n",
       "    <tr>\n",
       "      <th>...</th>\n",
       "      <td>...</td>\n",
       "      <td>...</td>\n",
       "      <td>...</td>\n",
       "      <td>...</td>\n",
       "      <td>...</td>\n",
       "      <td>...</td>\n",
       "      <td>...</td>\n",
       "      <td>...</td>\n",
       "      <td>...</td>\n",
       "      <td>...</td>\n",
       "    </tr>\n",
       "    <tr>\n",
       "      <th>8366</th>\n",
       "      <td>management</td>\n",
       "      <td>married</td>\n",
       "      <td>tertiary</td>\n",
       "      <td>no</td>\n",
       "      <td>no</td>\n",
       "      <td>no</td>\n",
       "      <td>cellular</td>\n",
       "      <td>may</td>\n",
       "      <td>unknown</td>\n",
       "      <td>yes</td>\n",
       "    </tr>\n",
       "    <tr>\n",
       "      <th>8367</th>\n",
       "      <td>services</td>\n",
       "      <td>married</td>\n",
       "      <td>secondary</td>\n",
       "      <td>no</td>\n",
       "      <td>no</td>\n",
       "      <td>no</td>\n",
       "      <td>cellular</td>\n",
       "      <td>feb</td>\n",
       "      <td>unknown</td>\n",
       "      <td>yes</td>\n",
       "    </tr>\n",
       "    <tr>\n",
       "      <th>8368</th>\n",
       "      <td>blue-collar</td>\n",
       "      <td>married</td>\n",
       "      <td>primary</td>\n",
       "      <td>no</td>\n",
       "      <td>yes</td>\n",
       "      <td>no</td>\n",
       "      <td>unknown</td>\n",
       "      <td>may</td>\n",
       "      <td>unknown</td>\n",
       "      <td>no</td>\n",
       "    </tr>\n",
       "    <tr>\n",
       "      <th>8369</th>\n",
       "      <td>retired</td>\n",
       "      <td>divorced</td>\n",
       "      <td>unknown</td>\n",
       "      <td>no</td>\n",
       "      <td>yes</td>\n",
       "      <td>no</td>\n",
       "      <td>unknown</td>\n",
       "      <td>may</td>\n",
       "      <td>unknown</td>\n",
       "      <td>no</td>\n",
       "    </tr>\n",
       "    <tr>\n",
       "      <th>8370</th>\n",
       "      <td>blue-collar</td>\n",
       "      <td>divorced</td>\n",
       "      <td>primary</td>\n",
       "      <td>no</td>\n",
       "      <td>no</td>\n",
       "      <td>no</td>\n",
       "      <td>cellular</td>\n",
       "      <td>jul</td>\n",
       "      <td>unknown</td>\n",
       "      <td>yes</td>\n",
       "    </tr>\n",
       "  </tbody>\n",
       "</table>\n",
       "<p>8371 rows × 10 columns</p>\n",
       "</div>"
      ],
      "text/plain": [
       "              job   marital  education default housing loan   contact month  \\\n",
       "0      technician   married   tertiary      no     yes   no  cellular   oct   \n",
       "1       housemaid   married    primary      no      no   no  cellular   aug   \n",
       "2      management    single   tertiary      no     yes   no  cellular   may   \n",
       "3     blue-collar   married    primary      no     yes   no  cellular   may   \n",
       "4        services   married  secondary      no     yes  yes  cellular   jan   \n",
       "...           ...       ...        ...     ...     ...  ...       ...   ...   \n",
       "8366   management   married   tertiary      no      no   no  cellular   may   \n",
       "8367     services   married  secondary      no      no   no  cellular   feb   \n",
       "8368  blue-collar   married    primary      no     yes   no   unknown   may   \n",
       "8369      retired  divorced    unknown      no     yes   no   unknown   may   \n",
       "8370  blue-collar  divorced    primary      no      no   no  cellular   jul   \n",
       "\n",
       "     poutcome deposit  \n",
       "0     success      no  \n",
       "1     unknown      no  \n",
       "2     failure     yes  \n",
       "3     unknown      no  \n",
       "4     failure      no  \n",
       "...       ...     ...  \n",
       "8366  unknown     yes  \n",
       "8367  unknown     yes  \n",
       "8368  unknown      no  \n",
       "8369  unknown      no  \n",
       "8370  unknown     yes  \n",
       "\n",
       "[8371 rows x 10 columns]"
      ]
     },
     "execution_count": 25,
     "metadata": {},
     "output_type": "execute_result"
    }
   ],
   "source": [
    "df[df.select_dtypes(include=\"object\").columns.values]"
   ]
  },
  {
   "cell_type": "code",
   "execution_count": 26,
   "id": "13d5e032",
   "metadata": {
    "colab": {
     "base_uri": "https://localhost:8080/",
     "height": 317
    },
    "execution": {
     "iopub.execute_input": "2022-10-21T07:28:05.203796Z",
     "iopub.status.busy": "2022-10-21T07:28:05.203016Z",
     "iopub.status.idle": "2022-10-21T07:28:05.239833Z",
     "shell.execute_reply": "2022-10-21T07:28:05.238640Z"
    },
    "executionInfo": {
     "elapsed": 118,
     "status": "ok",
     "timestamp": 1667803886118,
     "user": {
      "displayName": "ai dev",
      "userId": "10658999908990116858"
     },
     "user_tz": -300
    },
    "id": "13d5e032",
    "outputId": "e15f3192-006a-47e1-e403-17ab07e206c7",
    "papermill": {
     "duration": 0.06258,
     "end_time": "2022-10-21T07:28:05.242279",
     "exception": false,
     "start_time": "2022-10-21T07:28:05.179699",
     "status": "completed"
    },
    "tags": []
   },
   "outputs": [
    {
     "data": {
      "text/html": [
       "<div>\n",
       "<style scoped>\n",
       "    .dataframe tbody tr th:only-of-type {\n",
       "        vertical-align: middle;\n",
       "    }\n",
       "\n",
       "    .dataframe tbody tr th {\n",
       "        vertical-align: top;\n",
       "    }\n",
       "\n",
       "    .dataframe thead th {\n",
       "        text-align: right;\n",
       "    }\n",
       "</style>\n",
       "<table border=\"1\" class=\"dataframe\">\n",
       "  <thead>\n",
       "    <tr style=\"text-align: right;\">\n",
       "      <th></th>\n",
       "      <th>age</th>\n",
       "      <th>balance</th>\n",
       "      <th>day</th>\n",
       "      <th>duration</th>\n",
       "      <th>campaign</th>\n",
       "      <th>pdays</th>\n",
       "      <th>previous</th>\n",
       "      <th>job_blue-collar</th>\n",
       "      <th>job_entrepreneur</th>\n",
       "      <th>job_housemaid</th>\n",
       "      <th>...</th>\n",
       "      <th>month_jul</th>\n",
       "      <th>month_jun</th>\n",
       "      <th>month_mar</th>\n",
       "      <th>month_may</th>\n",
       "      <th>month_nov</th>\n",
       "      <th>month_oct</th>\n",
       "      <th>month_sep</th>\n",
       "      <th>poutcome_other</th>\n",
       "      <th>poutcome_success</th>\n",
       "      <th>poutcome_unknown</th>\n",
       "    </tr>\n",
       "  </thead>\n",
       "  <tbody>\n",
       "    <tr>\n",
       "      <th>0</th>\n",
       "      <td>38</td>\n",
       "      <td>127</td>\n",
       "      <td>14</td>\n",
       "      <td>113</td>\n",
       "      <td>1</td>\n",
       "      <td>50</td>\n",
       "      <td>2</td>\n",
       "      <td>0</td>\n",
       "      <td>0</td>\n",
       "      <td>0</td>\n",
       "      <td>...</td>\n",
       "      <td>0</td>\n",
       "      <td>0</td>\n",
       "      <td>0</td>\n",
       "      <td>0</td>\n",
       "      <td>0</td>\n",
       "      <td>1</td>\n",
       "      <td>0</td>\n",
       "      <td>0</td>\n",
       "      <td>1</td>\n",
       "      <td>0</td>\n",
       "    </tr>\n",
       "    <tr>\n",
       "      <th>1</th>\n",
       "      <td>41</td>\n",
       "      <td>365</td>\n",
       "      <td>8</td>\n",
       "      <td>203</td>\n",
       "      <td>5</td>\n",
       "      <td>-1</td>\n",
       "      <td>0</td>\n",
       "      <td>0</td>\n",
       "      <td>0</td>\n",
       "      <td>1</td>\n",
       "      <td>...</td>\n",
       "      <td>0</td>\n",
       "      <td>0</td>\n",
       "      <td>0</td>\n",
       "      <td>0</td>\n",
       "      <td>0</td>\n",
       "      <td>0</td>\n",
       "      <td>0</td>\n",
       "      <td>0</td>\n",
       "      <td>0</td>\n",
       "      <td>1</td>\n",
       "    </tr>\n",
       "    <tr>\n",
       "      <th>2</th>\n",
       "      <td>39</td>\n",
       "      <td>2454</td>\n",
       "      <td>4</td>\n",
       "      <td>716</td>\n",
       "      <td>3</td>\n",
       "      <td>263</td>\n",
       "      <td>2</td>\n",
       "      <td>0</td>\n",
       "      <td>0</td>\n",
       "      <td>0</td>\n",
       "      <td>...</td>\n",
       "      <td>0</td>\n",
       "      <td>0</td>\n",
       "      <td>0</td>\n",
       "      <td>1</td>\n",
       "      <td>0</td>\n",
       "      <td>0</td>\n",
       "      <td>0</td>\n",
       "      <td>0</td>\n",
       "      <td>0</td>\n",
       "      <td>0</td>\n",
       "    </tr>\n",
       "    <tr>\n",
       "      <th>3</th>\n",
       "      <td>49</td>\n",
       "      <td>6215</td>\n",
       "      <td>11</td>\n",
       "      <td>549</td>\n",
       "      <td>1</td>\n",
       "      <td>-1</td>\n",
       "      <td>0</td>\n",
       "      <td>1</td>\n",
       "      <td>0</td>\n",
       "      <td>0</td>\n",
       "      <td>...</td>\n",
       "      <td>0</td>\n",
       "      <td>0</td>\n",
       "      <td>0</td>\n",
       "      <td>1</td>\n",
       "      <td>0</td>\n",
       "      <td>0</td>\n",
       "      <td>0</td>\n",
       "      <td>0</td>\n",
       "      <td>0</td>\n",
       "      <td>1</td>\n",
       "    </tr>\n",
       "    <tr>\n",
       "      <th>4</th>\n",
       "      <td>37</td>\n",
       "      <td>1694</td>\n",
       "      <td>29</td>\n",
       "      <td>404</td>\n",
       "      <td>2</td>\n",
       "      <td>251</td>\n",
       "      <td>6</td>\n",
       "      <td>0</td>\n",
       "      <td>0</td>\n",
       "      <td>0</td>\n",
       "      <td>...</td>\n",
       "      <td>0</td>\n",
       "      <td>0</td>\n",
       "      <td>0</td>\n",
       "      <td>0</td>\n",
       "      <td>0</td>\n",
       "      <td>0</td>\n",
       "      <td>0</td>\n",
       "      <td>0</td>\n",
       "      <td>0</td>\n",
       "      <td>0</td>\n",
       "    </tr>\n",
       "  </tbody>\n",
       "</table>\n",
       "<p>5 rows × 42 columns</p>\n",
       "</div>"
      ],
      "text/plain": [
       "   age  balance  day  duration  campaign  pdays  previous  job_blue-collar  \\\n",
       "0   38      127   14       113         1     50         2                0   \n",
       "1   41      365    8       203         5     -1         0                0   \n",
       "2   39     2454    4       716         3    263         2                0   \n",
       "3   49     6215   11       549         1     -1         0                1   \n",
       "4   37     1694   29       404         2    251         6                0   \n",
       "\n",
       "   job_entrepreneur  job_housemaid  ...  month_jul  month_jun  month_mar  \\\n",
       "0                 0              0  ...          0          0          0   \n",
       "1                 0              1  ...          0          0          0   \n",
       "2                 0              0  ...          0          0          0   \n",
       "3                 0              0  ...          0          0          0   \n",
       "4                 0              0  ...          0          0          0   \n",
       "\n",
       "   month_may  month_nov  month_oct  month_sep  poutcome_other  \\\n",
       "0          0          0          1          0               0   \n",
       "1          0          0          0          0               0   \n",
       "2          1          0          0          0               0   \n",
       "3          1          0          0          0               0   \n",
       "4          0          0          0          0               0   \n",
       "\n",
       "   poutcome_success  poutcome_unknown  \n",
       "0                 1                 0  \n",
       "1                 0                 1  \n",
       "2                 0                 0  \n",
       "3                 0                 1  \n",
       "4                 0                 0  \n",
       "\n",
       "[5 rows x 42 columns]"
      ]
     },
     "execution_count": 26,
     "metadata": {},
     "output_type": "execute_result"
    }
   ],
   "source": [
    "X = pd.get_dummies(X, prefix=ohe_cols, columns=ohe_cols, drop_first=True)\n",
    "X.head()"
   ]
  },
  {
   "cell_type": "code",
   "execution_count": 199,
   "id": "acf69aac",
   "metadata": {
    "colab": {
     "base_uri": "https://localhost:8080/"
    },
    "execution": {
     "iopub.execute_input": "2022-10-21T07:28:05.289176Z",
     "iopub.status.busy": "2022-10-21T07:28:05.288496Z",
     "iopub.status.idle": "2022-10-21T07:28:05.303706Z",
     "shell.execute_reply": "2022-10-21T07:28:05.302459Z"
    },
    "executionInfo": {
     "elapsed": 118,
     "status": "ok",
     "timestamp": 1667803886120,
     "user": {
      "displayName": "ai dev",
      "userId": "10658999908990116858"
     },
     "user_tz": -300
    },
    "id": "acf69aac",
    "outputId": "8e7dc395-3930-4735-ffee-7f58b807c007",
    "papermill": {
     "duration": 0.041249,
     "end_time": "2022-10-21T07:28:05.305977",
     "exception": false,
     "start_time": "2022-10-21T07:28:05.264728",
     "status": "completed"
    },
    "tags": []
   },
   "outputs": [
    {
     "data": {
      "text/plain": [
       "2    0.491339\n",
       "3    0.328993\n",
       "1    0.134751\n",
       "0    0.044917\n",
       "Name: education, dtype: float64"
      ]
     },
     "execution_count": 199,
     "metadata": {},
     "output_type": "execute_result"
    }
   ],
   "source": [
    "# Perform Ordinal encoding on education\n",
    "ed_cat = {'unknown': 0, \n",
    "          'primary': 1,\n",
    "          'secondary': 2,\n",
    "          'tertiary': 3}\n",
    "X['education'] = X['education'].replace(ed_cat)\n",
    "X['education'].value_counts(normalize=True)"
   ]
  },
  {
   "cell_type": "code",
   "execution_count": 27,
   "id": "58a3cd9e",
   "metadata": {
    "colab": {
     "base_uri": "https://localhost:8080/",
     "height": 317
    },
    "execution": {
     "iopub.execute_input": "2022-10-21T07:28:05.352856Z",
     "iopub.status.busy": "2022-10-21T07:28:05.352162Z",
     "iopub.status.idle": "2022-10-21T07:28:05.370728Z",
     "shell.execute_reply": "2022-10-21T07:28:05.369531Z"
    },
    "executionInfo": {
     "elapsed": 112,
     "status": "ok",
     "timestamp": 1667803886122,
     "user": {
      "displayName": "ai dev",
      "userId": "10658999908990116858"
     },
     "user_tz": -300
    },
    "id": "58a3cd9e",
    "outputId": "017dfc65-f856-456c-c94a-91fbfdfef820",
    "papermill": {
     "duration": 0.044586,
     "end_time": "2022-10-21T07:28:05.372924",
     "exception": false,
     "start_time": "2022-10-21T07:28:05.328338",
     "status": "completed"
    },
    "tags": []
   },
   "outputs": [
    {
     "data": {
      "text/html": [
       "<div>\n",
       "<style scoped>\n",
       "    .dataframe tbody tr th:only-of-type {\n",
       "        vertical-align: middle;\n",
       "    }\n",
       "\n",
       "    .dataframe tbody tr th {\n",
       "        vertical-align: top;\n",
       "    }\n",
       "\n",
       "    .dataframe thead th {\n",
       "        text-align: right;\n",
       "    }\n",
       "</style>\n",
       "<table border=\"1\" class=\"dataframe\">\n",
       "  <thead>\n",
       "    <tr style=\"text-align: right;\">\n",
       "      <th></th>\n",
       "      <th>age</th>\n",
       "      <th>balance</th>\n",
       "      <th>day</th>\n",
       "      <th>duration</th>\n",
       "      <th>campaign</th>\n",
       "      <th>pdays</th>\n",
       "      <th>previous</th>\n",
       "      <th>job_blue-collar</th>\n",
       "      <th>job_entrepreneur</th>\n",
       "      <th>job_housemaid</th>\n",
       "      <th>...</th>\n",
       "      <th>month_jul</th>\n",
       "      <th>month_jun</th>\n",
       "      <th>month_mar</th>\n",
       "      <th>month_may</th>\n",
       "      <th>month_nov</th>\n",
       "      <th>month_oct</th>\n",
       "      <th>month_sep</th>\n",
       "      <th>poutcome_other</th>\n",
       "      <th>poutcome_success</th>\n",
       "      <th>poutcome_unknown</th>\n",
       "    </tr>\n",
       "  </thead>\n",
       "  <tbody>\n",
       "    <tr>\n",
       "      <th>0</th>\n",
       "      <td>38</td>\n",
       "      <td>127</td>\n",
       "      <td>14</td>\n",
       "      <td>113</td>\n",
       "      <td>1</td>\n",
       "      <td>50</td>\n",
       "      <td>2</td>\n",
       "      <td>0</td>\n",
       "      <td>0</td>\n",
       "      <td>0</td>\n",
       "      <td>...</td>\n",
       "      <td>0</td>\n",
       "      <td>0</td>\n",
       "      <td>0</td>\n",
       "      <td>0</td>\n",
       "      <td>0</td>\n",
       "      <td>1</td>\n",
       "      <td>0</td>\n",
       "      <td>0</td>\n",
       "      <td>1</td>\n",
       "      <td>0</td>\n",
       "    </tr>\n",
       "    <tr>\n",
       "      <th>1</th>\n",
       "      <td>41</td>\n",
       "      <td>365</td>\n",
       "      <td>8</td>\n",
       "      <td>203</td>\n",
       "      <td>5</td>\n",
       "      <td>-1</td>\n",
       "      <td>0</td>\n",
       "      <td>0</td>\n",
       "      <td>0</td>\n",
       "      <td>1</td>\n",
       "      <td>...</td>\n",
       "      <td>0</td>\n",
       "      <td>0</td>\n",
       "      <td>0</td>\n",
       "      <td>0</td>\n",
       "      <td>0</td>\n",
       "      <td>0</td>\n",
       "      <td>0</td>\n",
       "      <td>0</td>\n",
       "      <td>0</td>\n",
       "      <td>1</td>\n",
       "    </tr>\n",
       "    <tr>\n",
       "      <th>2</th>\n",
       "      <td>39</td>\n",
       "      <td>2454</td>\n",
       "      <td>4</td>\n",
       "      <td>716</td>\n",
       "      <td>3</td>\n",
       "      <td>263</td>\n",
       "      <td>2</td>\n",
       "      <td>0</td>\n",
       "      <td>0</td>\n",
       "      <td>0</td>\n",
       "      <td>...</td>\n",
       "      <td>0</td>\n",
       "      <td>0</td>\n",
       "      <td>0</td>\n",
       "      <td>1</td>\n",
       "      <td>0</td>\n",
       "      <td>0</td>\n",
       "      <td>0</td>\n",
       "      <td>0</td>\n",
       "      <td>0</td>\n",
       "      <td>0</td>\n",
       "    </tr>\n",
       "    <tr>\n",
       "      <th>3</th>\n",
       "      <td>49</td>\n",
       "      <td>6215</td>\n",
       "      <td>11</td>\n",
       "      <td>549</td>\n",
       "      <td>1</td>\n",
       "      <td>-1</td>\n",
       "      <td>0</td>\n",
       "      <td>1</td>\n",
       "      <td>0</td>\n",
       "      <td>0</td>\n",
       "      <td>...</td>\n",
       "      <td>0</td>\n",
       "      <td>0</td>\n",
       "      <td>0</td>\n",
       "      <td>1</td>\n",
       "      <td>0</td>\n",
       "      <td>0</td>\n",
       "      <td>0</td>\n",
       "      <td>0</td>\n",
       "      <td>0</td>\n",
       "      <td>1</td>\n",
       "    </tr>\n",
       "    <tr>\n",
       "      <th>4</th>\n",
       "      <td>37</td>\n",
       "      <td>1694</td>\n",
       "      <td>29</td>\n",
       "      <td>404</td>\n",
       "      <td>2</td>\n",
       "      <td>251</td>\n",
       "      <td>6</td>\n",
       "      <td>0</td>\n",
       "      <td>0</td>\n",
       "      <td>0</td>\n",
       "      <td>...</td>\n",
       "      <td>0</td>\n",
       "      <td>0</td>\n",
       "      <td>0</td>\n",
       "      <td>0</td>\n",
       "      <td>0</td>\n",
       "      <td>0</td>\n",
       "      <td>0</td>\n",
       "      <td>0</td>\n",
       "      <td>0</td>\n",
       "      <td>0</td>\n",
       "    </tr>\n",
       "  </tbody>\n",
       "</table>\n",
       "<p>5 rows × 42 columns</p>\n",
       "</div>"
      ],
      "text/plain": [
       "   age  balance  day  duration  campaign  pdays  previous  job_blue-collar  \\\n",
       "0   38      127   14       113         1     50         2                0   \n",
       "1   41      365    8       203         5     -1         0                0   \n",
       "2   39     2454    4       716         3    263         2                0   \n",
       "3   49     6215   11       549         1     -1         0                1   \n",
       "4   37     1694   29       404         2    251         6                0   \n",
       "\n",
       "   job_entrepreneur  job_housemaid  ...  month_jul  month_jun  month_mar  \\\n",
       "0                 0              0  ...          0          0          0   \n",
       "1                 0              1  ...          0          0          0   \n",
       "2                 0              0  ...          0          0          0   \n",
       "3                 0              0  ...          0          0          0   \n",
       "4                 0              0  ...          0          0          0   \n",
       "\n",
       "   month_may  month_nov  month_oct  month_sep  poutcome_other  \\\n",
       "0          0          0          1          0               0   \n",
       "1          0          0          0          0               0   \n",
       "2          1          0          0          0               0   \n",
       "3          1          0          0          0               0   \n",
       "4          0          0          0          0               0   \n",
       "\n",
       "   poutcome_success  poutcome_unknown  \n",
       "0                 1                 0  \n",
       "1                 0                 1  \n",
       "2                 0                 0  \n",
       "3                 0                 1  \n",
       "4                 0                 0  \n",
       "\n",
       "[5 rows x 42 columns]"
      ]
     },
     "execution_count": 27,
     "metadata": {},
     "output_type": "execute_result"
    }
   ],
   "source": [
    "X.head()"
   ]
  },
  {
   "cell_type": "markdown",
   "id": "weEjRF4QdZ5p",
   "metadata": {
    "id": "weEjRF4QdZ5p"
   },
   "source": [
    "As we know that our model don't perform on Label mean textual data . That's for it we have to convert these label which is male and femal in numbers .For converting Label into 0,1 format of Label column , we will use Label Encoder . Label encoder assigned the value on the basis of the order of alphabets. That's for it , Female will be 0 and male will be 1 ."
   ]
  },
  {
   "cell_type": "code",
   "execution_count": 28,
   "id": "b93808fb",
   "metadata": {
    "colab": {
     "base_uri": "https://localhost:8080/"
    },
    "execution": {
     "iopub.execute_input": "2022-10-21T07:28:05.420542Z",
     "iopub.status.busy": "2022-10-21T07:28:05.419891Z",
     "iopub.status.idle": "2022-10-21T07:28:05.433517Z",
     "shell.execute_reply": "2022-10-21T07:28:05.432478Z"
    },
    "executionInfo": {
     "elapsed": 114,
     "status": "ok",
     "timestamp": 1667803886125,
     "user": {
      "displayName": "ai dev",
      "userId": "10658999908990116858"
     },
     "user_tz": -300
    },
    "id": "b93808fb",
    "outputId": "c57c2732-f90c-4d21-cb7c-a72e150b54f8",
    "papermill": {
     "duration": 0.04004,
     "end_time": "2022-10-21T07:28:05.435688",
     "exception": false,
     "start_time": "2022-10-21T07:28:05.395648",
     "status": "completed"
    },
    "tags": []
   },
   "outputs": [
    {
     "data": {
      "text/plain": [
       "array([0, 0, 1, ..., 0, 0, 1])"
      ]
     },
     "execution_count": 28,
     "metadata": {},
     "output_type": "execute_result"
    }
   ],
   "source": [
    "from sklearn import preprocessing\n",
    "le = preprocessing.LabelEncoder()\n",
    " \n",
    "Y = le.fit_transform(Y)\n",
    "Y"
   ]
  },
  {
   "cell_type": "code",
   "execution_count": 29,
   "id": "KboPbblbdzh-",
   "metadata": {
    "colab": {
     "base_uri": "https://localhost:8080/"
    },
    "executionInfo": {
     "elapsed": 1286,
     "status": "ok",
     "timestamp": 1667803887301,
     "user": {
      "displayName": "ai dev",
      "userId": "10658999908990116858"
     },
     "user_tz": -300
    },
    "id": "KboPbblbdzh-",
    "outputId": "a635fda2-eba1-494b-f2bc-5fdeaa633674"
   },
   "outputs": [
    {
     "data": {
      "text/plain": [
       "4428"
      ]
     },
     "execution_count": 29,
     "metadata": {},
     "output_type": "execute_result"
    }
   ],
   "source": [
    "len(Y[Y==0])"
   ]
  },
  {
   "cell_type": "code",
   "execution_count": 30,
   "id": "9PbBuAUBd6Rs",
   "metadata": {
    "colab": {
     "base_uri": "https://localhost:8080/"
    },
    "executionInfo": {
     "elapsed": 138,
     "status": "ok",
     "timestamp": 1667803887303,
     "user": {
      "displayName": "ai dev",
      "userId": "10658999908990116858"
     },
     "user_tz": -300
    },
    "id": "9PbBuAUBd6Rs",
    "outputId": "f28ad649-b6eb-47f1-b852-c3203de6caf5"
   },
   "outputs": [
    {
     "data": {
      "text/plain": [
       "no     4428\n",
       "yes    3943\n",
       "Name: deposit, dtype: int64"
      ]
     },
     "execution_count": 30,
     "metadata": {},
     "output_type": "execute_result"
    }
   ],
   "source": [
    "df['deposit'].value_counts()"
   ]
  },
  {
   "cell_type": "code",
   "execution_count": 31,
   "id": "REpRjA33kjTn",
   "metadata": {
    "colab": {
     "base_uri": "https://localhost:8080/",
     "height": 317
    },
    "executionInfo": {
     "elapsed": 171,
     "status": "ok",
     "timestamp": 1667803887349,
     "user": {
      "displayName": "ai dev",
      "userId": "10658999908990116858"
     },
     "user_tz": -300
    },
    "id": "REpRjA33kjTn",
    "outputId": "d834b148-88b2-450f-883d-17fe7d07c1e6"
   },
   "outputs": [
    {
     "data": {
      "text/html": [
       "<div>\n",
       "<style scoped>\n",
       "    .dataframe tbody tr th:only-of-type {\n",
       "        vertical-align: middle;\n",
       "    }\n",
       "\n",
       "    .dataframe tbody tr th {\n",
       "        vertical-align: top;\n",
       "    }\n",
       "\n",
       "    .dataframe thead th {\n",
       "        text-align: right;\n",
       "    }\n",
       "</style>\n",
       "<table border=\"1\" class=\"dataframe\">\n",
       "  <thead>\n",
       "    <tr style=\"text-align: right;\">\n",
       "      <th></th>\n",
       "      <th>age</th>\n",
       "      <th>balance</th>\n",
       "      <th>day</th>\n",
       "      <th>duration</th>\n",
       "      <th>campaign</th>\n",
       "      <th>pdays</th>\n",
       "      <th>previous</th>\n",
       "      <th>job_blue-collar</th>\n",
       "      <th>job_entrepreneur</th>\n",
       "      <th>job_housemaid</th>\n",
       "      <th>...</th>\n",
       "      <th>month_jul</th>\n",
       "      <th>month_jun</th>\n",
       "      <th>month_mar</th>\n",
       "      <th>month_may</th>\n",
       "      <th>month_nov</th>\n",
       "      <th>month_oct</th>\n",
       "      <th>month_sep</th>\n",
       "      <th>poutcome_other</th>\n",
       "      <th>poutcome_success</th>\n",
       "      <th>poutcome_unknown</th>\n",
       "    </tr>\n",
       "  </thead>\n",
       "  <tbody>\n",
       "    <tr>\n",
       "      <th>0</th>\n",
       "      <td>38</td>\n",
       "      <td>127</td>\n",
       "      <td>14</td>\n",
       "      <td>113</td>\n",
       "      <td>1</td>\n",
       "      <td>50</td>\n",
       "      <td>2</td>\n",
       "      <td>0</td>\n",
       "      <td>0</td>\n",
       "      <td>0</td>\n",
       "      <td>...</td>\n",
       "      <td>0</td>\n",
       "      <td>0</td>\n",
       "      <td>0</td>\n",
       "      <td>0</td>\n",
       "      <td>0</td>\n",
       "      <td>1</td>\n",
       "      <td>0</td>\n",
       "      <td>0</td>\n",
       "      <td>1</td>\n",
       "      <td>0</td>\n",
       "    </tr>\n",
       "    <tr>\n",
       "      <th>1</th>\n",
       "      <td>41</td>\n",
       "      <td>365</td>\n",
       "      <td>8</td>\n",
       "      <td>203</td>\n",
       "      <td>5</td>\n",
       "      <td>-1</td>\n",
       "      <td>0</td>\n",
       "      <td>0</td>\n",
       "      <td>0</td>\n",
       "      <td>1</td>\n",
       "      <td>...</td>\n",
       "      <td>0</td>\n",
       "      <td>0</td>\n",
       "      <td>0</td>\n",
       "      <td>0</td>\n",
       "      <td>0</td>\n",
       "      <td>0</td>\n",
       "      <td>0</td>\n",
       "      <td>0</td>\n",
       "      <td>0</td>\n",
       "      <td>1</td>\n",
       "    </tr>\n",
       "    <tr>\n",
       "      <th>2</th>\n",
       "      <td>39</td>\n",
       "      <td>2454</td>\n",
       "      <td>4</td>\n",
       "      <td>716</td>\n",
       "      <td>3</td>\n",
       "      <td>263</td>\n",
       "      <td>2</td>\n",
       "      <td>0</td>\n",
       "      <td>0</td>\n",
       "      <td>0</td>\n",
       "      <td>...</td>\n",
       "      <td>0</td>\n",
       "      <td>0</td>\n",
       "      <td>0</td>\n",
       "      <td>1</td>\n",
       "      <td>0</td>\n",
       "      <td>0</td>\n",
       "      <td>0</td>\n",
       "      <td>0</td>\n",
       "      <td>0</td>\n",
       "      <td>0</td>\n",
       "    </tr>\n",
       "    <tr>\n",
       "      <th>3</th>\n",
       "      <td>49</td>\n",
       "      <td>6215</td>\n",
       "      <td>11</td>\n",
       "      <td>549</td>\n",
       "      <td>1</td>\n",
       "      <td>-1</td>\n",
       "      <td>0</td>\n",
       "      <td>1</td>\n",
       "      <td>0</td>\n",
       "      <td>0</td>\n",
       "      <td>...</td>\n",
       "      <td>0</td>\n",
       "      <td>0</td>\n",
       "      <td>0</td>\n",
       "      <td>1</td>\n",
       "      <td>0</td>\n",
       "      <td>0</td>\n",
       "      <td>0</td>\n",
       "      <td>0</td>\n",
       "      <td>0</td>\n",
       "      <td>1</td>\n",
       "    </tr>\n",
       "    <tr>\n",
       "      <th>4</th>\n",
       "      <td>37</td>\n",
       "      <td>1694</td>\n",
       "      <td>29</td>\n",
       "      <td>404</td>\n",
       "      <td>2</td>\n",
       "      <td>251</td>\n",
       "      <td>6</td>\n",
       "      <td>0</td>\n",
       "      <td>0</td>\n",
       "      <td>0</td>\n",
       "      <td>...</td>\n",
       "      <td>0</td>\n",
       "      <td>0</td>\n",
       "      <td>0</td>\n",
       "      <td>0</td>\n",
       "      <td>0</td>\n",
       "      <td>0</td>\n",
       "      <td>0</td>\n",
       "      <td>0</td>\n",
       "      <td>0</td>\n",
       "      <td>0</td>\n",
       "    </tr>\n",
       "  </tbody>\n",
       "</table>\n",
       "<p>5 rows × 42 columns</p>\n",
       "</div>"
      ],
      "text/plain": [
       "   age  balance  day  duration  campaign  pdays  previous  job_blue-collar  \\\n",
       "0   38      127   14       113         1     50         2                0   \n",
       "1   41      365    8       203         5     -1         0                0   \n",
       "2   39     2454    4       716         3    263         2                0   \n",
       "3   49     6215   11       549         1     -1         0                1   \n",
       "4   37     1694   29       404         2    251         6                0   \n",
       "\n",
       "   job_entrepreneur  job_housemaid  ...  month_jul  month_jun  month_mar  \\\n",
       "0                 0              0  ...          0          0          0   \n",
       "1                 0              1  ...          0          0          0   \n",
       "2                 0              0  ...          0          0          0   \n",
       "3                 0              0  ...          0          0          0   \n",
       "4                 0              0  ...          0          0          0   \n",
       "\n",
       "   month_may  month_nov  month_oct  month_sep  poutcome_other  \\\n",
       "0          0          0          1          0               0   \n",
       "1          0          0          0          0               0   \n",
       "2          1          0          0          0               0   \n",
       "3          1          0          0          0               0   \n",
       "4          0          0          0          0               0   \n",
       "\n",
       "   poutcome_success  poutcome_unknown  \n",
       "0                 1                 0  \n",
       "1                 0                 1  \n",
       "2                 0                 0  \n",
       "3                 0                 1  \n",
       "4                 0                 0  \n",
       "\n",
       "[5 rows x 42 columns]"
      ]
     },
     "execution_count": 31,
     "metadata": {},
     "output_type": "execute_result"
    }
   ],
   "source": [
    "X.head()"
   ]
  },
  {
   "cell_type": "markdown",
   "id": "NVIWNeI5yO9T",
   "metadata": {
    "id": "NVIWNeI5yO9T"
   },
   "source": [
    "**Feature Scaling**"
   ]
  },
  {
   "cell_type": "code",
   "execution_count": 32,
   "id": "0cAVh878kk2u",
   "metadata": {
    "executionInfo": {
     "elapsed": 151,
     "status": "ok",
     "timestamp": 1667803887350,
     "user": {
      "displayName": "ai dev",
      "userId": "10658999908990116858"
     },
     "user_tz": -300
    },
    "id": "0cAVh878kk2u"
   },
   "outputs": [],
   "source": [
    "from sklearn.preprocessing import MinMaxScaler\n",
    "\n",
    "sc_X = MinMaxScaler() \n",
    "X = sc_X.fit_transform(X)"
   ]
  },
  {
   "cell_type": "markdown",
   "id": "dQjsxMm_yR94",
   "metadata": {
    "id": "dQjsxMm_yR94"
   },
   "source": [
    "**Selecting Best 35 columns out of 40 using chi2 Test**"
   ]
  },
  {
   "cell_type": "code",
   "execution_count": 33,
   "id": "9_wL5W8VmwvD",
   "metadata": {
    "executionInfo": {
     "elapsed": 143,
     "status": "ok",
     "timestamp": 1667803887352,
     "user": {
      "displayName": "ai dev",
      "userId": "10658999908990116858"
     },
     "user_tz": -300
    },
    "id": "9_wL5W8VmwvD"
   },
   "outputs": [],
   "source": [
    "from sklearn.feature_selection import SelectKBest\n",
    "from sklearn.feature_selection import chi2\n",
    "test = SelectKBest(score_func=chi2, k=35)\n",
    "fit = test.fit(X, Y)\n",
    "X=test.fit_transform(X, Y)"
   ]
  },
  {
   "cell_type": "code",
   "execution_count": 34,
   "id": "ihPGYWa_ov5S",
   "metadata": {
    "colab": {
     "base_uri": "https://localhost:8080/"
    },
    "executionInfo": {
     "elapsed": 159,
     "status": "ok",
     "timestamp": 1667803887369,
     "user": {
      "displayName": "ai dev",
      "userId": "10658999908990116858"
     },
     "user_tz": -300
    },
    "id": "ihPGYWa_ov5S",
    "outputId": "f6e203be-744e-4141-caa2-226570f97961"
   },
   "outputs": [
    {
     "data": {
      "text/plain": [
       "35"
      ]
     },
     "execution_count": 34,
     "metadata": {},
     "output_type": "execute_result"
    }
   ],
   "source": [
    "len(X[0])"
   ]
  },
  {
   "cell_type": "markdown",
   "id": "rAgP8MOauIgP",
   "metadata": {
    "id": "rAgP8MOauIgP"
   },
   "source": [
    ".Logisitc Regression is our base model\n",
    "\n",
    ".Random Forest Classifier is our actual model"
   ]
  },
  {
   "cell_type": "code",
   "execution_count": 35,
   "id": "QMWM14tiupUI",
   "metadata": {
    "executionInfo": {
     "elapsed": 95,
     "status": "ok",
     "timestamp": 1667803887370,
     "user": {
      "displayName": "ai dev",
      "userId": "10658999908990116858"
     },
     "user_tz": -300
    },
    "id": "QMWM14tiupUI"
   },
   "outputs": [],
   "source": [
    "#from sklearn.svm import SVC\n",
    "from sklearn.linear_model import LogisticRegression\n",
    "from sklearn.ensemble import RandomForestClassifier \n",
    "\n",
    "lr = LogisticRegression()\n",
    "rf = RandomForestClassifier()\n"
   ]
  },
  {
   "cell_type": "markdown",
   "id": "HXacJKOxyatF",
   "metadata": {
    "id": "HXacJKOxyatF"
   },
   "source": [
    "**Cross Validation with Random Forest Classifier**"
   ]
  },
  {
   "cell_type": "code",
   "execution_count": 36,
   "id": "pajKzZPWusW9",
   "metadata": {
    "colab": {
     "base_uri": "https://localhost:8080/"
    },
    "executionInfo": {
     "elapsed": 3538,
     "status": "ok",
     "timestamp": 1667803890816,
     "user": {
      "displayName": "ai dev",
      "userId": "10658999908990116858"
     },
     "user_tz": -300
    },
    "id": "pajKzZPWusW9",
    "outputId": "3e3c3dd9-1f8f-4e0c-dc95-dd72a21b7943"
   },
   "outputs": [
    {
     "name": "stdout",
     "output_type": "stream",
     "text": [
      "[0.83701493 0.83452808 0.8213859  0.83632019 0.83930705]\n"
     ]
    }
   ],
   "source": [
    "from sklearn.model_selection import cross_val_score\n",
    "scores = cross_val_score(rf, X, Y, scoring='accuracy')\n",
    "print(scores)"
   ]
  },
  {
   "cell_type": "markdown",
   "id": "UYWre3sEyjS2",
   "metadata": {
    "id": "UYWre3sEyjS2"
   },
   "source": [
    "**Splitting our dataset into train and test**"
   ]
  },
  {
   "cell_type": "code",
   "execution_count": 37,
   "id": "m5K7QLtheGzK",
   "metadata": {
    "executionInfo": {
     "elapsed": 22,
     "status": "ok",
     "timestamp": 1667803890821,
     "user": {
      "displayName": "ai dev",
      "userId": "10658999908990116858"
     },
     "user_tz": -300
    },
    "id": "m5K7QLtheGzK"
   },
   "outputs": [],
   "source": [
    "from sklearn.model_selection import train_test_split\n",
    "x_train, x_test, y_train, y_test = train_test_split(X,Y, random_state = 42, test_size = 0.2)"
   ]
  },
  {
   "cell_type": "code",
   "execution_count": 40,
   "id": "e3825371",
   "metadata": {},
   "outputs": [
    {
     "name": "stdout",
     "output_type": "stream",
     "text": [
      "              precision    recall  f1-score   support\n",
      "\n",
      "           0       0.82      0.87      0.84       884\n",
      "           1       0.84      0.78      0.81       791\n",
      "\n",
      "    accuracy                           0.83      1675\n",
      "   macro avg       0.83      0.83      0.83      1675\n",
      "weighted avg       0.83      0.83      0.83      1675\n",
      "\n"
     ]
    },
    {
     "data": {
      "image/png": "[encoded data removed]",
      "text/plain": [
       "<Figure size 550x400 with 2 Axes>"
      ]
     },
     "metadata": {},
     "output_type": "display_data"
    }
   ],
   "source": [
    "from sklearn.metrics import confusion_matrix,classification_report,accuracy_score\n",
    "\n",
    "# Logistic Regression\n",
    "accuracy = []\n",
    "lr.fit(x_train, y_train)\n",
    "y_predict = lr.predict(x_test)\n",
    "accuracy.append(accuracy_score(y_predict,y_test))\n",
    "print(classification_report(y_test,y_predict))\n",
    "cm = confusion_matrix(y_test, y_predict)\n",
    "cm_df = pd.DataFrame(cm,\n",
    "                     index = ['No','Yes',], \n",
    "                     columns = ['No','Yes'])\n",
    "\n",
    "plt.figure(figsize=(5.5,4))\n",
    "sns.heatmap(cm_df, annot=True)\n",
    "plt.title(model)\n",
    "plt.ylabel('True label')\n",
    "plt.xlabel('Predicted label')\n",
    "plt.show()"
   ]
  },
  {
   "cell_type": "code",
   "execution_count": null,
   "id": "e34f74ea",
   "metadata": {},
   "outputs": [],
   "source": [
    "# Random Forest"
   ]
  },
  {
   "cell_type": "code",
   "execution_count": 38,
   "id": "UekBDtWAq2pj",
   "metadata": {
    "colab": {
     "base_uri": "https://localhost:8080/",
     "height": 990
    },
    "executionInfo": {
     "elapsed": 2617,
     "status": "ok",
     "timestamp": 1667803893418,
     "user": {
      "displayName": "ai dev",
      "userId": "10658999908990116858"
     },
     "user_tz": -300
    },
    "id": "UekBDtWAq2pj",
    "outputId": "1889dbe8-3e6b-4c62-e6c6-5c0c49817dea"
   },
   "outputs": [
    {
     "name": "stdout",
     "output_type": "stream",
     "text": [
      "*********************************** LogisticRegression() ***********************************\n",
      "+++++++++++++ ==================== Classification Report  LogisticRegression() ==================== \n",
      "              precision    recall  f1-score   support\n",
      "\n",
      "           0       0.82      0.87      0.84       884\n",
      "           1       0.84      0.78      0.81       791\n",
      "\n",
      "    accuracy                           0.83      1675\n",
      "   macro avg       0.83      0.83      0.83      1675\n",
      "weighted avg       0.83      0.83      0.83      1675\n",
      "\n",
      "+++++++++++++ ==================== Confusion Metrix of LogisticRegression() ==================== \n"
     ]
    },
    {
     "data": {
      "image/png": "[encoded data removed]",
      "text/plain": [
       "<Figure size 550x400 with 2 Axes>"
      ]
     },
     "metadata": {},
     "output_type": "display_data"
    },
    {
     "name": "stdout",
     "output_type": "stream",
     "text": [
      "*********************************** RandomForestClassifier() ***********************************\n",
      "+++++++++++++ ==================== Classification Report  RandomForestClassifier() ==================== \n",
      "              precision    recall  f1-score   support\n",
      "\n",
      "           0       0.86      0.83      0.85       884\n",
      "           1       0.82      0.85      0.84       791\n",
      "\n",
      "    accuracy                           0.84      1675\n",
      "   macro avg       0.84      0.84      0.84      1675\n",
      "weighted avg       0.84      0.84      0.84      1675\n",
      "\n",
      "+++++++++++++ ==================== Confusion Metrix of RandomForestClassifier() ==================== \n"
     ]
    },
    {
     "data": {
      "image/png": "[encoded data removed]",
      "text/plain": [
       "<Figure size 550x400 with 2 Axes>"
      ]
     },
     "metadata": {},
     "output_type": "display_data"
    }
   ],
   "source": [
    "from sklearn.metrics import confusion_matrix,classification_report,accuracy_score\n",
    "\n",
    "models = [lr ,rf]\n",
    "accuracy = []\n",
    "for model in models :\n",
    "  model.fit(x_train, y_train)\n",
    "# rfc.score(x_train, y_train)\n",
    "  y_predict = model.predict(x_test)\n",
    "  accuracy.append(accuracy_score(y_predict,y_test))\n",
    "  print(\"*\"*35,model,\"*\"*35)\n",
    "  print(f'+++++++++++++ {\"=\"*20} Classification Report  {model} {\"=\"*20} ')\n",
    "  print(classification_report(y_test,y_predict))\n",
    "\n",
    "  print(f'+++++++++++++ {\"=\"*20} Confusion Metrix of {model} {\"=\"*20} ')\n",
    "          \n",
    "  cm = confusion_matrix(y_test, y_predict) \n",
    "\n",
    "# # Transform to df for easier plotting\n",
    "  cm_df = pd.DataFrame(cm,\n",
    "                     index = ['No','Yes',], \n",
    "                     columns = ['No','Yes'])\n",
    "\n",
    "  plt.figure(figsize=(5.5,4))\n",
    "  sns.heatmap(cm_df, annot=True)\n",
    "  plt.title(model)\n",
    "  plt.ylabel('True label')\n",
    "  plt.xlabel('Predicted label')\n",
    "  plt.show()"
   ]
  },
  {
   "cell_type": "markdown",
   "id": "6dbFC1NCyrhk",
   "metadata": {
    "id": "6dbFC1NCyrhk"
   },
   "source": [
    "**Analyzing Results**"
   ]
  },
  {
   "cell_type": "code",
   "execution_count": 39,
   "id": "IOHauvQorRkF",
   "metadata": {
    "colab": {
     "base_uri": "https://localhost:8080/",
     "height": 112
    },
    "executionInfo": {
     "elapsed": 24,
     "status": "ok",
     "timestamp": 1667803893419,
     "user": {
      "displayName": "ai dev",
      "userId": "10658999908990116858"
     },
     "user_tz": -300
    },
    "id": "IOHauvQorRkF",
    "outputId": "669a4af8-105e-4da0-8f29-025533dd4c78"
   },
   "outputs": [
    {
     "data": {
      "text/html": [
       "<div>\n",
       "<style scoped>\n",
       "    .dataframe tbody tr th:only-of-type {\n",
       "        vertical-align: middle;\n",
       "    }\n",
       "\n",
       "    .dataframe tbody tr th {\n",
       "        vertical-align: top;\n",
       "    }\n",
       "\n",
       "    .dataframe thead th {\n",
       "        text-align: right;\n",
       "    }\n",
       "</style>\n",
       "<table border=\"1\" class=\"dataframe\">\n",
       "  <thead>\n",
       "    <tr style=\"text-align: right;\">\n",
       "      <th></th>\n",
       "      <th>Model</th>\n",
       "      <th>Accuracy</th>\n",
       "    </tr>\n",
       "  </thead>\n",
       "  <tbody>\n",
       "    <tr>\n",
       "      <th>0</th>\n",
       "      <td>Logistic Regression</td>\n",
       "      <td>0.828060</td>\n",
       "    </tr>\n",
       "    <tr>\n",
       "      <th>1</th>\n",
       "      <td>Random Forest Classifier</td>\n",
       "      <td>0.842388</td>\n",
       "    </tr>\n",
       "  </tbody>\n",
       "</table>\n",
       "</div>"
      ],
      "text/plain": [
       "                      Model  Accuracy\n",
       "0       Logistic Regression  0.828060\n",
       "1  Random Forest Classifier  0.842388"
      ]
     },
     "execution_count": 39,
     "metadata": {},
     "output_type": "execute_result"
    }
   ],
   "source": [
    "model_ev = pd.DataFrame({'Model': ['Logistic Regression', 'Random Forest Classifier'], 'Accuracy': accuracy})\n",
    "model_ev\n"
   ]
  },
  {
   "cell_type": "markdown",
   "id": "B3PiSfLSywIn",
   "metadata": {
    "id": "B3PiSfLSywIn"
   },
   "source": [
    "**How we can enhance accuracy of our base model and atual model**"
   ]
  },
  {
   "cell_type": "markdown",
   "id": "7UDCIoc1sbt1",
   "metadata": {
    "id": "7UDCIoc1sbt1"
   },
   "source": [
    "we are getting good accuracy on both models .Accuracy mean the quality or state of being correct or precise .Accuarcy of Logistic Regression model which is our baseline model is 83% and our actual model Random Forest whose accuracy is around 85% . If we want to increase the accuracy of Logistic Regression baseline model then we will have to do the hyper parameter tunning using \n",
    "\n",
    "GridSearchCV,\n",
    "\n",
    "RandomsizedSearch CV,\n",
    "\n",
    "HyperOpt-Sklearn etc, "
   ]
  },
  {
   "cell_type": "markdown",
   "id": "yffmRsm1zJp3",
   "metadata": {
    "id": "yffmRsm1zJp3"
   },
   "source": [
    "![t.png](data:image/png;base64,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)"
   ]
  }
 ],
 "metadata": {
  "colab": {
   "collapsed_sections": [],
   "provenance": []
  },
  "kernelspec": {
   "display_name": "Python 3 (ipykernel)",
   "language": "python",
   "name": "python3"
  },
  "language_info": {
   "codemirror_mode": {
    "name": "ipython",
    "version": 3
   },
   "file_extension": ".py",
   "mimetype": "text/x-python",
   "name": "python",
   "nbconvert_exporter": "python",
   "pygments_lexer": "ipython3",
   "version": "3.9.13"
  },
  "papermill": {
   "default_parameters": {},
   "duration": 31.012306,
   "end_time": "2022-10-21T07:28:20.188216",
   "environment_variables": {},
   "exception": null,
   "input_path": "__notebook__.ipynb",
   "output_path": "__notebook__.ipynb",
   "parameters": {},
   "start_time": "2022-10-21T07:27:49.175910",
   "version": "2.3.4"
  }
 },
 "nbformat": 4,
 "nbformat_minor": 5
}
