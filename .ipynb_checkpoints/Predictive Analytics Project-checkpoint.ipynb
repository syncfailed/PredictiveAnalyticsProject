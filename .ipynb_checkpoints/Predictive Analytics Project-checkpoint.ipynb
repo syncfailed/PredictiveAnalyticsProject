{
 "cells": [
  {
   "cell_type": "code",
   "execution_count": 3,
   "id": "ce26cbc9",
   "metadata": {},
   "outputs": [
    {
     "name": "stdout",
     "output_type": "stream",
     "text": [
      "D:\\Courses UD\\Predictive Analytics\\Predictive Analytics Project\n"
     ]
    }
   ],
   "source": [
    "%cd \"D:\\Courses UD\\Predictive Analytics\\PredictiveAnalyticsProject\""
   ]
  },
  {
   "cell_type": "code",
   "execution_count": 5,
   "id": "87461e0f",
   "metadata": {},
   "outputs": [],
   "source": [
    "import pandas as pd\n",
    "\n",
    "data = pd.read_csv('data.csv')"
   ]
  },
  {
   "cell_type": "code",
   "execution_count": 7,
   "id": "fbf61760",
   "metadata": {},
   "outputs": [],
   "source": [
    "y = data['deposit']\n",
    "X = data.drop(columns=['deposit'])"
   ]
  },
  {
   "cell_type": "code",
   "execution_count": 8,
   "id": "b12b4b01",
   "metadata": {},
   "outputs": [],
   "source": [
    "# Use sklearn to create train and test data sets\n",
    "\n",
    "from sklearn.model_selection import train_test_split\n",
    "\n",
    "X_train, X_test, y_train, y_test = train_test_split(X, y, random_state=0)"
   ]
  },
  {
   "cell_type": "code",
   "execution_count": null,
   "id": "a5a6dbc3",
   "metadata": {},
   "outputs": [],
   "source": []
  }
 ],
 "metadata": {
  "kernelspec": {
   "display_name": "Python 3 (ipykernel)",
   "language": "python",
   "name": "python3"
  },
  "language_info": {
   "codemirror_mode": {
    "name": "ipython",
    "version": 3
   },
   "file_extension": ".py",
   "mimetype": "text/x-python",
   "name": "python",
   "nbconvert_exporter": "python",
   "pygments_lexer": "ipython3",
   "version": "3.9.12"
  }
 },
 "nbformat": 4,
 "nbformat_minor": 5
}
